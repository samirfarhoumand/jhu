{
 "cells": [
  {
   "cell_type": "code",
   "execution_count": 1,
   "id": "0f0df3e3-1d4c-47f8-9b42-3490266eb2dc",
   "metadata": {},
   "outputs": [],
   "source": [
    "import warnings\n",
    "warnings.filterwarnings('ignore')"
   ]
  },
  {
   "cell_type": "markdown",
   "id": "d07938ab-3d1c-4a54-9d7d-23557cdf5856",
   "metadata": {},
   "source": [
    "# Body Fat - Model"
   ]
  },
  {
   "cell_type": "markdown",
   "id": "e084d6ec-ee64-4f39-b0a4-03a3a18f48b7",
   "metadata": {},
   "source": [
    "In this notebook we will:\n",
    "\n",
    "    * create a null model for the target variable, body fat, with error bounds.\n",
    "    * build and evaluate a linear model predicting body fat\n",
    "    * evaluate and compare both models\n",
    "    * make predictions using our linear model"
   ]
  },
  {
   "cell_type": "code",
   "execution_count": 2,
   "id": "b76c061e-1464-4d99-9c4f-95ee6c7729cd",
   "metadata": {},
   "outputs": [],
   "source": [
    "import numpy as np\n",
    "import random as random\n",
    "import numpy.random as np_random\n",
    "import time\n",
    "import seaborn as sns\n",
    "import matplotlib.pyplot as plt\n",
    "import pandas as pd\n",
    "import scipy.stats as stats\n",
    "from pprint import pprint\n",
    "import sqlite3\n",
    "import models \n",
    "\n",
    "sns.set(style=\"whitegrid\")"
   ]
  },
  {
   "cell_type": "markdown",
   "id": "ab236dc0-65ba-46f3-aaa1-bddd799c3d5e",
   "metadata": {},
   "source": [
    "## Null Model\n",
    "\n",
    "In body_fat_explore.ipynb, we conducted an EDA of our target variable, BodyFat, which is a numeric, ratio scaled variable measuring the body fat percentage of an individual. In this section, we will create the null model and error bounds, postulate the data generating story, and create a distributional model."
   ]
  },
  {
   "cell_type": "markdown",
   "id": "0db25877-f26d-4637-b6b4-1497182ec7e8",
   "metadata": {},
   "source": [
    "### Mean Model (or Null Model)\n",
    "\n",
    "We would like to predict the probability of a certain body fat percentage. We would like to penalize overestimates and underestimates the same. We would also like to penalize large errors more than small errors.\n",
    "This means we should use the mean which minimizes MSE loss.\n",
    "\n",
    "First, we will download the data and make sure it's been uploaded correctly. "
   ]
  },
  {
   "cell_type": "code",
   "execution_count": 3,
   "id": "09ef0648-97bd-4ec5-a1ea-4aa444018d39",
   "metadata": {},
   "outputs": [],
   "source": [
    "con = sqlite3.connect('bodyfat.db')"
   ]
  },
  {
   "cell_type": "code",
   "execution_count": 4,
   "id": "a63e13c0-4e0b-4703-a3db-b89110cbbc2c",
   "metadata": {},
   "outputs": [],
   "source": [
    "query = \"\"\"\n",
    "SELECT BodyFat\n",
    "FROM Body_Fat2\n",
    "\"\"\"\n",
    "bodyfat = pd.DataFrame(con.execute(query), columns = [\"BodyFat\"])"
   ]
  },
  {
   "cell_type": "markdown",
   "id": "b27165b6-b2b8-4faf-b64e-838b983bd9e3",
   "metadata": {},
   "source": [
    "We should have 251 non null rows."
   ]
  },
  {
   "cell_type": "code",
   "execution_count": 5,
   "id": "25a91d31-132e-4460-88ff-4492eaa8aed4",
   "metadata": {},
   "outputs": [
    {
     "name": "stdout",
     "output_type": "stream",
     "text": [
      "<class 'pandas.core.frame.DataFrame'>\n",
      "RangeIndex: 251 entries, 0 to 250\n",
      "Data columns (total 1 columns):\n",
      " #   Column   Non-Null Count  Dtype  \n",
      "---  ------   --------------  -----  \n",
      " 0   BodyFat  251 non-null    float64\n",
      "dtypes: float64(1)\n",
      "memory usage: 2.1 KB\n"
     ]
    }
   ],
   "source": [
    "bodyfat.info()"
   ]
  },
  {
   "cell_type": "markdown",
   "id": "2b6fb2be-ba36-4113-a574-399a5e6e66f7",
   "metadata": {},
   "source": [
    "To refresh our memory, let's replot the data"
   ]
  },
  {
   "cell_type": "code",
   "execution_count": 6,
   "id": "8513b40a-d6af-4fdd-ae41-0e57ef0a5a98",
   "metadata": {},
   "outputs": [
    {
     "data": {
      "image/png": "[encoded data removed]",
      "text/plain": [
       "<Figure size 720x432 with 1 Axes>"
      ]
     },
     "metadata": {},
     "output_type": "display_data"
    }
   ],
   "source": [
    "figure = plt.figure(figsize=(10, 6))\n",
    "\n",
    "axes = figure.add_subplot(1, 1, 1)\n",
    "axes.hist(bodyfat, color=\"darkslategray\")\n",
    "axes.set_title(\"Distribution of Body Fat (Default Bins)\")\n",
    "axes.set_xlabel(\"Body Fat Percent\")\n",
    "\n",
    "plt.show()\n",
    "plt.close()"
   ]
  },
  {
   "cell_type": "markdown",
   "id": "16da6ad6-b93b-4061-83e4-f446ba2b06a1",
   "metadata": {},
   "source": [
    "Again we can see the body fat is fairly symmetric with perhaps a right skew. As such, we can use a normal distribution to approximate it's distribution."
   ]
  },
  {
   "cell_type": "markdown",
   "id": "d8e29556-e4cd-49ff-8f60-9095ca1ea3dd",
   "metadata": {},
   "source": [
    "The mean body fat is:"
   ]
  },
  {
   "cell_type": "code",
   "execution_count": 7,
   "id": "39574de6-237e-4931-8caa-d75836b77ae4",
   "metadata": {},
   "outputs": [
    {
     "data": {
      "text/plain": [
       "18.835458167330682"
      ]
     },
     "execution_count": 7,
     "metadata": {},
     "output_type": "execute_result"
    }
   ],
   "source": [
    "bodyfat_predict = np.mean(bodyfat.BodyFat)\n",
    "bodyfat_predict"
   ]
  },
  {
   "cell_type": "markdown",
   "id": "2af1ddb6-083e-4843-ba01-897ff542ec0b",
   "metadata": {},
   "source": [
    "Looking at random men in this sample, we can predict that a given person will have 18.8% body fat.\n",
    "\n",
    "What about the error bounds?\n",
    "The standard deviation of body fat percentage is:"
   ]
  },
  {
   "cell_type": "code",
   "execution_count": 8,
   "id": "6b5b2841-1555-463f-9d71-b2ac918bdecf",
   "metadata": {},
   "outputs": [
    {
     "data": {
      "text/plain": [
       "7.7553617032765425"
      ]
     },
     "execution_count": 8,
     "metadata": {},
     "output_type": "execute_result"
    }
   ],
   "source": [
    "np.std(bodyfat.BodyFat)"
   ]
  },
  {
   "cell_type": "markdown",
   "id": "7bcb609c-2640-49c6-814c-749540ee53e0",
   "metadata": {},
   "source": [
    "Since body fat distribution is approximately normal and symmetric, we will use the typical the error bounds of 1.96 to cover 95% of the data. "
   ]
  },
  {
   "cell_type": "code",
   "execution_count": 9,
   "id": "358573b9-f95b-4d41-838e-82e1de39cfe4",
   "metadata": {},
   "outputs": [
    {
     "data": {
      "text/plain": [
       "15.200508938422024"
      ]
     },
     "execution_count": 9,
     "metadata": {},
     "output_type": "execute_result"
    }
   ],
   "source": [
    "bodyfat_error = np.std(bodyfat.BodyFat)*1.96\n",
    "bodyfat_error"
   ]
  },
  {
   "cell_type": "code",
   "execution_count": 10,
   "id": "123a977c-b970-49dc-b400-c0bc9b9122b0",
   "metadata": {},
   "outputs": [
    {
     "data": {
      "text/plain": [
       "(18.835458167330682, 3.634949228908658, 34.035967105752704)"
      ]
     },
     "execution_count": 10,
     "metadata": {},
     "output_type": "execute_result"
    }
   ],
   "source": [
    "bodyfat_predict, bodyfat_predict - bodyfat_error, bodyfat_predict + bodyfat_error"
   ]
  },
  {
   "cell_type": "markdown",
   "id": "52ac0b1c-0aee-4bc9-a0a9-0fd643ea601e",
   "metadata": {},
   "source": [
    "We predict that a (random) man will have 18.8% BF (on average) with an error of up to 15.2% 95% of the time, ranging from 3.6% to 34%."
   ]
  },
  {
   "cell_type": "markdown",
   "id": "ab6b3607-e482-496b-9b4e-ef4099a20a2c",
   "metadata": {},
   "source": [
    "### Data Generating Story\n",
    "\n",
    "We suspect that Body Fat percentage is determined by a number of factors including environment, genetics, food, epigenetics, and exercise. We should therefore expect its distribution to approximate a normal one, bearing in mind we cannot have a negative body fat percentage.  "
   ]
  },
  {
   "cell_type": "markdown",
   "id": "1146ce7c-d30d-4637-981e-1bdbc1558a53",
   "metadata": {},
   "source": [
    "### Distributional Model\n",
    "\n",
    "We don't just want to predict the typical body fat percent of a male in our sample, therefore, we'll use a mathematical distribution as a model.\n",
    "We can then use the distributional model to make some predictions about body fat percentages.\n",
    "Based on the EDA and the discussion of the Data Generating Story, a Normal distribution is likely to be a good model for the data.\n",
    "We've already calculated the first and second moments of the data.\n",
    "The Normal distribution has two pararmeters which are, respectively, the first and second moments of the empirical distribution."
   ]
  },
  {
   "cell_type": "markdown",
   "id": "0d95b157-150c-4f93-9827-aac13bb88566",
   "metadata": {},
   "source": [
    "Let's plot the Normal distribution over the data:"
   ]
  },
  {
   "cell_type": "code",
   "execution_count": 11,
   "id": "b367fa21-b85e-46bf-9735-dbc54047f2cd",
   "metadata": {},
   "outputs": [],
   "source": [
    "from scipy.stats import norm"
   ]
  },
  {
   "cell_type": "code",
   "execution_count": 12,
   "id": "3a1dea8f-1f5a-4aec-a943-608dbf2e3612",
   "metadata": {},
   "outputs": [
    {
     "data": {
      "image/png": "[encoded data removed]",
      "text/plain": [
       "<Figure size 720x432 with 1 Axes>"
      ]
     },
     "metadata": {},
     "output_type": "display_data"
    }
   ],
   "source": [
    "figure = plt.figure(figsize=(10,6))\n",
    "\n",
    "axes = figure.add_subplot(1, 1, 1)\n",
    "n, bins, patches = axes.hist(bodyfat.BodyFat, color=\"DimGray\", density=True, bins=11, alpha=0.75)\n",
    "axes.set_xlabel( \"Percent\")\n",
    "axes.set_ylabel( \"Density\")\n",
    "axes.set_title(\"Density Histogram of Body Fat % with Normal plot\")\n",
    "\n",
    "xs = [(b2 + b1)/2 for b1, b2 in zip(bins, bins[1:])]    \n",
    "\n",
    "bodyfat_mean = np.mean(bodyfat.BodyFat)\n",
    "bodyfat_std  = np.std(bodyfat.BodyFat)\n",
    "ys = [norm.pdf( k, loc=bodyfat_mean, scale=bodyfat_std) for k in xs]\n",
    "axes.plot(xs, ys, color=\"darkred\")\n",
    "\n",
    "plt.show()\n",
    "plt.close()"
   ]
  },
  {
   "cell_type": "code",
   "execution_count": 13,
   "id": "0dbbca27-1fbf-468e-b94c-16feda1bd122",
   "metadata": {},
   "outputs": [
    {
     "data": {
      "image/png": "[encoded data removed]",
      "text/plain": [
       "<Figure size 1440x576 with 2 Axes>"
      ]
     },
     "metadata": {},
     "output_type": "display_data"
    }
   ],
   "source": [
    "figure = plt.figure(figsize=(20, 8))\n",
    "\n",
    "bf_mn = np.min(bodyfat.BodyFat)\n",
    "bf_mx = np.max(bodyfat.BodyFat)\n",
    "mean = np.mean(bodyfat.BodyFat)\n",
    "std = np.std(bodyfat.BodyFat)\n",
    "\n",
    "axes = figure.add_subplot(1, 2, 1)\n",
    "\n",
    "values, base = np.histogram(bodyfat.BodyFat, bins=11, density=True)\n",
    "cumulative = np.cumsum(values)\n",
    "axes.plot(base[:-1], cumulative, color=\"steelblue\")\n",
    "axes.set_xlim((bf_mn, bf_mx))\n",
    "\n",
    "sampled_data = [mean + r * std for r in np.random.standard_normal(10000)]\n",
    "values2, base = np.histogram(sampled_data, bins=base, density=True)\n",
    "cumulative2 = np.cumsum(values2)\n",
    "axes.plot( base[:-1], cumulative2, color=\"firebrick\")\n",
    "axes.set_xlim((bf_mn, bf_mx))\n",
    "axes.set_xlabel( \"Empirical v. Theoretical: Normal Distribution\")\n",
    "\n",
    "axes = figure.add_subplot(1, 2, 2)\n",
    "\n",
    "differences = cumulative2 - cumulative\n",
    "axes.plot(base[:-1], differences, color='firebrick')\n",
    "axes.set_xlim((bf_mn, bf_mx))\n",
    "axes.hlines(0, 0, 14000, linestyles=\"dotted\")\n",
    "axes.set_xlabel( \"Empirical v. Theoretical: Normal Distribution, Difference\")\n",
    "\n",
    "plt.show()\n",
    "plt.close()"
   ]
  },
  {
   "cell_type": "markdown",
   "id": "bace8ef1-5149-4345-82d0-7733509b3078",
   "metadata": {},
   "source": [
    "The blue line (Normal distribution) looks like a pretty good (smooth) approximation of the red line (Empirical distribution)."
   ]
  },
  {
   "cell_type": "markdown",
   "id": "53d49ee3-44ac-40cc-89bf-a345bb9df2a9",
   "metadata": {},
   "source": [
    "The model will predict more men with body fat near the mean, and fewer people that are between 5% and 15%, but by a miniscule amount from .006% to .004%. "
   ]
  },
  {
   "cell_type": "markdown",
   "id": "61c62fc1-f59a-4ba7-ac95-ef408ab0bac7",
   "metadata": {},
   "source": [
    "## Linear Models"
   ]
  },
  {
   "cell_type": "markdown",
   "id": "a3c9f77f-b176-45bd-a76a-5e3248894c76",
   "metadata": {},
   "source": [
    "### Build the Model"
   ]
  },
  {
   "cell_type": "markdown",
   "id": "6a3fddf9-73b5-411a-8ac9-d8bd28cb7ea9",
   "metadata": {},
   "source": [
    "Let's review the EDA.\n",
    "\n",
    "The data contains a 13 variables that all follow (or approximate) a normal distribution. \n",
    "\n",
    "* Age - Normal distribution, approximates US population triangle\n",
    "* Weight (lbs)  - Normal distribution, right skew\n",
    "* Height (in)  - Normal distribution, approximates US distribution \n",
    "* Neck Circumference (cm) - Normal distribution, right skew\n",
    "* Chest Circumference (cm) - Normal distribution, right skew \n",
    "* Abdomen Circumference (cm) - Normal distribution, right skew\n",
    "* Hip Circumference (cm) - Normal distribution, right skew    \n",
    "* Thigh Circumference (cm) - Normal distribution, right skew   \n",
    "* Knee Circumference (cm) - Normal distribution, right skew   \n",
    "* Ankle Circumference (cm) - Normal distribution, right skew  \n",
    "* Biceps Circumference (cm)  - Normal distribution, right skew    \n",
    "* Forearm Circumference (cm) - Normal distribution, right skew     \n",
    "* Wrist Circumference (cm )- Normal distribution, right skew \n",
    "\n",
    "*All of the skews consist off long tails on the right*\n",
    "\n",
    "We also have many features:\n",
    "\n",
    "* Abdomen Circumference to Height (ATH)       \n",
    "* Abdomen Circumference to Hip (aka Waist to Hip) (ABTH)\n",
    "* BMI\n",
    "* Chest Circumference to Height (CTH)\n",
    "* Hip Circumference to Height (HTH)\n",
    "* Thigh Circumference to Height (TTH)\n",
    "* Knee Circumference to Height (KTH)\n",
    "* Biceps Circumference to Height (BTH)\n",
    "* Neck Circumference to Height (NTH)\n",
    "* Forearm Circumference to Height (FTH)\n",
    "* Wrist Circumference to Height (WTH)\n",
    "* Ankle Circumference to Height (AKTH)\n",
    "    \n",
    "For the features, there's nothing that particularly stands out as needing our attention.\n",
    "\n",
    "Let's load the data:"
   ]
  },
  {
   "cell_type": "code",
   "execution_count": 14,
   "id": "fb02890c-46c3-4475-9aec-e97796066e4d",
   "metadata": {},
   "outputs": [
    {
     "name": "stdout",
     "output_type": "stream",
     "text": [
      "<class 'pandas.core.frame.DataFrame'>\n",
      "RangeIndex: 251 entries, 0 to 250\n",
      "Data columns (total 26 columns):\n",
      " #   Column   Non-Null Count  Dtype  \n",
      "---  ------   --------------  -----  \n",
      " 0   BodyFat  251 non-null    float64\n",
      " 1   Age      251 non-null    int64  \n",
      " 2   Weight   251 non-null    float64\n",
      " 3   Height   251 non-null    float64\n",
      " 4   Neck     251 non-null    float64\n",
      " 5   Chest    251 non-null    float64\n",
      " 6   Abdomen  251 non-null    float64\n",
      " 7   Hip      251 non-null    float64\n",
      " 8   Thigh    251 non-null    float64\n",
      " 9   Knee     251 non-null    float64\n",
      " 10  Ankle    251 non-null    float64\n",
      " 11  Biceps   251 non-null    float64\n",
      " 12  Forearm  251 non-null    float64\n",
      " 13  Wrist    251 non-null    float64\n",
      " 14  ATH      251 non-null    float64\n",
      " 15  ABTH     251 non-null    float64\n",
      " 16  BMI      251 non-null    float64\n",
      " 17  CTH      251 non-null    float64\n",
      " 18  HTH      251 non-null    float64\n",
      " 19  TTH      251 non-null    float64\n",
      " 20  KTH      251 non-null    float64\n",
      " 21  BTH      251 non-null    float64\n",
      " 22  NTH      251 non-null    float64\n",
      " 23  FTH      251 non-null    float64\n",
      " 24  WTH      251 non-null    float64\n",
      " 25  AKTH     251 non-null    float64\n",
      "dtypes: float64(25), int64(1)\n",
      "memory usage: 51.1 KB\n"
     ]
    }
   ],
   "source": [
    "query = \"\"\"\n",
    "SELECT Age, Weight, Height, Neck, Chest, Abdomen, Hip, Thigh, Knee, Ankle, Biceps, Forearm,\n",
    "        Wrist, ATH, ABTH, BMI, CTH, HTH, TTH, KTH, BTH, NTH, FTH, WTH, AKTH\n",
    "FROM Body_Fat2\n",
    "\"\"\"\n",
    "data = pd.DataFrame(con.execute(query), columns = [\"Age\", \"Weight\", \"Height\", \"Neck\", \"Chest\", \n",
    "                                                   \"Abdomen\", \"Hip\", \"Thigh\", \"Knee\", \"Ankle\", \n",
    "                                                   \"Biceps\", \"Forearm\", \"Wrist\", \"ATH\", \"ABTH\", \n",
    "                                                   \"BMI\", \"CTH\", \"HTH\", \"TTH\", \"KTH\", \"BTH\", \n",
    "                                                   \"NTH\", \"FTH\", \"WTH\", \"AKTH\"])\n",
    "bodyfat = pd.concat([bodyfat, data], axis = 1)\n",
    "bodyfat.info()"
   ]
  },
  {
   "cell_type": "markdown",
   "id": "f3557767-826e-4d5c-8bb4-5ec07e58ebc0",
   "metadata": {},
   "source": [
    "Let's review our pairwise EDA with the target variable, body fat:\n",
    "\n",
    "* Age - no relationship\n",
    "* Weight - definite positive, linear relationship\n",
    "* Height - no relationship \n",
    "* Neck Circumference - definite positive relationship, possibly nonlinear though unlikely\n",
    "* Chest Circumference - definite positive, linear relationship\n",
    "* Abdomen Circumference - definite positive, linear relationship\n",
    "* Hip Circumference - definite positive, linear relationship\n",
    "* Thigh Circumference - definite positive, linear relationship  \n",
    "* Knee Circumference - definite positive, linear relationship      \n",
    "* Ankle Circumference - no relationship or hard to see \n",
    "* Biceps Circumference - weak positive, linear relationship    \n",
    "* Forearm Circumference - weak positive, linear relationship     \n",
    "* Wrist Circumference - weak positive, linear relationship    \n",
    "\n",
    "And for the derived features:\n",
    "* Abdomen Circumference to Height - definite positive, linear relationship   \n",
    "* Abdomen Circumference to Hip - definite positive, linear relationship\n",
    "* BMI - definite positive, linear relationship\n",
    "* Chest Circumference to Height - definite positive, nonlinear relationship\n",
    "* Hip Circumference to Height - definite positive, nonlinear relationship\n",
    "* Thigh Circumference to Height - definite positive, nonlinear relationship\n",
    "* Knee Circumference to Height - weak positive, nonlinear relationship\n",
    "* Biceps Circumference to Height - definite positive, linear relationnship\n",
    "* Neck Circumference to Height - definite positive, possibly nonlinear though unlikley\n",
    "* Forearm Circumference to Height - very weak positive, linear relationship\n",
    "* Wrist Circumference to Height - weak positive, linear relationship\n",
    "* Ankle Circumference to Height - very weak positive or hard to see   \n",
    "\n",
    "Since we've decided to use a linear model, it is much more important to look at the correlation coefficients between each variable and the target. We'll use the helper function available in Lab 10."
   ]
  },
  {
   "cell_type": "code",
   "execution_count": 15,
   "id": "0dd5517e-43ee-45d9-9a2d-b962709f4474",
   "metadata": {},
   "outputs": [],
   "source": [
    "def correlations(data, y, xs):\n",
    "    rs = []\n",
    "    rhos = []\n",
    "    for x in xs:\n",
    "        r = stats.pearsonr(data[y], data[x])[0]\n",
    "        rs.append(r)\n",
    "        rho = stats.spearmanr(data[y], data[x])[0]\n",
    "        rhos.append(rho)\n",
    "    df = pd.DataFrame({\"feature\": xs, \"r\": rs, \"rho\": rhos})\n",
    "    return df.sort_values(by = \"r\", ascending = False)"
   ]
  },
  {
   "cell_type": "code",
   "execution_count": 16,
   "id": "c12c82a5-1cb3-4ccc-9399-d07f6759e090",
   "metadata": {},
   "outputs": [
    {
     "data": {
      "text/html": [
       "<div>\n",
       "<style scoped>\n",
       "    .dataframe tbody tr th:only-of-type {\n",
       "        vertical-align: middle;\n",
       "    }\n",
       "\n",
       "    .dataframe tbody tr th {\n",
       "        vertical-align: top;\n",
       "    }\n",
       "\n",
       "    .dataframe thead th {\n",
       "        text-align: right;\n",
       "    }\n",
       "</style>\n",
       "<table border=\"1\" class=\"dataframe\">\n",
       "  <thead>\n",
       "    <tr style=\"text-align: right;\">\n",
       "      <th></th>\n",
       "      <th>feature</th>\n",
       "      <th>r</th>\n",
       "      <th>rho</th>\n",
       "    </tr>\n",
       "  </thead>\n",
       "  <tbody>\n",
       "    <tr>\n",
       "      <th>13</th>\n",
       "      <td>ATH</td>\n",
       "      <td>0.825028</td>\n",
       "      <td>0.828111</td>\n",
       "    </tr>\n",
       "    <tr>\n",
       "      <th>5</th>\n",
       "      <td>Abdomen</td>\n",
       "      <td>0.800852</td>\n",
       "      <td>0.806139</td>\n",
       "    </tr>\n",
       "    <tr>\n",
       "      <th>14</th>\n",
       "      <td>ABTH</td>\n",
       "      <td>0.774810</td>\n",
       "      <td>0.775936</td>\n",
       "    </tr>\n",
       "    <tr>\n",
       "      <th>15</th>\n",
       "      <td>BMI</td>\n",
       "      <td>0.715955</td>\n",
       "      <td>0.715689</td>\n",
       "    </tr>\n",
       "    <tr>\n",
       "      <th>16</th>\n",
       "      <td>CTH</td>\n",
       "      <td>0.708139</td>\n",
       "      <td>0.683683</td>\n",
       "    </tr>\n",
       "    <tr>\n",
       "      <th>4</th>\n",
       "      <td>Chest</td>\n",
       "      <td>0.684783</td>\n",
       "      <td>0.661329</td>\n",
       "    </tr>\n",
       "    <tr>\n",
       "      <th>17</th>\n",
       "      <td>HTH</td>\n",
       "      <td>0.675899</td>\n",
       "      <td>0.668377</td>\n",
       "    </tr>\n",
       "    <tr>\n",
       "      <th>6</th>\n",
       "      <td>Hip</td>\n",
       "      <td>0.606416</td>\n",
       "      <td>0.596797</td>\n",
       "    </tr>\n",
       "    <tr>\n",
       "      <th>18</th>\n",
       "      <td>TTH</td>\n",
       "      <td>0.602889</td>\n",
       "      <td>0.584981</td>\n",
       "    </tr>\n",
       "    <tr>\n",
       "      <th>1</th>\n",
       "      <td>Weight</td>\n",
       "      <td>0.593961</td>\n",
       "      <td>0.598986</td>\n",
       "    </tr>\n",
       "    <tr>\n",
       "      <th>19</th>\n",
       "      <td>KTH</td>\n",
       "      <td>0.593680</td>\n",
       "      <td>0.575945</td>\n",
       "    </tr>\n",
       "    <tr>\n",
       "      <th>7</th>\n",
       "      <td>Thigh</td>\n",
       "      <td>0.546165</td>\n",
       "      <td>0.532388</td>\n",
       "    </tr>\n",
       "    <tr>\n",
       "      <th>20</th>\n",
       "      <td>BTH</td>\n",
       "      <td>0.533317</td>\n",
       "      <td>0.516299</td>\n",
       "    </tr>\n",
       "    <tr>\n",
       "      <th>21</th>\n",
       "      <td>NTH</td>\n",
       "      <td>0.517883</td>\n",
       "      <td>0.493071</td>\n",
       "    </tr>\n",
       "    <tr>\n",
       "      <th>8</th>\n",
       "      <td>Knee</td>\n",
       "      <td>0.488182</td>\n",
       "      <td>0.474649</td>\n",
       "    </tr>\n",
       "    <tr>\n",
       "      <th>10</th>\n",
       "      <td>Biceps</td>\n",
       "      <td>0.486627</td>\n",
       "      <td>0.487639</td>\n",
       "    </tr>\n",
       "    <tr>\n",
       "      <th>3</th>\n",
       "      <td>Neck</td>\n",
       "      <td>0.480975</td>\n",
       "      <td>0.487441</td>\n",
       "    </tr>\n",
       "    <tr>\n",
       "      <th>22</th>\n",
       "      <td>FTH</td>\n",
       "      <td>0.389408</td>\n",
       "      <td>0.400879</td>\n",
       "    </tr>\n",
       "    <tr>\n",
       "      <th>23</th>\n",
       "      <td>WTH</td>\n",
       "      <td>0.375193</td>\n",
       "      <td>0.338745</td>\n",
       "    </tr>\n",
       "    <tr>\n",
       "      <th>11</th>\n",
       "      <td>Forearm</td>\n",
       "      <td>0.352201</td>\n",
       "      <td>0.385698</td>\n",
       "    </tr>\n",
       "    <tr>\n",
       "      <th>12</th>\n",
       "      <td>Wrist</td>\n",
       "      <td>0.333153</td>\n",
       "      <td>0.311037</td>\n",
       "    </tr>\n",
       "    <tr>\n",
       "      <th>24</th>\n",
       "      <td>AKTH</td>\n",
       "      <td>0.310892</td>\n",
       "      <td>0.315429</td>\n",
       "    </tr>\n",
       "    <tr>\n",
       "      <th>0</th>\n",
       "      <td>Age</td>\n",
       "      <td>0.280386</td>\n",
       "      <td>0.264686</td>\n",
       "    </tr>\n",
       "    <tr>\n",
       "      <th>9</th>\n",
       "      <td>Ankle</td>\n",
       "      <td>0.263505</td>\n",
       "      <td>0.294730</td>\n",
       "    </tr>\n",
       "    <tr>\n",
       "      <th>2</th>\n",
       "      <td>Height</td>\n",
       "      <td>-0.041302</td>\n",
       "      <td>-0.002357</td>\n",
       "    </tr>\n",
       "  </tbody>\n",
       "</table>\n",
       "</div>"
      ],
      "text/plain": [
       "    feature         r       rho\n",
       "13      ATH  0.825028  0.828111\n",
       "5   Abdomen  0.800852  0.806139\n",
       "14     ABTH  0.774810  0.775936\n",
       "15      BMI  0.715955  0.715689\n",
       "16      CTH  0.708139  0.683683\n",
       "4     Chest  0.684783  0.661329\n",
       "17      HTH  0.675899  0.668377\n",
       "6       Hip  0.606416  0.596797\n",
       "18      TTH  0.602889  0.584981\n",
       "1    Weight  0.593961  0.598986\n",
       "19      KTH  0.593680  0.575945\n",
       "7     Thigh  0.546165  0.532388\n",
       "20      BTH  0.533317  0.516299\n",
       "21      NTH  0.517883  0.493071\n",
       "8      Knee  0.488182  0.474649\n",
       "10   Biceps  0.486627  0.487639\n",
       "3      Neck  0.480975  0.487441\n",
       "22      FTH  0.389408  0.400879\n",
       "23      WTH  0.375193  0.338745\n",
       "11  Forearm  0.352201  0.385698\n",
       "12    Wrist  0.333153  0.311037\n",
       "24     AKTH  0.310892  0.315429\n",
       "0       Age  0.280386  0.264686\n",
       "9     Ankle  0.263505  0.294730\n",
       "2    Height -0.041302 -0.002357"
      ]
     },
     "execution_count": 16,
     "metadata": {},
     "output_type": "execute_result"
    }
   ],
   "source": [
    "correlations(bodyfat, \"BodyFat\", [\"Age\", \"Weight\", \"Height\", \"Neck\", \"Chest\", \n",
    "                                                   \"Abdomen\", \"Hip\", \"Thigh\", \"Knee\", \"Ankle\", \n",
    "                                                   \"Biceps\", \"Forearm\", \"Wrist\", \"ATH\", \"ABTH\", \n",
    "                                                   \"BMI\", \"CTH\", \"HTH\", \"TTH\", \"KTH\", \"BTH\", \n",
    "                                                   \"NTH\", \"FTH\", \"WTH\", \"AKTH\"])"
   ]
  },
  {
   "cell_type": "markdown",
   "id": "7d8664a2-f655-4f4a-92e3-29cf7410a35d",
   "metadata": {},
   "source": [
    "There are some interesting results here:\n",
    "\n",
    "1. height - there is absolutely no relationship by itself but as soon as we \"scale\" some body circumferences some go from having mild correlations to slightly stronger correlations.\n",
    "2. age - also a poor correlator\n",
    "3. ankle, AKTH, wrist, forearm, WTH, FTH, neck, biceps, knee, BTH, NTH - are the weaker relationships. When scaled by height they improve but their overall correlation is less than 60%\n",
    "4. thigh, KTH, weight, TTH, Hip, HTH, Chest, CTH - are all moderate correlators (less than 70%)\n",
    "5. BMI, ABTH, Abdomen, and ATH - are all the strongest correlators (70% and up)\n",
    "6. All the pearson's and spearman's are about the same, suggesting that if a relationship exists its linear. \n",
    "\n",
    "There are no variables that have a large difference in their Pearson's and Spearman's correlation. \n",
    "\n",
    "Before estimating any linear models, let's look at the Null model (the mean):"
   ]
  },
  {
   "cell_type": "code",
   "execution_count": 17,
   "id": "83ad5dd4-73c6-4cf8-a1f8-203e5e4f8c38",
   "metadata": {},
   "outputs": [
    {
     "data": {
      "text/plain": [
       "count    251.000000\n",
       "mean      18.835458\n",
       "std        7.770857\n",
       "min        0.000000\n",
       "25%       12.700000\n",
       "50%       19.000000\n",
       "75%       24.550000\n",
       "max       45.100000\n",
       "Name: BodyFat, dtype: float64"
      ]
     },
     "execution_count": 17,
     "metadata": {},
     "output_type": "execute_result"
    }
   ],
   "source": [
    "bodyfat.BodyFat.describe()"
   ]
  },
  {
   "cell_type": "markdown",
   "id": "410429c6-eb20-4ccb-be64-53e70b10e626",
   "metadata": {},
   "source": [
    "The lowest body fat is 0% and the highest is 45%. The mean is 18% with a standard deviation of 7.7708%. \n",
    "\n",
    "This is what we're trying to beat by creating a linear regression model (of course, we may also be interested in explanation as well).\n",
    "\n",
    "We have a long ride ahead of so let's begin."
   ]
  },
  {
   "cell_type": "markdown",
   "id": "f12c916d-0f4e-4a09-91f4-943da3d1ac4e",
   "metadata": {},
   "source": [
    "The best place to start, in general, is the \"all in\" model. Let's just begin with the simple measurements (without the features). We have domain knowledge and some statistics to support the inclusion of all the variables."
   ]
  },
  {
   "cell_type": "code",
   "execution_count": 18,
   "id": "1bf05061-e0d9-416f-9cfc-020e820d9968",
   "metadata": {},
   "outputs": [
    {
     "data": {
      "text/html": [
       "<p><strong>Model: BodyFat ~ Age + Weight + Height + Neck +Chest +Abdomen +Hip + Thigh +Knee +Ankle+\n",
       "        Biceps + Forearm + Wrist</strong><br/><table>\n",
       "<tbody>\n",
       "<tr><td>                             </td><td>                     </td><td>                     </td><td><strong>95% BCI</strong</td><td>                   </td></tr>\n",
       "<tr><td><strong>Coefficients</strong</td><td>                     </td><td><strong>Mean</strong</td><td><strong>Lo</strong     </td><td><strong>Hi</strong</td></tr>\n",
       "<tr><td>                             </td><td>$\\beta_{0}$          </td><td>-12.50               </td><td>-54.12                  </td><td>45.36              </td></tr>\n",
       "<tr><td>Age                          </td><td>$\\beta_{1}$          </td><td>0.05                 </td><td>0.00                    </td><td>0.10               </td></tr>\n",
       "<tr><td>Weight                       </td><td>$\\beta_{2}$          </td><td>-0.09                </td><td>-0.21                   </td><td>0.08               </td></tr>\n",
       "<tr><td>Height                       </td><td>$\\beta_{3}$          </td><td>-0.03                </td><td>-0.22                   </td><td>0.11               </td></tr>\n",
       "<tr><td>Neck                         </td><td>$\\beta_{4}$          </td><td>-0.43                </td><td>-0.92                   </td><td>-0.06              </td></tr>\n",
       "<tr><td>Chest                        </td><td>$\\beta_{5}$          </td><td>-0.06                </td><td>-0.30                   </td><td>0.14               </td></tr>\n",
       "<tr><td>Abdomen                      </td><td>$\\beta_{6}$          </td><td>0.93                 </td><td>0.75                    </td><td>1.08               </td></tr>\n",
       "<tr><td>Hip                          </td><td>$\\beta_{7}$          </td><td>-0.22                </td><td>-0.55                   </td><td>0.07               </td></tr>\n",
       "<tr><td>Thigh                        </td><td>$\\beta_{8}$          </td><td>0.23                 </td><td>-0.07                   </td><td>0.43               </td></tr>\n",
       "<tr><td>Knee                         </td><td>$\\beta_{9}$          </td><td>0.00                 </td><td>-0.27                   </td><td>0.39               </td></tr>\n",
       "<tr><td>Ankle                        </td><td>$\\beta_{10}$         </td><td>0.26                 </td><td>-0.16                   </td><td>0.78               </td></tr>\n",
       "<tr><td>Biceps                       </td><td>$\\beta_{11}$         </td><td>0.23                 </td><td>-0.12                   </td><td>0.53               </td></tr>\n",
       "<tr><td>Forearm                      </td><td>$\\beta_{12}$         </td><td>0.41                 </td><td>0.05                    </td><td>0.85               </td></tr>\n",
       "<tr><td>Wrist                        </td><td>$\\beta_{13}$         </td><td>-1.64                </td><td>-2.80                   </td><td>-0.50              </td></tr>\n",
       "<tr><td>                             </td><td>                     </td><td>                     </td><td>                        </td><td>                   </td></tr>\n",
       "<tr><td><strong>Metrics</strong     </td><td><strong>Mean</strong</td><td><strong>Lo</strong  </td><td><strong>Hi</strong     </td><td>                   </td></tr>\n",
       "<tr><td>$\\sigma$                     </td><td>4.07                 </td><td>3.66                 </td><td>4.33                    </td><td>                   </td></tr>\n",
       "<tr><td>$R^2$                        </td><td>0.74                 </td><td>0.70                 </td><td>0.80                    </td><td>                   </td></tr>\n",
       "</tbody>\n",
       "</table></p>"
      ],
      "text/latex": [
       "\\textbf{Model: BodyFat $\\sim$ Age + Weight + Height + Neck +Chest +Abdomen +Hip + Thigh +Knee +Ankle+\n",
       "        Biceps + Forearm + Wrist}\n",
       "\n",
       "\\begin{tabular}{lllll}\n",
       "\\toprule\n",
       "                       &               &               & \\textbf{95\\% BCI} &             \\\\\n",
       " \\textbf{Coefficients} &               & \\textbf{Mean} & \\textbf{Lo}      & \\textbf{Hi} \\\\\n",
       "                       & $\\beta_{0}$   & -12.50        & -54.12           & 45.36       \\\\\n",
       " Age                   & $\\beta_{1}$   & 0.05          & 0.00             & 0.10        \\\\\n",
       " Weight                & $\\beta_{2}$   & -0.09         & -0.21            & 0.08        \\\\\n",
       " Height                & $\\beta_{3}$   & -0.03         & -0.22            & 0.11        \\\\\n",
       " Neck                  & $\\beta_{4}$   & -0.43         & -0.92            & -0.06       \\\\\n",
       " Chest                 & $\\beta_{5}$   & -0.06         & -0.30            & 0.14        \\\\\n",
       " Abdomen               & $\\beta_{6}$   & 0.93          & 0.75             & 1.08        \\\\\n",
       " Hip                   & $\\beta_{7}$   & -0.22         & -0.55            & 0.07        \\\\\n",
       " Thigh                 & $\\beta_{8}$   & 0.23          & -0.07            & 0.43        \\\\\n",
       " Knee                  & $\\beta_{9}$   & 0.00          & -0.27            & 0.39        \\\\\n",
       " Ankle                 & $\\beta_{10}$  & 0.26          & -0.16            & 0.78        \\\\\n",
       " Biceps                & $\\beta_{11}$  & 0.23          & -0.12            & 0.53        \\\\\n",
       " Forearm               & $\\beta_{12}$  & 0.41          & 0.05             & 0.85        \\\\\n",
       " Wrist                 & $\\beta_{13}$  & -1.64         & -2.80            & -0.50       \\\\\n",
       "                       &               &               &                  &             \\\\\n",
       " \\textbf{Metrics}      & \\textbf{Mean} & \\textbf{Lo}   & \\textbf{Hi}      &             \\\\\n",
       " $\\sigma$              & 4.07          & 3.66          & 4.33             &             \\\\\n",
       " $R^2$                 & 0.74          & 0.70          & 0.80             &             \\\\\n",
       "\\bottomrule\n",
       "\\end{tabular}"
      ],
      "text/markdown": [
       "Model: BodyFat ~ Age + Weight + Height + Neck +Chest +Abdomen +Hip + Thigh +Knee +Ankle+\n",
       "        Biceps + Forearm + Wrist\n",
       "|------------------|--------------|----------|-------------|--------|\n",
       "|                  |              |          | **95% BCI** |        |\n",
       "| **Coefficients** |              | **Mean** | **Lo**      | **Hi** |\n",
       "|                  | $\\beta_{0}$  | -12.50   | -54.12      | 45.36  |\n",
       "| Age              | $\\beta_{1}$  | 0.05     | 0.00        | 0.10   |\n",
       "| Weight           | $\\beta_{2}$  | -0.09    | -0.21       | 0.08   |\n",
       "| Height           | $\\beta_{3}$  | -0.03    | -0.22       | 0.11   |\n",
       "| Neck             | $\\beta_{4}$  | -0.43    | -0.92       | -0.06  |\n",
       "| Chest            | $\\beta_{5}$  | -0.06    | -0.30       | 0.14   |\n",
       "| Abdomen          | $\\beta_{6}$  | 0.93     | 0.75        | 1.08   |\n",
       "| Hip              | $\\beta_{7}$  | -0.22    | -0.55       | 0.07   |\n",
       "| Thigh            | $\\beta_{8}$  | 0.23     | -0.07       | 0.43   |\n",
       "| Knee             | $\\beta_{9}$  | 0.00     | -0.27       | 0.39   |\n",
       "| Ankle            | $\\beta_{10}$ | 0.26     | -0.16       | 0.78   |\n",
       "| Biceps           | $\\beta_{11}$ | 0.23     | -0.12       | 0.53   |\n",
       "| Forearm          | $\\beta_{12}$ | 0.41     | 0.05        | 0.85   |\n",
       "| Wrist            | $\\beta_{13}$ | -1.64    | -2.80       | -0.50  |\n",
       "|                  |              |          |             |        |\n",
       "| **Metrics**      | **Mean**     | **Lo**   | **Hi**      |        |\n",
       "| $\\sigma$         | 4.07         | 3.66     | 4.33        |        |\n",
       "| $R^2$            | 0.74         | 0.70     | 0.80        |        |"
      ],
      "text/plain": [
       "<models.ResultsWrapper at 0x7f84e0599970>"
      ]
     },
     "execution_count": 18,
     "metadata": {},
     "output_type": "execute_result"
    }
   ],
   "source": [
    "random.seed(1)\n",
    "model = \"\"\"BodyFat ~ Age + Weight + Height + Neck +Chest +Abdomen +Hip + Thigh +Knee +Ankle+\n",
    "        Biceps + Forearm + Wrist\"\"\"\n",
    "result1 = models.bootstrap_linear_regression(model, data= bodyfat)\n",
    "models.describe_bootstrap_lr(result1)"
   ]
  },
  {
   "cell_type": "markdown",
   "id": "e73870d9-f40a-4e39-a4ca-51742b3170f1",
   "metadata": {},
   "source": [
    "The correlation coefficient is 74% which is pretty good. The error ($\\sigma$) has been cut almost in half compared to the Null model 7.77 to 4.07.\n",
    "\n",
    "What about the coefficients?\n",
    "\n",
    "* The intercept isn't particularly interesting here because no such person exists.\n",
    "\n",
    "There are a lot of coefficients so let's separate them into categories.\n",
    "\n",
    "Strong Support (CI does not include 0):\n",
    "* Age (+)\n",
    "* Abdomen (+)\n",
    "* Forearm (+)\n",
    "* Wrist (-)\n",
    "* Neck (-)\n",
    "\n",
    "Mixed Support\n",
    "* Weight (-)\n",
    "* Height (-)\n",
    "* Chest (-)\n",
    "* Hip (-)\n",
    "* Knee (0)\n",
    "* Ankle (+)\n",
    "* Biceps (+)\n",
    "* Thigh (+)\n",
    "\n",
    "A lot of these variables don't seem to make much sense, especially all the negative correlators. I suspect there is so much multicolinearity in this model, that we're getting weird values. Before moving on, let's check the residuals using the code provided in fundamentals:"
   ]
  },
  {
   "cell_type": "code",
   "execution_count": 19,
   "id": "4edbe2e5-fbc7-40fc-a432-a53151243d8a",
   "metadata": {},
   "outputs": [],
   "source": [
    "def plot_residuals(data, result, variables):\n",
    "    figure = plt.figure(figsize=(20,20))\n",
    "\n",
    "    plots = len( variables)\n",
    "    rows = (plots // 3) + 1\n",
    "\n",
    "    residuals = np.array([r[0] for r in result[\"residuals\"]])\n",
    "    limits = max(np.abs(residuals.min()), residuals.max())\n",
    "    \n",
    "    n = result[\"n\"]\n",
    "    for i, variable in enumerate( variables):\n",
    "        axes = figure.add_subplot(rows, 3, i + 1)\n",
    "\n",
    "        keyed_values = sorted(zip(data[variable].values, residuals), key=lambda x: x[ 0])\n",
    "        ordered_residuals = [x[ 1] for x in keyed_values]\n",
    "\n",
    "        axes.plot(list(range(0, n)), ordered_residuals, '.', color=\"dimgray\", alpha=0.75)\n",
    "        axes.axhline(y=0.0, xmin=0, xmax=n, c=\"firebrick\", alpha=0.5)\n",
    "        axes.set_ylim((-limits, limits))\n",
    "        axes.set_ylabel(\"residuals\")\n",
    "        axes.set_xlabel(variable)\n",
    "\n",
    "    plt.show()\n",
    "    plt.close()\n",
    "    \n",
    "    return residuals"
   ]
  },
  {
   "cell_type": "code",
   "execution_count": 20,
   "id": "b913ef71-65ea-481c-bb71-3a4cf3816ba1",
   "metadata": {},
   "outputs": [
    {
     "data": {
      "image/png": "[encoded data removed]",
      "text/plain": [
       "<Figure size 1440x1440 with 13 Axes>"
      ]
     },
     "metadata": {},
     "output_type": "display_data"
    }
   ],
   "source": [
    "result1_residuals = plot_residuals(bodyfat, result1, [\"Age\", \"Height\", \"Weight\", \"Neck\",\n",
    "                                                  \"Chest\", \"Abdomen\", \"Hip\", \"Thigh\",\n",
    "                                                  \"Knee\", \"Ankle\", \"Biceps\", \"Forearm\",\n",
    "                                                  \"Wrist\"])"
   ]
  },
  {
   "cell_type": "markdown",
   "id": "17c47349-7ba6-485c-b8c1-386ec84fcd76",
   "metadata": {},
   "source": [
    "We detect no issues with any of the variables. They all seem to be centered around zero with constant variance. It doesn't seem we would need to transform any to confirm to OLS assumptions. Now let's check the overall residual."
   ]
  },
  {
   "cell_type": "code",
   "execution_count": 21,
   "id": "c642fc14-51c4-46d7-9970-05c6d64958ed",
   "metadata": {},
   "outputs": [],
   "source": [
    "def plot_residual(result):\n",
    "    figure = plt.figure(figsize=(20,6))\n",
    "\n",
    "    residuals = np.array([r[0] for r in result[\"residuals\"]])\n",
    "    limits = max(np.abs(residuals.min()), residuals.max())\n",
    "    \n",
    "    axes = figure.add_subplot(1,1,1)\n",
    "    n = result[\"n\"]\n",
    "    axes.scatter( result[\"y_hat\"], result[\"residuals\"], marker=\"o\", color=\"darkslategray\")\n",
    "       \n",
    "    axes.axhline(y=0.0, xmin=0, xmax=n, c=\"firebrick\", alpha=0.5)\n",
    "    axes.set_ylim((-limits, limits))\n",
    "    axes.set_ylabel(\"residuals\")\n",
    "    axes.set_xlabel(\"fitted value\")\n",
    "\n",
    "    plt.show()\n",
    "    plt.close()"
   ]
  },
  {
   "cell_type": "code",
   "execution_count": 22,
   "id": "8b4833a5-c959-405c-8fc1-4223da14d53e",
   "metadata": {},
   "outputs": [
    {
     "data": {
      "image/png": "[encoded data removed]",
      "text/plain": [
       "<Figure size 1440x432 with 1 Axes>"
      ]
     },
     "metadata": {},
     "output_type": "display_data"
    }
   ],
   "source": [
    "plot_residual(result1)"
   ]
  },
  {
   "cell_type": "markdown",
   "id": "dc388f0d-34fb-49d6-957c-ec0e7822b924",
   "metadata": {},
   "source": [
    "It seems we have constant variance with errors centered around 0 as well. \n",
    "\n",
    "In our EDA we scaled many of the variables by the persons height in order to account for size differences not due to body fat but due to the body frame. We will go through every variable one by one and see if the scaled version decreases $\\sigma$. If so, we will use the scaled version and if not we will use the regular version. \n",
    "\n",
    "Let's begin by scaling Abdomen by Height:"
   ]
  },
  {
   "cell_type": "code",
   "execution_count": 23,
   "id": "8133bd2f-d6c3-4045-a2fd-b9c9bbddc68c",
   "metadata": {},
   "outputs": [
    {
     "data": {
      "text/html": [
       "<p><strong>Model: BodyFat ~ Age + Weight + Height + Neck +Chest + ATH +Hip + Thigh +Knee +Ankle+\n",
       "        Biceps + Forearm + Wrist</strong><br/><table>\n",
       "<tbody>\n",
       "<tr><td>                             </td><td>                     </td><td>                     </td><td><strong>95% BCI</strong</td><td>                   </td></tr>\n",
       "<tr><td><strong>Coefficients</strong</td><td>                     </td><td><strong>Mean</strong</td><td><strong>Lo</strong     </td><td><strong>Hi</strong</td></tr>\n",
       "<tr><td>                             </td><td>$\\beta_{0}$          </td><td>-89.42               </td><td>-139.39                 </td><td>-32.14             </td></tr>\n",
       "<tr><td>Age                          </td><td>$\\beta_{1}$          </td><td>0.05                 </td><td>-0.01                   </td><td>0.11               </td></tr>\n",
       "<tr><td>Weight                       </td><td>$\\beta_{2}$          </td><td>-0.07                </td><td>-0.19                   </td><td>0.08               </td></tr>\n",
       "<tr><td>Height                       </td><td>$\\beta_{3}$          </td><td>0.43                 </td><td>0.22                    </td><td>0.58               </td></tr>\n",
       "<tr><td>Neck                         </td><td>$\\beta_{4}$          </td><td>-0.43                </td><td>-0.78                   </td><td>-0.06              </td></tr>\n",
       "<tr><td>Chest                        </td><td>$\\beta_{5}$          </td><td>-0.10                </td><td>-0.27                   </td><td>0.08               </td></tr>\n",
       "<tr><td>ATH                          </td><td>$\\beta_{6}$          </td><td>165.25               </td><td>133.59                  </td><td>196.95             </td></tr>\n",
       "<tr><td>Hip                          </td><td>$\\beta_{7}$          </td><td>-0.27                </td><td>-0.51                   </td><td>0.06               </td></tr>\n",
       "<tr><td>Thigh                        </td><td>$\\beta_{8}$          </td><td>0.23                 </td><td>0.05                    </td><td>0.48               </td></tr>\n",
       "<tr><td>Knee                         </td><td>$\\beta_{9}$          </td><td>0.06                 </td><td>-0.35                   </td><td>0.40               </td></tr>\n",
       "<tr><td>Ankle                        </td><td>$\\beta_{10}$         </td><td>0.23                 </td><td>-0.52                   </td><td>0.61               </td></tr>\n",
       "<tr><td>Biceps                       </td><td>$\\beta_{11}$         </td><td>0.24                 </td><td>-0.11                   </td><td>0.51               </td></tr>\n",
       "<tr><td>Forearm                      </td><td>$\\beta_{12}$         </td><td>0.37                 </td><td>-0.03                   </td><td>0.68               </td></tr>\n",
       "<tr><td>Wrist                        </td><td>$\\beta_{13}$         </td><td>-1.66                </td><td>-2.64                   </td><td>-0.53              </td></tr>\n",
       "<tr><td>                             </td><td>                     </td><td>                     </td><td>                        </td><td>                   </td></tr>\n",
       "<tr><td><strong>Metrics</strong     </td><td><strong>Mean</strong</td><td><strong>Lo</strong  </td><td><strong>Hi</strong     </td><td>                   </td></tr>\n",
       "<tr><td>$\\sigma$                     </td><td>4.04                 </td><td>3.58                 </td><td>4.31                    </td><td>                   </td></tr>\n",
       "<tr><td>$R^2$                        </td><td>0.74                 </td><td>0.72                 </td><td>0.80                    </td><td>                   </td></tr>\n",
       "</tbody>\n",
       "</table></p>"
      ],
      "text/latex": [
       "\\textbf{Model: BodyFat $\\sim$ Age + Weight + Height + Neck +Chest + ATH +Hip + Thigh +Knee +Ankle+\n",
       "        Biceps + Forearm + Wrist}\n",
       "\n",
       "\\begin{tabular}{lllll}\n",
       "\\toprule\n",
       "                       &               &               & \\textbf{95\\% BCI} &             \\\\\n",
       " \\textbf{Coefficients} &               & \\textbf{Mean} & \\textbf{Lo}      & \\textbf{Hi} \\\\\n",
       "                       & $\\beta_{0}$   & -89.42        & -139.39          & -32.14      \\\\\n",
       " Age                   & $\\beta_{1}$   & 0.05          & -0.01            & 0.11        \\\\\n",
       " Weight                & $\\beta_{2}$   & -0.07         & -0.19            & 0.08        \\\\\n",
       " Height                & $\\beta_{3}$   & 0.43          & 0.22             & 0.58        \\\\\n",
       " Neck                  & $\\beta_{4}$   & -0.43         & -0.78            & -0.06       \\\\\n",
       " Chest                 & $\\beta_{5}$   & -0.10         & -0.27            & 0.08        \\\\\n",
       " ATH                   & $\\beta_{6}$   & 165.25        & 133.59           & 196.95      \\\\\n",
       " Hip                   & $\\beta_{7}$   & -0.27         & -0.51            & 0.06        \\\\\n",
       " Thigh                 & $\\beta_{8}$   & 0.23          & 0.05             & 0.48        \\\\\n",
       " Knee                  & $\\beta_{9}$   & 0.06          & -0.35            & 0.40        \\\\\n",
       " Ankle                 & $\\beta_{10}$  & 0.23          & -0.52            & 0.61        \\\\\n",
       " Biceps                & $\\beta_{11}$  & 0.24          & -0.11            & 0.51        \\\\\n",
       " Forearm               & $\\beta_{12}$  & 0.37          & -0.03            & 0.68        \\\\\n",
       " Wrist                 & $\\beta_{13}$  & -1.66         & -2.64            & -0.53       \\\\\n",
       "                       &               &               &                  &             \\\\\n",
       " \\textbf{Metrics}      & \\textbf{Mean} & \\textbf{Lo}   & \\textbf{Hi}      &             \\\\\n",
       " $\\sigma$              & 4.04          & 3.58          & 4.31             &             \\\\\n",
       " $R^2$                 & 0.74          & 0.72          & 0.80             &             \\\\\n",
       "\\bottomrule\n",
       "\\end{tabular}"
      ],
      "text/markdown": [
       "Model: BodyFat ~ Age + Weight + Height + Neck +Chest + ATH +Hip + Thigh +Knee +Ankle+\n",
       "        Biceps + Forearm + Wrist\n",
       "|------------------|--------------|----------|-------------|--------|\n",
       "|                  |              |          | **95% BCI** |        |\n",
       "| **Coefficients** |              | **Mean** | **Lo**      | **Hi** |\n",
       "|                  | $\\beta_{0}$  | -89.42   | -139.39     | -32.14 |\n",
       "| Age              | $\\beta_{1}$  | 0.05     | -0.01       | 0.11   |\n",
       "| Weight           | $\\beta_{2}$  | -0.07    | -0.19       | 0.08   |\n",
       "| Height           | $\\beta_{3}$  | 0.43     | 0.22        | 0.58   |\n",
       "| Neck             | $\\beta_{4}$  | -0.43    | -0.78       | -0.06  |\n",
       "| Chest            | $\\beta_{5}$  | -0.10    | -0.27       | 0.08   |\n",
       "| ATH              | $\\beta_{6}$  | 165.25   | 133.59      | 196.95 |\n",
       "| Hip              | $\\beta_{7}$  | -0.27    | -0.51       | 0.06   |\n",
       "| Thigh            | $\\beta_{8}$  | 0.23     | 0.05        | 0.48   |\n",
       "| Knee             | $\\beta_{9}$  | 0.06     | -0.35       | 0.40   |\n",
       "| Ankle            | $\\beta_{10}$ | 0.23     | -0.52       | 0.61   |\n",
       "| Biceps           | $\\beta_{11}$ | 0.24     | -0.11       | 0.51   |\n",
       "| Forearm          | $\\beta_{12}$ | 0.37     | -0.03       | 0.68   |\n",
       "| Wrist            | $\\beta_{13}$ | -1.66    | -2.64       | -0.53  |\n",
       "|                  |              |          |             |        |\n",
       "| **Metrics**      | **Mean**     | **Lo**   | **Hi**      |        |\n",
       "| $\\sigma$         | 4.04         | 3.58     | 4.31        |        |\n",
       "| $R^2$            | 0.74         | 0.72     | 0.80        |        |"
      ],
      "text/plain": [
       "<models.ResultsWrapper at 0x7f84d1625ac0>"
      ]
     },
     "execution_count": 23,
     "metadata": {},
     "output_type": "execute_result"
    }
   ],
   "source": [
    "random.seed(2)\n",
    "model = \"\"\"BodyFat ~ Age + Weight + Height + Neck +Chest + ATH +Hip + Thigh +Knee +Ankle+\n",
    "        Biceps + Forearm + Wrist\"\"\"\n",
    "result2 = models.bootstrap_linear_regression(model, data= bodyfat)\n",
    "models.describe_bootstrap_lr(result2)"
   ]
  },
  {
   "cell_type": "code",
   "execution_count": 24,
   "id": "b5fae373-b93a-45ac-9754-47a59bc5aae5",
   "metadata": {},
   "outputs": [
    {
     "name": "stdout",
     "output_type": "stream",
     "text": [
      "0.7233096534162536\n",
      "0.7275944659343915\n"
     ]
    }
   ],
   "source": [
    "print(models.adjusted_r_squared(result1))\n",
    "print(models.adjusted_r_squared(result2))"
   ]
  },
  {
   "cell_type": "markdown",
   "id": "7b477aeb-3f9e-4e82-b59b-c7c0194c195a",
   "metadata": {},
   "source": [
    "We can see that scaling Abdomen decresed $\\sigma$ from 4.07 to 4.04, kept $R^2$ at .74 and increased *adjusted* $R^2$ from .727 to .723. We will keep this scaled version. Now let's try changing Chest to Chest to Height Ratio."
   ]
  },
  {
   "cell_type": "code",
   "execution_count": 25,
   "id": "d9a58e64-3f54-42c0-8215-a7712ae58fbb",
   "metadata": {},
   "outputs": [
    {
     "data": {
      "text/html": [
       "<p><strong>Model: BodyFat ~ Age + Weight + Height + Neck + CTH + ATH +Hip + Thigh +Knee +Ankle+\n",
       "        Biceps + Forearm + Wrist</strong><br/><table>\n",
       "<tbody>\n",
       "<tr><td>                             </td><td>                     </td><td>                     </td><td><strong>95% BCI</strong</td><td>                   </td></tr>\n",
       "<tr><td><strong>Coefficients</strong</td><td>                     </td><td><strong>Mean</strong</td><td><strong>Lo</strong     </td><td><strong>Hi</strong</td></tr>\n",
       "<tr><td>                             </td><td>$\\beta_{0}$          </td><td>-82.10               </td><td>-142.10                 </td><td>-3.62              </td></tr>\n",
       "<tr><td>Age                          </td><td>$\\beta_{1}$          </td><td>0.05                 </td><td>0.00                    </td><td>0.12               </td></tr>\n",
       "<tr><td>Weight                       </td><td>$\\beta_{2}$          </td><td>-0.07                </td><td>-0.20                   </td><td>0.10               </td></tr>\n",
       "<tr><td>Height                       </td><td>$\\beta_{3}$          </td><td>0.38                 </td><td>0.08                    </td><td>0.57               </td></tr>\n",
       "<tr><td>Neck                         </td><td>$\\beta_{4}$          </td><td>-0.43                </td><td>-0.84                   </td><td>-0.07              </td></tr>\n",
       "<tr><td>CTH                          </td><td>$\\beta_{5}$          </td><td>-15.40               </td><td>-58.44                  </td><td>22.10              </td></tr>\n",
       "<tr><td>ATH                          </td><td>$\\beta_{6}$          </td><td>165.21               </td><td>132.02                  </td><td>192.55             </td></tr>\n",
       "<tr><td>Hip                          </td><td>$\\beta_{7}$          </td><td>-0.27                </td><td>-0.51                   </td><td>0.03               </td></tr>\n",
       "<tr><td>Thigh                        </td><td>$\\beta_{8}$          </td><td>0.23                 </td><td>-0.01                   </td><td>0.45               </td></tr>\n",
       "<tr><td>Knee                         </td><td>$\\beta_{9}$          </td><td>0.06                 </td><td>-0.39                   </td><td>0.46               </td></tr>\n",
       "<tr><td>Ankle                        </td><td>$\\beta_{10}$         </td><td>0.23                 </td><td>-0.25                   </td><td>0.57               </td></tr>\n",
       "<tr><td>Biceps                       </td><td>$\\beta_{11}$         </td><td>0.24                 </td><td>-0.07                   </td><td>0.59               </td></tr>\n",
       "<tr><td>Forearm                      </td><td>$\\beta_{12}$         </td><td>0.38                 </td><td>0.01                    </td><td>0.68               </td></tr>\n",
       "<tr><td>Wrist                        </td><td>$\\beta_{13}$         </td><td>-1.66                </td><td>-2.65                   </td><td>-0.64              </td></tr>\n",
       "<tr><td>                             </td><td>                     </td><td>                     </td><td>                        </td><td>                   </td></tr>\n",
       "<tr><td><strong>Metrics</strong     </td><td><strong>Mean</strong</td><td><strong>Lo</strong  </td><td><strong>Hi</strong     </td><td>                   </td></tr>\n",
       "<tr><td>$\\sigma$                     </td><td>4.04                 </td><td>3.52                 </td><td>4.21                    </td><td>                   </td></tr>\n",
       "<tr><td>$R^2$                        </td><td>0.74                 </td><td>0.69                 </td><td>0.80                    </td><td>                   </td></tr>\n",
       "</tbody>\n",
       "</table></p>"
      ],
      "text/latex": [
       "\\textbf{Model: BodyFat $\\sim$ Age + Weight + Height + Neck + CTH + ATH +Hip + Thigh +Knee +Ankle+\n",
       "        Biceps + Forearm + Wrist}\n",
       "\n",
       "\\begin{tabular}{lllll}\n",
       "\\toprule\n",
       "                       &               &               & \\textbf{95\\% BCI} &             \\\\\n",
       " \\textbf{Coefficients} &               & \\textbf{Mean} & \\textbf{Lo}      & \\textbf{Hi} \\\\\n",
       "                       & $\\beta_{0}$   & -82.10        & -142.10          & -3.62       \\\\\n",
       " Age                   & $\\beta_{1}$   & 0.05          & 0.00             & 0.12        \\\\\n",
       " Weight                & $\\beta_{2}$   & -0.07         & -0.20            & 0.10        \\\\\n",
       " Height                & $\\beta_{3}$   & 0.38          & 0.08             & 0.57        \\\\\n",
       " Neck                  & $\\beta_{4}$   & -0.43         & -0.84            & -0.07       \\\\\n",
       " CTH                   & $\\beta_{5}$   & -15.40        & -58.44           & 22.10       \\\\\n",
       " ATH                   & $\\beta_{6}$   & 165.21        & 132.02           & 192.55      \\\\\n",
       " Hip                   & $\\beta_{7}$   & -0.27         & -0.51            & 0.03        \\\\\n",
       " Thigh                 & $\\beta_{8}$   & 0.23          & -0.01            & 0.45        \\\\\n",
       " Knee                  & $\\beta_{9}$   & 0.06          & -0.39            & 0.46        \\\\\n",
       " Ankle                 & $\\beta_{10}$  & 0.23          & -0.25            & 0.57        \\\\\n",
       " Biceps                & $\\beta_{11}$  & 0.24          & -0.07            & 0.59        \\\\\n",
       " Forearm               & $\\beta_{12}$  & 0.38          & 0.01             & 0.68        \\\\\n",
       " Wrist                 & $\\beta_{13}$  & -1.66         & -2.65            & -0.64       \\\\\n",
       "                       &               &               &                  &             \\\\\n",
       " \\textbf{Metrics}      & \\textbf{Mean} & \\textbf{Lo}   & \\textbf{Hi}      &             \\\\\n",
       " $\\sigma$              & 4.04          & 3.52          & 4.21             &             \\\\\n",
       " $R^2$                 & 0.74          & 0.69          & 0.80             &             \\\\\n",
       "\\bottomrule\n",
       "\\end{tabular}"
      ],
      "text/markdown": [
       "Model: BodyFat ~ Age + Weight + Height + Neck + CTH + ATH +Hip + Thigh +Knee +Ankle+\n",
       "        Biceps + Forearm + Wrist\n",
       "|------------------|--------------|----------|-------------|--------|\n",
       "|                  |              |          | **95% BCI** |        |\n",
       "| **Coefficients** |              | **Mean** | **Lo**      | **Hi** |\n",
       "|                  | $\\beta_{0}$  | -82.10   | -142.10     | -3.62  |\n",
       "| Age              | $\\beta_{1}$  | 0.05     | 0.00        | 0.12   |\n",
       "| Weight           | $\\beta_{2}$  | -0.07    | -0.20       | 0.10   |\n",
       "| Height           | $\\beta_{3}$  | 0.38     | 0.08        | 0.57   |\n",
       "| Neck             | $\\beta_{4}$  | -0.43    | -0.84       | -0.07  |\n",
       "| CTH              | $\\beta_{5}$  | -15.40   | -58.44      | 22.10  |\n",
       "| ATH              | $\\beta_{6}$  | 165.21   | 132.02      | 192.55 |\n",
       "| Hip              | $\\beta_{7}$  | -0.27    | -0.51       | 0.03   |\n",
       "| Thigh            | $\\beta_{8}$  | 0.23     | -0.01       | 0.45   |\n",
       "| Knee             | $\\beta_{9}$  | 0.06     | -0.39       | 0.46   |\n",
       "| Ankle            | $\\beta_{10}$ | 0.23     | -0.25       | 0.57   |\n",
       "| Biceps           | $\\beta_{11}$ | 0.24     | -0.07       | 0.59   |\n",
       "| Forearm          | $\\beta_{12}$ | 0.38     | 0.01        | 0.68   |\n",
       "| Wrist            | $\\beta_{13}$ | -1.66    | -2.65       | -0.64  |\n",
       "|                  |              |          |             |        |\n",
       "| **Metrics**      | **Mean**     | **Lo**   | **Hi**      |        |\n",
       "| $\\sigma$         | 4.04         | 3.52     | 4.21        |        |\n",
       "| $R^2$            | 0.74         | 0.69     | 0.80        |        |"
      ],
      "text/plain": [
       "<models.ResultsWrapper at 0x7f84d1613d30>"
      ]
     },
     "execution_count": 25,
     "metadata": {},
     "output_type": "execute_result"
    }
   ],
   "source": [
    "random.seed(3)\n",
    "model = \"\"\"BodyFat ~ Age + Weight + Height + Neck + CTH + ATH +Hip + Thigh +Knee +Ankle+\n",
    "        Biceps + Forearm + Wrist\"\"\"\n",
    "result3 = models.bootstrap_linear_regression(model, data= bodyfat)\n",
    "models.describe_bootstrap_lr(result3)"
   ]
  },
  {
   "cell_type": "code",
   "execution_count": 26,
   "id": "4f00e7e0-aed6-4d29-834f-a0d8cb98dce7",
   "metadata": {},
   "outputs": [
    {
     "name": "stdout",
     "output_type": "stream",
     "text": [
      "0.7275944659343915\n",
      "0.7274343776018182\n"
     ]
    }
   ],
   "source": [
    "print(models.adjusted_r_squared(result2))\n",
    "print(models.adjusted_r_squared(result3))"
   ]
  },
  {
   "cell_type": "markdown",
   "id": "02668c82-0081-428c-8577-f3272653c66a",
   "metadata": {},
   "source": [
    "We can see that scaling Chest kept $\\sigma$ unchanged 4.04, kept $R^2$ at .74 and  *adjusted* $R^2$ at .727. We will keep this unscaled version. Now let's try changing Hip to Hip/Height"
   ]
  },
  {
   "cell_type": "code",
   "execution_count": 27,
   "id": "8b20d699-dd65-4f88-b555-8851e9eb83b2",
   "metadata": {},
   "outputs": [
    {
     "data": {
      "text/html": [
       "<p><strong>Model: BodyFat ~ Age + Weight + Height + Neck + Chest + ATH + HTH + Thigh +Knee +Ankle+\n",
       "        Biceps + Forearm + Wrist</strong><br/><table>\n",
       "<tbody>\n",
       "<tr><td>                             </td><td>                     </td><td>                     </td><td><strong>95% BCI</strong</td><td>                   </td></tr>\n",
       "<tr><td><strong>Coefficients</strong</td><td>                     </td><td><strong>Mean</strong</td><td><strong>Lo</strong     </td><td><strong>Hi</strong</td></tr>\n",
       "<tr><td>                             </td><td>$\\beta_{0}$          </td><td>-70.24               </td><td>-143.40                 </td><td>-16.30             </td></tr>\n",
       "<tr><td>Age                          </td><td>$\\beta_{1}$          </td><td>0.05                 </td><td>-0.01                   </td><td>0.10               </td></tr>\n",
       "<tr><td>Weight                       </td><td>$\\beta_{2}$          </td><td>-0.08                </td><td>-0.19                   </td><td>0.06               </td></tr>\n",
       "<tr><td>Height                       </td><td>$\\beta_{3}$          </td><td>0.30                 </td><td>0.09                    </td><td>0.58               </td></tr>\n",
       "<tr><td>Neck                         </td><td>$\\beta_{4}$          </td><td>-0.42                </td><td>-0.85                   </td><td>-0.03              </td></tr>\n",
       "<tr><td>Chest                        </td><td>$\\beta_{5}$          </td><td>-0.09                </td><td>-0.33                   </td><td>0.08               </td></tr>\n",
       "<tr><td>ATH                          </td><td>$\\beta_{6}$          </td><td>165.35               </td><td>138.70                  </td><td>195.12             </td></tr>\n",
       "<tr><td>HTH                          </td><td>$\\beta_{7}$          </td><td>-41.72               </td><td>-79.55                  </td><td>1.78               </td></tr>\n",
       "<tr><td>Thigh                        </td><td>$\\beta_{8}$          </td><td>0.22                 </td><td>-0.06                   </td><td>0.50               </td></tr>\n",
       "<tr><td>Knee                         </td><td>$\\beta_{9}$          </td><td>0.05                 </td><td>-0.27                   </td><td>0.47               </td></tr>\n",
       "<tr><td>Ankle                        </td><td>$\\beta_{10}$         </td><td>0.24                 </td><td>-0.25                   </td><td>0.69               </td></tr>\n",
       "<tr><td>Biceps                       </td><td>$\\beta_{11}$         </td><td>0.24                 </td><td>-0.05                   </td><td>0.59               </td></tr>\n",
       "<tr><td>Forearm                      </td><td>$\\beta_{12}$         </td><td>0.39                 </td><td>0.03                    </td><td>0.76               </td></tr>\n",
       "<tr><td>Wrist                        </td><td>$\\beta_{13}$         </td><td>-1.66                </td><td>-2.46                   </td><td>-0.67              </td></tr>\n",
       "<tr><td>                             </td><td>                     </td><td>                     </td><td>                        </td><td>                   </td></tr>\n",
       "<tr><td><strong>Metrics</strong     </td><td><strong>Mean</strong</td><td><strong>Lo</strong  </td><td><strong>Hi</strong     </td><td>                   </td></tr>\n",
       "<tr><td>$\\sigma$                     </td><td>4.05                 </td><td>3.61                 </td><td>4.26                    </td><td>                   </td></tr>\n",
       "<tr><td>$R^2$                        </td><td>0.74                 </td><td>0.71                 </td><td>0.80                    </td><td>                   </td></tr>\n",
       "</tbody>\n",
       "</table></p>"
      ],
      "text/latex": [
       "\\textbf{Model: BodyFat $\\sim$ Age + Weight + Height + Neck + Chest + ATH + HTH + Thigh +Knee +Ankle+\n",
       "        Biceps + Forearm + Wrist}\n",
       "\n",
       "\\begin{tabular}{lllll}\n",
       "\\toprule\n",
       "                       &               &               & \\textbf{95\\% BCI} &             \\\\\n",
       " \\textbf{Coefficients} &               & \\textbf{Mean} & \\textbf{Lo}      & \\textbf{Hi} \\\\\n",
       "                       & $\\beta_{0}$   & -70.24        & -143.40          & -16.30      \\\\\n",
       " Age                   & $\\beta_{1}$   & 0.05          & -0.01            & 0.10        \\\\\n",
       " Weight                & $\\beta_{2}$   & -0.08         & -0.19            & 0.06        \\\\\n",
       " Height                & $\\beta_{3}$   & 0.30          & 0.09             & 0.58        \\\\\n",
       " Neck                  & $\\beta_{4}$   & -0.42         & -0.85            & -0.03       \\\\\n",
       " Chest                 & $\\beta_{5}$   & -0.09         & -0.33            & 0.08        \\\\\n",
       " ATH                   & $\\beta_{6}$   & 165.35        & 138.70           & 195.12      \\\\\n",
       " HTH                   & $\\beta_{7}$   & -41.72        & -79.55           & 1.78        \\\\\n",
       " Thigh                 & $\\beta_{8}$   & 0.22          & -0.06            & 0.50        \\\\\n",
       " Knee                  & $\\beta_{9}$   & 0.05          & -0.27            & 0.47        \\\\\n",
       " Ankle                 & $\\beta_{10}$  & 0.24          & -0.25            & 0.69        \\\\\n",
       " Biceps                & $\\beta_{11}$  & 0.24          & -0.05            & 0.59        \\\\\n",
       " Forearm               & $\\beta_{12}$  & 0.39          & 0.03             & 0.76        \\\\\n",
       " Wrist                 & $\\beta_{13}$  & -1.66         & -2.46            & -0.67       \\\\\n",
       "                       &               &               &                  &             \\\\\n",
       " \\textbf{Metrics}      & \\textbf{Mean} & \\textbf{Lo}   & \\textbf{Hi}      &             \\\\\n",
       " $\\sigma$              & 4.05          & 3.61          & 4.26             &             \\\\\n",
       " $R^2$                 & 0.74          & 0.71          & 0.80             &             \\\\\n",
       "\\bottomrule\n",
       "\\end{tabular}"
      ],
      "text/markdown": [
       "Model: BodyFat ~ Age + Weight + Height + Neck + Chest + ATH + HTH + Thigh +Knee +Ankle+\n",
       "        Biceps + Forearm + Wrist\n",
       "|------------------|--------------|----------|-------------|--------|\n",
       "|                  |              |          | **95% BCI** |        |\n",
       "| **Coefficients** |              | **Mean** | **Lo**      | **Hi** |\n",
       "|                  | $\\beta_{0}$  | -70.24   | -143.40     | -16.30 |\n",
       "| Age              | $\\beta_{1}$  | 0.05     | -0.01       | 0.10   |\n",
       "| Weight           | $\\beta_{2}$  | -0.08    | -0.19       | 0.06   |\n",
       "| Height           | $\\beta_{3}$  | 0.30     | 0.09        | 0.58   |\n",
       "| Neck             | $\\beta_{4}$  | -0.42    | -0.85       | -0.03  |\n",
       "| Chest            | $\\beta_{5}$  | -0.09    | -0.33       | 0.08   |\n",
       "| ATH              | $\\beta_{6}$  | 165.35   | 138.70      | 195.12 |\n",
       "| HTH              | $\\beta_{7}$  | -41.72   | -79.55      | 1.78   |\n",
       "| Thigh            | $\\beta_{8}$  | 0.22     | -0.06       | 0.50   |\n",
       "| Knee             | $\\beta_{9}$  | 0.05     | -0.27       | 0.47   |\n",
       "| Ankle            | $\\beta_{10}$ | 0.24     | -0.25       | 0.69   |\n",
       "| Biceps           | $\\beta_{11}$ | 0.24     | -0.05       | 0.59   |\n",
       "| Forearm          | $\\beta_{12}$ | 0.39     | 0.03        | 0.76   |\n",
       "| Wrist            | $\\beta_{13}$ | -1.66    | -2.46       | -0.67  |\n",
       "|                  |              |          |             |        |\n",
       "| **Metrics**      | **Mean**     | **Lo**   | **Hi**      |        |\n",
       "| $\\sigma$         | 4.05         | 3.61     | 4.26        |        |\n",
       "| $R^2$            | 0.74         | 0.71     | 0.80        |        |"
      ],
      "text/plain": [
       "<models.ResultsWrapper at 0x7f84d1625310>"
      ]
     },
     "execution_count": 27,
     "metadata": {},
     "output_type": "execute_result"
    }
   ],
   "source": [
    "random.seed(4)\n",
    "model = \"\"\"BodyFat ~ Age + Weight + Height + Neck + Chest + ATH + HTH + Thigh +Knee +Ankle+\n",
    "        Biceps + Forearm + Wrist\"\"\"\n",
    "result4 = models.bootstrap_linear_regression(model, data= bodyfat)\n",
    "models.describe_bootstrap_lr(result4)"
   ]
  },
  {
   "cell_type": "code",
   "execution_count": 28,
   "id": "69bf1bde-607c-436e-a947-10b6059593f4",
   "metadata": {},
   "outputs": [
    {
     "name": "stdout",
     "output_type": "stream",
     "text": [
      "0.7275944659343915\n",
      "0.7266906677830176\n"
     ]
    }
   ],
   "source": [
    "print(models.adjusted_r_squared(result2))\n",
    "print(models.adjusted_r_squared(result4))"
   ]
  },
  {
   "cell_type": "markdown",
   "id": "1cd4c167-cf4f-4df1-a929-e5866a38aa48",
   "metadata": {},
   "source": [
    "Scaling hip increased $\\sigma$ to 4.05, kept $R^2$ at .74 and decreased *adjusted* $R^2$ to .726. We will keep the unscaled version. Now let's try changing Thigh to Thigh/Height"
   ]
  },
  {
   "cell_type": "code",
   "execution_count": 29,
   "id": "5176ae75-c511-4c4b-8067-a4ee87ab8e0d",
   "metadata": {},
   "outputs": [
    {
     "data": {
      "text/html": [
       "<p><strong>Model: BodyFat ~ Age + Weight + Height + Neck + Chest + ATH + Hip + TTH +Knee +Ankle+\n",
       "        Biceps + Forearm + Wrist</strong><br/><table>\n",
       "<tbody>\n",
       "<tr><td>                             </td><td>                     </td><td>                     </td><td><strong>95% BCI</strong</td><td>                   </td></tr>\n",
       "<tr><td><strong>Coefficients</strong</td><td>                     </td><td><strong>Mean</strong</td><td><strong>Lo</strong     </td><td><strong>Hi</strong</td></tr>\n",
       "<tr><td>                             </td><td>$\\beta_{0}$          </td><td>-102.58              </td><td>-143.18                 </td><td>-44.73             </td></tr>\n",
       "<tr><td>Age                          </td><td>$\\beta_{1}$          </td><td>0.05                 </td><td>-0.00                   </td><td>0.10               </td></tr>\n",
       "<tr><td>Weight                       </td><td>$\\beta_{2}$          </td><td>-0.06                </td><td>-0.17                   </td><td>0.07               </td></tr>\n",
       "<tr><td>Height                       </td><td>$\\beta_{3}$          </td><td>0.50                 </td><td>0.24                    </td><td>0.70               </td></tr>\n",
       "<tr><td>Neck                         </td><td>$\\beta_{4}$          </td><td>-0.44                </td><td>-0.75                   </td><td>-0.08              </td></tr>\n",
       "<tr><td>Chest                        </td><td>$\\beta_{5}$          </td><td>-0.10                </td><td>-0.34                   </td><td>0.05               </td></tr>\n",
       "<tr><td>ATH                          </td><td>$\\beta_{6}$          </td><td>164.71               </td><td>133.54                  </td><td>196.16             </td></tr>\n",
       "<tr><td>Hip                          </td><td>$\\beta_{7}$          </td><td>-0.28                </td><td>-0.51                   </td><td>-0.02              </td></tr>\n",
       "<tr><td>TTH                          </td><td>$\\beta_{8}$          </td><td>43.34                </td><td>2.70                    </td><td>78.06              </td></tr>\n",
       "<tr><td>Knee                         </td><td>$\\beta_{9}$          </td><td>0.06                 </td><td>-0.32                   </td><td>0.48               </td></tr>\n",
       "<tr><td>Ankle                        </td><td>$\\beta_{10}$         </td><td>0.23                 </td><td>-0.46                   </td><td>0.63               </td></tr>\n",
       "<tr><td>Biceps                       </td><td>$\\beta_{11}$         </td><td>0.24                 </td><td>-0.04                   </td><td>0.57               </td></tr>\n",
       "<tr><td>Forearm                      </td><td>$\\beta_{12}$         </td><td>0.37                 </td><td>0.00                    </td><td>0.75               </td></tr>\n",
       "<tr><td>Wrist                        </td><td>$\\beta_{13}$         </td><td>-1.66                </td><td>-2.84                   </td><td>-0.63              </td></tr>\n",
       "<tr><td>                             </td><td>                     </td><td>                     </td><td>                        </td><td>                   </td></tr>\n",
       "<tr><td><strong>Metrics</strong     </td><td><strong>Mean</strong</td><td><strong>Lo</strong  </td><td><strong>Hi</strong     </td><td>                   </td></tr>\n",
       "<tr><td>$\\sigma$                     </td><td>4.04                 </td><td>3.58                 </td><td>4.22                    </td><td>                   </td></tr>\n",
       "<tr><td>$R^2$                        </td><td>0.74                 </td><td>0.70                 </td><td>0.80                    </td><td>                   </td></tr>\n",
       "</tbody>\n",
       "</table></p>"
      ],
      "text/latex": [
       "\\textbf{Model: BodyFat $\\sim$ Age + Weight + Height + Neck + Chest + ATH + Hip + TTH +Knee +Ankle+\n",
       "        Biceps + Forearm + Wrist}\n",
       "\n",
       "\\begin{tabular}{lllll}\n",
       "\\toprule\n",
       "                       &               &               & \\textbf{95\\% BCI} &             \\\\\n",
       " \\textbf{Coefficients} &               & \\textbf{Mean} & \\textbf{Lo}      & \\textbf{Hi} \\\\\n",
       "                       & $\\beta_{0}$   & -102.58       & -143.18          & -44.73      \\\\\n",
       " Age                   & $\\beta_{1}$   & 0.05          & -0.00            & 0.10        \\\\\n",
       " Weight                & $\\beta_{2}$   & -0.06         & -0.17            & 0.07        \\\\\n",
       " Height                & $\\beta_{3}$   & 0.50          & 0.24             & 0.70        \\\\\n",
       " Neck                  & $\\beta_{4}$   & -0.44         & -0.75            & -0.08       \\\\\n",
       " Chest                 & $\\beta_{5}$   & -0.10         & -0.34            & 0.05        \\\\\n",
       " ATH                   & $\\beta_{6}$   & 164.71        & 133.54           & 196.16      \\\\\n",
       " Hip                   & $\\beta_{7}$   & -0.28         & -0.51            & -0.02       \\\\\n",
       " TTH                   & $\\beta_{8}$   & 43.34         & 2.70             & 78.06       \\\\\n",
       " Knee                  & $\\beta_{9}$   & 0.06          & -0.32            & 0.48        \\\\\n",
       " Ankle                 & $\\beta_{10}$  & 0.23          & -0.46            & 0.63        \\\\\n",
       " Biceps                & $\\beta_{11}$  & 0.24          & -0.04            & 0.57        \\\\\n",
       " Forearm               & $\\beta_{12}$  & 0.37          & 0.00             & 0.75        \\\\\n",
       " Wrist                 & $\\beta_{13}$  & -1.66         & -2.84            & -0.63       \\\\\n",
       "                       &               &               &                  &             \\\\\n",
       " \\textbf{Metrics}      & \\textbf{Mean} & \\textbf{Lo}   & \\textbf{Hi}      &             \\\\\n",
       " $\\sigma$              & 4.04          & 3.58          & 4.22             &             \\\\\n",
       " $R^2$                 & 0.74          & 0.70          & 0.80             &             \\\\\n",
       "\\bottomrule\n",
       "\\end{tabular}"
      ],
      "text/markdown": [
       "Model: BodyFat ~ Age + Weight + Height + Neck + Chest + ATH + Hip + TTH +Knee +Ankle+\n",
       "        Biceps + Forearm + Wrist\n",
       "|------------------|--------------|----------|-------------|--------|\n",
       "|                  |              |          | **95% BCI** |        |\n",
       "| **Coefficients** |              | **Mean** | **Lo**      | **Hi** |\n",
       "|                  | $\\beta_{0}$  | -102.58  | -143.18     | -44.73 |\n",
       "| Age              | $\\beta_{1}$  | 0.05     | -0.00       | 0.10   |\n",
       "| Weight           | $\\beta_{2}$  | -0.06    | -0.17       | 0.07   |\n",
       "| Height           | $\\beta_{3}$  | 0.50     | 0.24        | 0.70   |\n",
       "| Neck             | $\\beta_{4}$  | -0.44    | -0.75       | -0.08  |\n",
       "| Chest            | $\\beta_{5}$  | -0.10    | -0.34       | 0.05   |\n",
       "| ATH              | $\\beta_{6}$  | 164.71   | 133.54      | 196.16 |\n",
       "| Hip              | $\\beta_{7}$  | -0.28    | -0.51       | -0.02  |\n",
       "| TTH              | $\\beta_{8}$  | 43.34    | 2.70        | 78.06  |\n",
       "| Knee             | $\\beta_{9}$  | 0.06     | -0.32       | 0.48   |\n",
       "| Ankle            | $\\beta_{10}$ | 0.23     | -0.46       | 0.63   |\n",
       "| Biceps           | $\\beta_{11}$ | 0.24     | -0.04       | 0.57   |\n",
       "| Forearm          | $\\beta_{12}$ | 0.37     | 0.00        | 0.75   |\n",
       "| Wrist            | $\\beta_{13}$ | -1.66    | -2.84       | -0.63  |\n",
       "|                  |              |          |             |        |\n",
       "| **Metrics**      | **Mean**     | **Lo**   | **Hi**      |        |\n",
       "| $\\sigma$         | 4.04         | 3.58     | 4.22        |        |\n",
       "| $R^2$            | 0.74         | 0.70     | 0.80        |        |"
      ],
      "text/plain": [
       "<models.ResultsWrapper at 0x7f84b1ab47c0>"
      ]
     },
     "execution_count": 29,
     "metadata": {},
     "output_type": "execute_result"
    }
   ],
   "source": [
    "random.seed(5)\n",
    "model = \"\"\"BodyFat ~ Age + Weight + Height + Neck + Chest + ATH + Hip + TTH +Knee +Ankle+\n",
    "        Biceps + Forearm + Wrist\"\"\"\n",
    "result5 = models.bootstrap_linear_regression(model, data= bodyfat)\n",
    "models.describe_bootstrap_lr(result5)"
   ]
  },
  {
   "cell_type": "code",
   "execution_count": 30,
   "id": "c41eaf48-a7f8-4250-a19a-b00cf85b8ff3",
   "metadata": {},
   "outputs": [
    {
     "name": "stdout",
     "output_type": "stream",
     "text": [
      "0.7275944659343915\n",
      "0.7279134158270348\n"
     ]
    }
   ],
   "source": [
    "print(models.adjusted_r_squared(result2))\n",
    "print(models.adjusted_r_squared(result5))"
   ]
  },
  {
   "cell_type": "markdown",
   "id": "67af8adf-7400-4a1b-ad80-fbb59154619d",
   "metadata": {},
   "source": [
    "Scaling thigh kept $\\sigma$ at 4.04, $R^2$ at .74 and *adjusted* $R^2$ to .727. Because the CI has narrowed for the $\\sigma$, however, we will keep the scaled version. Now let's try changing Knee to Knee/Height"
   ]
  },
  {
   "cell_type": "code",
   "execution_count": 31,
   "id": "4f990a53-ab26-43f3-abc7-2dc3ba05aecd",
   "metadata": {},
   "outputs": [
    {
     "data": {
      "text/html": [
       "<p><strong>Model: BodyFat ~ Age + Weight + Height + Neck + Chest + ATH + Hip + TTH + KTH +Ankle+\n",
       "        Biceps + Forearm + Wrist</strong><br/><table>\n",
       "<tbody>\n",
       "<tr><td>                             </td><td>                     </td><td>                     </td><td><strong>95% BCI</strong</td><td>                   </td></tr>\n",
       "<tr><td><strong>Coefficients</strong</td><td>                     </td><td><strong>Mean</strong</td><td><strong>Lo</strong     </td><td><strong>Hi</strong</td></tr>\n",
       "<tr><td>                             </td><td>$\\beta_{0}$          </td><td>-104.89              </td><td>-164.26                 </td><td>-29.91             </td></tr>\n",
       "<tr><td>Age                          </td><td>$\\beta_{1}$          </td><td>0.05                 </td><td>0.01                    </td><td>0.10               </td></tr>\n",
       "<tr><td>Weight                       </td><td>$\\beta_{2}$          </td><td>-0.06                </td><td>-0.18                   </td><td>0.08               </td></tr>\n",
       "<tr><td>Height                       </td><td>$\\beta_{3}$          </td><td>0.52                 </td><td>0.23                    </td><td>0.76               </td></tr>\n",
       "<tr><td>Neck                         </td><td>$\\beta_{4}$          </td><td>-0.43                </td><td>-0.86                   </td><td>-0.03              </td></tr>\n",
       "<tr><td>Chest                        </td><td>$\\beta_{5}$          </td><td>-0.10                </td><td>-0.36                   </td><td>0.07               </td></tr>\n",
       "<tr><td>ATH                          </td><td>$\\beta_{6}$          </td><td>164.69               </td><td>139.49                  </td><td>194.76             </td></tr>\n",
       "<tr><td>Hip                          </td><td>$\\beta_{7}$          </td><td>-0.28                </td><td>-0.52                   </td><td>-0.04              </td></tr>\n",
       "<tr><td>TTH                          </td><td>$\\beta_{8}$          </td><td>43.12                </td><td>2.83                    </td><td>90.14              </td></tr>\n",
       "<tr><td>KTH                          </td><td>$\\beta_{9}$          </td><td>11.46                </td><td>-54.66                  </td><td>67.97              </td></tr>\n",
       "<tr><td>Ankle                        </td><td>$\\beta_{10}$         </td><td>0.23                 </td><td>-0.17                   </td><td>0.65               </td></tr>\n",
       "<tr><td>Biceps                       </td><td>$\\beta_{11}$         </td><td>0.24                 </td><td>-0.05                   </td><td>0.63               </td></tr>\n",
       "<tr><td>Forearm                      </td><td>$\\beta_{12}$         </td><td>0.37                 </td><td>0.02                    </td><td>0.77               </td></tr>\n",
       "<tr><td>Wrist                        </td><td>$\\beta_{13}$         </td><td>-1.67                </td><td>-2.48                   </td><td>-0.63              </td></tr>\n",
       "<tr><td>                             </td><td>                     </td><td>                     </td><td>                        </td><td>                   </td></tr>\n",
       "<tr><td><strong>Metrics</strong     </td><td><strong>Mean</strong</td><td><strong>Lo</strong  </td><td><strong>Hi</strong     </td><td>                   </td></tr>\n",
       "<tr><td>$\\sigma$                     </td><td>4.04                 </td><td>3.59                 </td><td>4.22                    </td><td>                   </td></tr>\n",
       "<tr><td>$R^2$                        </td><td>0.74                 </td><td>0.70                 </td><td>0.81                    </td><td>                   </td></tr>\n",
       "</tbody>\n",
       "</table></p>"
      ],
      "text/latex": [
       "\\textbf{Model: BodyFat $\\sim$ Age + Weight + Height + Neck + Chest + ATH + Hip + TTH + KTH +Ankle+\n",
       "        Biceps + Forearm + Wrist}\n",
       "\n",
       "\\begin{tabular}{lllll}\n",
       "\\toprule\n",
       "                       &               &               & \\textbf{95\\% BCI} &             \\\\\n",
       " \\textbf{Coefficients} &               & \\textbf{Mean} & \\textbf{Lo}      & \\textbf{Hi} \\\\\n",
       "                       & $\\beta_{0}$   & -104.89       & -164.26          & -29.91      \\\\\n",
       " Age                   & $\\beta_{1}$   & 0.05          & 0.01             & 0.10        \\\\\n",
       " Weight                & $\\beta_{2}$   & -0.06         & -0.18            & 0.08        \\\\\n",
       " Height                & $\\beta_{3}$   & 0.52          & 0.23             & 0.76        \\\\\n",
       " Neck                  & $\\beta_{4}$   & -0.43         & -0.86            & -0.03       \\\\\n",
       " Chest                 & $\\beta_{5}$   & -0.10         & -0.36            & 0.07        \\\\\n",
       " ATH                   & $\\beta_{6}$   & 164.69        & 139.49           & 194.76      \\\\\n",
       " Hip                   & $\\beta_{7}$   & -0.28         & -0.52            & -0.04       \\\\\n",
       " TTH                   & $\\beta_{8}$   & 43.12         & 2.83             & 90.14       \\\\\n",
       " KTH                   & $\\beta_{9}$   & 11.46         & -54.66           & 67.97       \\\\\n",
       " Ankle                 & $\\beta_{10}$  & 0.23          & -0.17            & 0.65        \\\\\n",
       " Biceps                & $\\beta_{11}$  & 0.24          & -0.05            & 0.63        \\\\\n",
       " Forearm               & $\\beta_{12}$  & 0.37          & 0.02             & 0.77        \\\\\n",
       " Wrist                 & $\\beta_{13}$  & -1.67         & -2.48            & -0.63       \\\\\n",
       "                       &               &               &                  &             \\\\\n",
       " \\textbf{Metrics}      & \\textbf{Mean} & \\textbf{Lo}   & \\textbf{Hi}      &             \\\\\n",
       " $\\sigma$              & 4.04          & 3.59          & 4.22             &             \\\\\n",
       " $R^2$                 & 0.74          & 0.70          & 0.81             &             \\\\\n",
       "\\bottomrule\n",
       "\\end{tabular}"
      ],
      "text/markdown": [
       "Model: BodyFat ~ Age + Weight + Height + Neck + Chest + ATH + Hip + TTH + KTH +Ankle+\n",
       "        Biceps + Forearm + Wrist\n",
       "|------------------|--------------|----------|-------------|--------|\n",
       "|                  |              |          | **95% BCI** |        |\n",
       "| **Coefficients** |              | **Mean** | **Lo**      | **Hi** |\n",
       "|                  | $\\beta_{0}$  | -104.89  | -164.26     | -29.91 |\n",
       "| Age              | $\\beta_{1}$  | 0.05     | 0.01        | 0.10   |\n",
       "| Weight           | $\\beta_{2}$  | -0.06    | -0.18       | 0.08   |\n",
       "| Height           | $\\beta_{3}$  | 0.52     | 0.23        | 0.76   |\n",
       "| Neck             | $\\beta_{4}$  | -0.43    | -0.86       | -0.03  |\n",
       "| Chest            | $\\beta_{5}$  | -0.10    | -0.36       | 0.07   |\n",
       "| ATH              | $\\beta_{6}$  | 164.69   | 139.49      | 194.76 |\n",
       "| Hip              | $\\beta_{7}$  | -0.28    | -0.52       | -0.04  |\n",
       "| TTH              | $\\beta_{8}$  | 43.12    | 2.83        | 90.14  |\n",
       "| KTH              | $\\beta_{9}$  | 11.46    | -54.66      | 67.97  |\n",
       "| Ankle            | $\\beta_{10}$ | 0.23     | -0.17       | 0.65   |\n",
       "| Biceps           | $\\beta_{11}$ | 0.24     | -0.05       | 0.63   |\n",
       "| Forearm          | $\\beta_{12}$ | 0.37     | 0.02        | 0.77   |\n",
       "| Wrist            | $\\beta_{13}$ | -1.67    | -2.48       | -0.63  |\n",
       "|                  |              |          |             |        |\n",
       "| **Metrics**      | **Mean**     | **Lo**   | **Hi**      |        |\n",
       "| $\\sigma$         | 4.04         | 3.59     | 4.22        |        |\n",
       "| $R^2$            | 0.74         | 0.70     | 0.81        |        |"
      ],
      "text/plain": [
       "<models.ResultsWrapper at 0x7f84b1ab8400>"
      ]
     },
     "execution_count": 31,
     "metadata": {},
     "output_type": "execute_result"
    }
   ],
   "source": [
    "random.seed(6)\n",
    "model = \"\"\"BodyFat ~ Age + Weight + Height + Neck + Chest + ATH + Hip + TTH + KTH +Ankle+\n",
    "        Biceps + Forearm + Wrist\"\"\"\n",
    "result6 = models.bootstrap_linear_regression(model, data= bodyfat)\n",
    "models.describe_bootstrap_lr(result6)"
   ]
  },
  {
   "cell_type": "code",
   "execution_count": 32,
   "id": "234c37e6-1e12-42b9-8642-3929f2e7743a",
   "metadata": {},
   "outputs": [
    {
     "name": "stdout",
     "output_type": "stream",
     "text": [
      "0.7279134158270348\n",
      "0.7279283901897529\n"
     ]
    }
   ],
   "source": [
    "print(models.adjusted_r_squared(result5))\n",
    "print(models.adjusted_r_squared(result6))"
   ]
  },
  {
   "cell_type": "markdown",
   "id": "af7b5865-3622-4920-ba3e-29bf21666f06",
   "metadata": {},
   "source": [
    "As before we see no improvement in any metric, so we will keep the unscaled version. Now we test the ankle to height."
   ]
  },
  {
   "cell_type": "code",
   "execution_count": 33,
   "id": "8b87832c-2942-44cd-8a60-4eb81a923f1c",
   "metadata": {},
   "outputs": [
    {
     "data": {
      "text/html": [
       "<p><strong>Model: BodyFat ~ Age + Weight + Height + Neck + Chest + ATH + Hip + TTH + Knee + AKTH +\n",
       "        Biceps + Forearm + Wrist</strong><br/><table>\n",
       "<tbody>\n",
       "<tr><td>                             </td><td>                     </td><td>                     </td><td><strong>95% BCI</strong</td><td>                   </td></tr>\n",
       "<tr><td><strong>Coefficients</strong</td><td>                     </td><td><strong>Mean</strong</td><td><strong>Lo</strong     </td><td><strong>Hi</strong</td></tr>\n",
       "<tr><td>                             </td><td>$\\beta_{0}$          </td><td>-108.19              </td><td>-151.27                 </td><td>-53.58             </td></tr>\n",
       "<tr><td>Age                          </td><td>$\\beta_{1}$          </td><td>0.05                 </td><td>-0.00                   </td><td>0.09               </td></tr>\n",
       "<tr><td>Weight                       </td><td>$\\beta_{2}$          </td><td>-0.07                </td><td>-0.20                   </td><td>0.08               </td></tr>\n",
       "<tr><td>Height                       </td><td>$\\beta_{3}$          </td><td>0.53                 </td><td>0.31                    </td><td>0.71               </td></tr>\n",
       "<tr><td>Neck                         </td><td>$\\beta_{4}$          </td><td>-0.43                </td><td>-0.89                   </td><td>0.02               </td></tr>\n",
       "<tr><td>Chest                        </td><td>$\\beta_{5}$          </td><td>-0.10                </td><td>-0.32                   </td><td>0.06               </td></tr>\n",
       "<tr><td>ATH                          </td><td>$\\beta_{6}$          </td><td>164.72               </td><td>141.88                  </td><td>188.17             </td></tr>\n",
       "<tr><td>Hip                          </td><td>$\\beta_{7}$          </td><td>-0.28                </td><td>-0.51                   </td><td>0.00               </td></tr>\n",
       "<tr><td>TTH                          </td><td>$\\beta_{8}$          </td><td>43.31                </td><td>-12.79                  </td><td>80.67              </td></tr>\n",
       "<tr><td>Knee                         </td><td>$\\beta_{9}$          </td><td>0.06                 </td><td>-0.38                   </td><td>0.41               </td></tr>\n",
       "<tr><td>AKTH                         </td><td>$\\beta_{10}$         </td><td>42.60                </td><td>-60.34                  </td><td>113.41             </td></tr>\n",
       "<tr><td>Biceps                       </td><td>$\\beta_{11}$         </td><td>0.24                 </td><td>-0.08                   </td><td>0.60               </td></tr>\n",
       "<tr><td>Forearm                      </td><td>$\\beta_{12}$         </td><td>0.37                 </td><td>0.01                    </td><td>0.80               </td></tr>\n",
       "<tr><td>Wrist                        </td><td>$\\beta_{13}$         </td><td>-1.67                </td><td>-2.76                   </td><td>-0.64              </td></tr>\n",
       "<tr><td>                             </td><td>                     </td><td>                     </td><td>                        </td><td>                   </td></tr>\n",
       "<tr><td><strong>Metrics</strong     </td><td><strong>Mean</strong</td><td><strong>Lo</strong  </td><td><strong>Hi</strong     </td><td>                   </td></tr>\n",
       "<tr><td>$\\sigma$                     </td><td>4.04                 </td><td>3.59                 </td><td>4.32                    </td><td>                   </td></tr>\n",
       "<tr><td>$R^2$                        </td><td>0.74                 </td><td>0.70                 </td><td>0.81                    </td><td>                   </td></tr>\n",
       "</tbody>\n",
       "</table></p>"
      ],
      "text/latex": [
       "\\textbf{Model: BodyFat $\\sim$ Age + Weight + Height + Neck + Chest + ATH + Hip + TTH + Knee + AKTH +\n",
       "        Biceps + Forearm + Wrist}\n",
       "\n",
       "\\begin{tabular}{lllll}\n",
       "\\toprule\n",
       "                       &               &               & \\textbf{95\\% BCI} &             \\\\\n",
       " \\textbf{Coefficients} &               & \\textbf{Mean} & \\textbf{Lo}      & \\textbf{Hi} \\\\\n",
       "                       & $\\beta_{0}$   & -108.19       & -151.27          & -53.58      \\\\\n",
       " Age                   & $\\beta_{1}$   & 0.05          & -0.00            & 0.09        \\\\\n",
       " Weight                & $\\beta_{2}$   & -0.07         & -0.20            & 0.08        \\\\\n",
       " Height                & $\\beta_{3}$   & 0.53          & 0.31             & 0.71        \\\\\n",
       " Neck                  & $\\beta_{4}$   & -0.43         & -0.89            & 0.02        \\\\\n",
       " Chest                 & $\\beta_{5}$   & -0.10         & -0.32            & 0.06        \\\\\n",
       " ATH                   & $\\beta_{6}$   & 164.72        & 141.88           & 188.17      \\\\\n",
       " Hip                   & $\\beta_{7}$   & -0.28         & -0.51            & 0.00        \\\\\n",
       " TTH                   & $\\beta_{8}$   & 43.31         & -12.79           & 80.67       \\\\\n",
       " Knee                  & $\\beta_{9}$   & 0.06          & -0.38            & 0.41        \\\\\n",
       " AKTH                  & $\\beta_{10}$  & 42.60         & -60.34           & 113.41      \\\\\n",
       " Biceps                & $\\beta_{11}$  & 0.24          & -0.08            & 0.60        \\\\\n",
       " Forearm               & $\\beta_{12}$  & 0.37          & 0.01             & 0.80        \\\\\n",
       " Wrist                 & $\\beta_{13}$  & -1.67         & -2.76            & -0.64       \\\\\n",
       "                       &               &               &                  &             \\\\\n",
       " \\textbf{Metrics}      & \\textbf{Mean} & \\textbf{Lo}   & \\textbf{Hi}      &             \\\\\n",
       " $\\sigma$              & 4.04          & 3.59          & 4.32             &             \\\\\n",
       " $R^2$                 & 0.74          & 0.70          & 0.81             &             \\\\\n",
       "\\bottomrule\n",
       "\\end{tabular}"
      ],
      "text/markdown": [
       "Model: BodyFat ~ Age + Weight + Height + Neck + Chest + ATH + Hip + TTH + Knee + AKTH +\n",
       "        Biceps + Forearm + Wrist\n",
       "|------------------|--------------|----------|-------------|--------|\n",
       "|                  |              |          | **95% BCI** |        |\n",
       "| **Coefficients** |              | **Mean** | **Lo**      | **Hi** |\n",
       "|                  | $\\beta_{0}$  | -108.19  | -151.27     | -53.58 |\n",
       "| Age              | $\\beta_{1}$  | 0.05     | -0.00       | 0.09   |\n",
       "| Weight           | $\\beta_{2}$  | -0.07    | -0.20       | 0.08   |\n",
       "| Height           | $\\beta_{3}$  | 0.53     | 0.31        | 0.71   |\n",
       "| Neck             | $\\beta_{4}$  | -0.43    | -0.89       | 0.02   |\n",
       "| Chest            | $\\beta_{5}$  | -0.10    | -0.32       | 0.06   |\n",
       "| ATH              | $\\beta_{6}$  | 164.72   | 141.88      | 188.17 |\n",
       "| Hip              | $\\beta_{7}$  | -0.28    | -0.51       | 0.00   |\n",
       "| TTH              | $\\beta_{8}$  | 43.31    | -12.79      | 80.67  |\n",
       "| Knee             | $\\beta_{9}$  | 0.06     | -0.38       | 0.41   |\n",
       "| AKTH             | $\\beta_{10}$ | 42.60    | -60.34      | 113.41 |\n",
       "| Biceps           | $\\beta_{11}$ | 0.24     | -0.08       | 0.60   |\n",
       "| Forearm          | $\\beta_{12}$ | 0.37     | 0.01        | 0.80   |\n",
       "| Wrist            | $\\beta_{13}$ | -1.67    | -2.76       | -0.64  |\n",
       "|                  |              |          |             |        |\n",
       "| **Metrics**      | **Mean**     | **Lo**   | **Hi**      |        |\n",
       "| $\\sigma$         | 4.04         | 3.59     | 4.32        |        |\n",
       "| $R^2$            | 0.74         | 0.70     | 0.81        |        |"
      ],
      "text/plain": [
       "<models.ResultsWrapper at 0x7f84b1aa97f0>"
      ]
     },
     "execution_count": 33,
     "metadata": {},
     "output_type": "execute_result"
    }
   ],
   "source": [
    "random.seed(7)\n",
    "model = \"\"\"BodyFat ~ Age + Weight + Height + Neck + Chest + ATH + Hip + TTH + Knee + AKTH +\n",
    "        Biceps + Forearm + Wrist\"\"\"\n",
    "result7 = models.bootstrap_linear_regression(model, data= bodyfat)\n",
    "models.describe_bootstrap_lr(result7)"
   ]
  },
  {
   "cell_type": "code",
   "execution_count": 34,
   "id": "52362205-d4a0-46e6-8c9f-c7c67c40d97d",
   "metadata": {},
   "outputs": [
    {
     "name": "stdout",
     "output_type": "stream",
     "text": [
      "0.7279134158270348\n",
      "0.7280513625517435\n"
     ]
    }
   ],
   "source": [
    "print(models.adjusted_r_squared(result5))\n",
    "print(models.adjusted_r_squared(result7))"
   ]
  },
  {
   "cell_type": "markdown",
   "id": "76eaa933-f48d-446b-903b-68a90c1ca168",
   "metadata": {},
   "source": [
    "As before we see no improvement in any metric, so we will keep the unscaled version. Now we test the biceps to height."
   ]
  },
  {
   "cell_type": "code",
   "execution_count": 35,
   "id": "234342ab-c598-45c5-9cd1-7b2fa1a3c6e0",
   "metadata": {},
   "outputs": [
    {
     "data": {
      "text/html": [
       "<p><strong>Model: BodyFat ~ Age + Weight + Height + Neck + Chest + ATH + Hip + TTH + Knee + Ankle +\n",
       "        BTH + Forearm + Wrist</strong><br/><table>\n",
       "<tbody>\n",
       "<tr><td>                             </td><td>                     </td><td>                     </td><td><strong>95% BCI</strong</td><td>                   </td></tr>\n",
       "<tr><td><strong>Coefficients</strong</td><td>                     </td><td><strong>Mean</strong</td><td><strong>Lo</strong     </td><td><strong>Hi</strong</td></tr>\n",
       "<tr><td>                             </td><td>$\\beta_{0}$          </td><td>-110.16              </td><td>-171.45                 </td><td>-46.69             </td></tr>\n",
       "<tr><td>Age                          </td><td>$\\beta_{1}$          </td><td>0.05                 </td><td>0.01                    </td><td>0.11               </td></tr>\n",
       "<tr><td>Weight                       </td><td>$\\beta_{2}$          </td><td>-0.06                </td><td>-0.20                   </td><td>0.08               </td></tr>\n",
       "<tr><td>Height                       </td><td>$\\beta_{3}$          </td><td>0.55                 </td><td>0.31                    </td><td>0.79               </td></tr>\n",
       "<tr><td>Neck                         </td><td>$\\beta_{4}$          </td><td>-0.44                </td><td>-0.75                   </td><td>-0.00              </td></tr>\n",
       "<tr><td>Chest                        </td><td>$\\beta_{5}$          </td><td>-0.10                </td><td>-0.29                   </td><td>0.07               </td></tr>\n",
       "<tr><td>ATH                          </td><td>$\\beta_{6}$          </td><td>164.68               </td><td>138.48                  </td><td>194.00             </td></tr>\n",
       "<tr><td>Hip                          </td><td>$\\beta_{7}$          </td><td>-0.28                </td><td>-0.53                   </td><td>-0.00              </td></tr>\n",
       "<tr><td>TTH                          </td><td>$\\beta_{8}$          </td><td>42.89                </td><td>-2.93                   </td><td>89.04              </td></tr>\n",
       "<tr><td>Knee                         </td><td>$\\beta_{9}$          </td><td>0.06                 </td><td>-0.31                   </td><td>0.46               </td></tr>\n",
       "<tr><td>Ankle                        </td><td>$\\beta_{10}$         </td><td>0.23                 </td><td>-0.23                   </td><td>0.68               </td></tr>\n",
       "<tr><td>BTH                          </td><td>$\\beta_{11}$         </td><td>44.39                </td><td>-6.11                   </td><td>103.98             </td></tr>\n",
       "<tr><td>Forearm                      </td><td>$\\beta_{12}$         </td><td>0.36                 </td><td>-0.10                   </td><td>0.88               </td></tr>\n",
       "<tr><td>Wrist                        </td><td>$\\beta_{13}$         </td><td>-1.67                </td><td>-2.65                   </td><td>-0.58              </td></tr>\n",
       "<tr><td>                             </td><td>                     </td><td>                     </td><td>                        </td><td>                   </td></tr>\n",
       "<tr><td><strong>Metrics</strong     </td><td><strong>Mean</strong</td><td><strong>Lo</strong  </td><td><strong>Hi</strong     </td><td>                   </td></tr>\n",
       "<tr><td>$\\sigma$                     </td><td>4.03                 </td><td>3.53                 </td><td>4.24                    </td><td>                   </td></tr>\n",
       "<tr><td>$R^2$                        </td><td>0.74                 </td><td>0.69                 </td><td>0.81                    </td><td>                   </td></tr>\n",
       "</tbody>\n",
       "</table></p>"
      ],
      "text/latex": [
       "\\textbf{Model: BodyFat $\\sim$ Age + Weight + Height + Neck + Chest + ATH + Hip + TTH + Knee + Ankle +\n",
       "        BTH + Forearm + Wrist}\n",
       "\n",
       "\\begin{tabular}{lllll}\n",
       "\\toprule\n",
       "                       &               &               & \\textbf{95\\% BCI} &             \\\\\n",
       " \\textbf{Coefficients} &               & \\textbf{Mean} & \\textbf{Lo}      & \\textbf{Hi} \\\\\n",
       "                       & $\\beta_{0}$   & -110.16       & -171.45          & -46.69      \\\\\n",
       " Age                   & $\\beta_{1}$   & 0.05          & 0.01             & 0.11        \\\\\n",
       " Weight                & $\\beta_{2}$   & -0.06         & -0.20            & 0.08        \\\\\n",
       " Height                & $\\beta_{3}$   & 0.55          & 0.31             & 0.79        \\\\\n",
       " Neck                  & $\\beta_{4}$   & -0.44         & -0.75            & -0.00       \\\\\n",
       " Chest                 & $\\beta_{5}$   & -0.10         & -0.29            & 0.07        \\\\\n",
       " ATH                   & $\\beta_{6}$   & 164.68        & 138.48           & 194.00      \\\\\n",
       " Hip                   & $\\beta_{7}$   & -0.28         & -0.53            & -0.00       \\\\\n",
       " TTH                   & $\\beta_{8}$   & 42.89         & -2.93            & 89.04       \\\\\n",
       " Knee                  & $\\beta_{9}$   & 0.06          & -0.31            & 0.46        \\\\\n",
       " Ankle                 & $\\beta_{10}$  & 0.23          & -0.23            & 0.68        \\\\\n",
       " BTH                   & $\\beta_{11}$  & 44.39         & -6.11            & 103.98      \\\\\n",
       " Forearm               & $\\beta_{12}$  & 0.36          & -0.10            & 0.88        \\\\\n",
       " Wrist                 & $\\beta_{13}$  & -1.67         & -2.65            & -0.58       \\\\\n",
       "                       &               &               &                  &             \\\\\n",
       " \\textbf{Metrics}      & \\textbf{Mean} & \\textbf{Lo}   & \\textbf{Hi}      &             \\\\\n",
       " $\\sigma$              & 4.03          & 3.53          & 4.24             &             \\\\\n",
       " $R^2$                 & 0.74          & 0.69          & 0.81             &             \\\\\n",
       "\\bottomrule\n",
       "\\end{tabular}"
      ],
      "text/markdown": [
       "Model: BodyFat ~ Age + Weight + Height + Neck + Chest + ATH + Hip + TTH + Knee + Ankle +\n",
       "        BTH + Forearm + Wrist\n",
       "|------------------|--------------|----------|-------------|--------|\n",
       "|                  |              |          | **95% BCI** |        |\n",
       "| **Coefficients** |              | **Mean** | **Lo**      | **Hi** |\n",
       "|                  | $\\beta_{0}$  | -110.16  | -171.45     | -46.69 |\n",
       "| Age              | $\\beta_{1}$  | 0.05     | 0.01        | 0.11   |\n",
       "| Weight           | $\\beta_{2}$  | -0.06    | -0.20       | 0.08   |\n",
       "| Height           | $\\beta_{3}$  | 0.55     | 0.31        | 0.79   |\n",
       "| Neck             | $\\beta_{4}$  | -0.44    | -0.75       | -0.00  |\n",
       "| Chest            | $\\beta_{5}$  | -0.10    | -0.29       | 0.07   |\n",
       "| ATH              | $\\beta_{6}$  | 164.68   | 138.48      | 194.00 |\n",
       "| Hip              | $\\beta_{7}$  | -0.28    | -0.53       | -0.00  |\n",
       "| TTH              | $\\beta_{8}$  | 42.89    | -2.93       | 89.04  |\n",
       "| Knee             | $\\beta_{9}$  | 0.06     | -0.31       | 0.46   |\n",
       "| Ankle            | $\\beta_{10}$ | 0.23     | -0.23       | 0.68   |\n",
       "| BTH              | $\\beta_{11}$ | 44.39    | -6.11       | 103.98 |\n",
       "| Forearm          | $\\beta_{12}$ | 0.36     | -0.10       | 0.88   |\n",
       "| Wrist            | $\\beta_{13}$ | -1.67    | -2.65       | -0.58  |\n",
       "|                  |              |          |             |        |\n",
       "| **Metrics**      | **Mean**     | **Lo**   | **Hi**      |        |\n",
       "| $\\sigma$         | 4.03         | 3.53     | 4.24        |        |\n",
       "| $R^2$            | 0.74         | 0.69     | 0.81        |        |"
      ],
      "text/plain": [
       "<models.ResultsWrapper at 0x7f84b1ac5610>"
      ]
     },
     "execution_count": 35,
     "metadata": {},
     "output_type": "execute_result"
    }
   ],
   "source": [
    "random.seed(8)\n",
    "model = \"\"\"BodyFat ~ Age + Weight + Height + Neck + Chest + ATH + Hip + TTH + Knee + Ankle +\n",
    "        BTH + Forearm + Wrist\"\"\"\n",
    "result8 = models.bootstrap_linear_regression(model, data= bodyfat)\n",
    "models.describe_bootstrap_lr(result8)"
   ]
  },
  {
   "cell_type": "code",
   "execution_count": 36,
   "id": "7938fa41-8851-4c92-bf33-d706e27a1c10",
   "metadata": {},
   "outputs": [
    {
     "name": "stdout",
     "output_type": "stream",
     "text": [
      "0.7279134158270348\n",
      "0.7281217656664962\n"
     ]
    }
   ],
   "source": [
    "print(models.adjusted_r_squared(result5))\n",
    "print(models.adjusted_r_squared(result8))"
   ]
  },
  {
   "cell_type": "markdown",
   "id": "689a10e9-72b3-4c25-b179-f8e0dc2b4300",
   "metadata": {},
   "source": [
    "We've decreased $\\sigma$ from 4.04 to 4.03, but $R^2$ is still the same (.74), although *adjusted* $R^2$ has slightly increased to .728. We will keep the scaled biceps. Let's try scaling forearm."
   ]
  },
  {
   "cell_type": "code",
   "execution_count": 37,
   "id": "e89f55fb-8d61-4b24-ac27-4f6a2164034f",
   "metadata": {},
   "outputs": [
    {
     "data": {
      "text/html": [
       "<p><strong>Model: BodyFat ~ Age + Weight + Height + Neck + Chest + ATH + Hip + TTH + Knee + Ankle +\n",
       "        BTH + FTH + Wrist</strong><br/><table>\n",
       "<tbody>\n",
       "<tr><td>                             </td><td>                     </td><td>                     </td><td><strong>95% BCI</strong</td><td>                   </td></tr>\n",
       "<tr><td><strong>Coefficients</strong</td><td>                     </td><td><strong>Mean</strong</td><td><strong>Lo</strong     </td><td><strong>Hi</strong</td></tr>\n",
       "<tr><td>                             </td><td>$\\beta_{0}$          </td><td>-120.06              </td><td>-172.28                 </td><td>-57.70             </td></tr>\n",
       "<tr><td>Age                          </td><td>$\\beta_{1}$          </td><td>0.05                 </td><td>0.01                    </td><td>0.11               </td></tr>\n",
       "<tr><td>Weight                       </td><td>$\\beta_{2}$          </td><td>-0.06                </td><td>-0.18                   </td><td>0.07               </td></tr>\n",
       "<tr><td>Height                       </td><td>$\\beta_{3}$          </td><td>0.60                 </td><td>0.36                    </td><td>0.81               </td></tr>\n",
       "<tr><td>Neck                         </td><td>$\\beta_{4}$          </td><td>-0.44                </td><td>-0.86                   </td><td>-0.11              </td></tr>\n",
       "<tr><td>Chest                        </td><td>$\\beta_{5}$          </td><td>-0.10                </td><td>-0.31                   </td><td>0.09               </td></tr>\n",
       "<tr><td>ATH                          </td><td>$\\beta_{6}$          </td><td>164.48               </td><td>131.44                  </td><td>192.19             </td></tr>\n",
       "<tr><td>Hip                          </td><td>$\\beta_{7}$          </td><td>-0.28                </td><td>-0.50                   </td><td>0.01               </td></tr>\n",
       "<tr><td>TTH                          </td><td>$\\beta_{8}$          </td><td>42.95                </td><td>-7.41                   </td><td>81.47              </td></tr>\n",
       "<tr><td>Knee                         </td><td>$\\beta_{9}$          </td><td>0.06                 </td><td>-0.42                   </td><td>0.59               </td></tr>\n",
       "<tr><td>Ankle                        </td><td>$\\beta_{10}$         </td><td>0.23                 </td><td>-0.22                   </td><td>0.76               </td></tr>\n",
       "<tr><td>BTH                          </td><td>$\\beta_{11}$         </td><td>44.02                </td><td>-4.49                   </td><td>113.90             </td></tr>\n",
       "<tr><td>FTH                          </td><td>$\\beta_{12}$         </td><td>65.23                </td><td>2.96                    </td><td>142.07             </td></tr>\n",
       "<tr><td>Wrist                        </td><td>$\\beta_{13}$         </td><td>-1.67                </td><td>-2.65                   </td><td>-0.64              </td></tr>\n",
       "<tr><td>                             </td><td>                     </td><td>                     </td><td>                        </td><td>                   </td></tr>\n",
       "<tr><td><strong>Metrics</strong     </td><td><strong>Mean</strong</td><td><strong>Lo</strong  </td><td><strong>Hi</strong     </td><td>                   </td></tr>\n",
       "<tr><td>$\\sigma$                     </td><td>4.03                 </td><td>3.55                 </td><td>4.34                    </td><td>                   </td></tr>\n",
       "<tr><td>$R^2$                        </td><td>0.74                 </td><td>0.68                 </td><td>0.80                    </td><td>                   </td></tr>\n",
       "</tbody>\n",
       "</table></p>"
      ],
      "text/latex": [
       "\\textbf{Model: BodyFat $\\sim$ Age + Weight + Height + Neck + Chest + ATH + Hip + TTH + Knee + Ankle +\n",
       "        BTH + FTH + Wrist}\n",
       "\n",
       "\\begin{tabular}{lllll}\n",
       "\\toprule\n",
       "                       &               &               & \\textbf{95\\% BCI} &             \\\\\n",
       " \\textbf{Coefficients} &               & \\textbf{Mean} & \\textbf{Lo}      & \\textbf{Hi} \\\\\n",
       "                       & $\\beta_{0}$   & -120.06       & -172.28          & -57.70      \\\\\n",
       " Age                   & $\\beta_{1}$   & 0.05          & 0.01             & 0.11        \\\\\n",
       " Weight                & $\\beta_{2}$   & -0.06         & -0.18            & 0.07        \\\\\n",
       " Height                & $\\beta_{3}$   & 0.60          & 0.36             & 0.81        \\\\\n",
       " Neck                  & $\\beta_{4}$   & -0.44         & -0.86            & -0.11       \\\\\n",
       " Chest                 & $\\beta_{5}$   & -0.10         & -0.31            & 0.09        \\\\\n",
       " ATH                   & $\\beta_{6}$   & 164.48        & 131.44           & 192.19      \\\\\n",
       " Hip                   & $\\beta_{7}$   & -0.28         & -0.50            & 0.01        \\\\\n",
       " TTH                   & $\\beta_{8}$   & 42.95         & -7.41            & 81.47       \\\\\n",
       " Knee                  & $\\beta_{9}$   & 0.06          & -0.42            & 0.59        \\\\\n",
       " Ankle                 & $\\beta_{10}$  & 0.23          & -0.22            & 0.76        \\\\\n",
       " BTH                   & $\\beta_{11}$  & 44.02         & -4.49            & 113.90      \\\\\n",
       " FTH                   & $\\beta_{12}$  & 65.23         & 2.96             & 142.07      \\\\\n",
       " Wrist                 & $\\beta_{13}$  & -1.67         & -2.65            & -0.64       \\\\\n",
       "                       &               &               &                  &             \\\\\n",
       " \\textbf{Metrics}      & \\textbf{Mean} & \\textbf{Lo}   & \\textbf{Hi}      &             \\\\\n",
       " $\\sigma$              & 4.03          & 3.55          & 4.34             &             \\\\\n",
       " $R^2$                 & 0.74          & 0.68          & 0.80             &             \\\\\n",
       "\\bottomrule\n",
       "\\end{tabular}"
      ],
      "text/markdown": [
       "Model: BodyFat ~ Age + Weight + Height + Neck + Chest + ATH + Hip + TTH + Knee + Ankle +\n",
       "        BTH + FTH + Wrist\n",
       "|------------------|--------------|----------|-------------|--------|\n",
       "|                  |              |          | **95% BCI** |        |\n",
       "| **Coefficients** |              | **Mean** | **Lo**      | **Hi** |\n",
       "|                  | $\\beta_{0}$  | -120.06  | -172.28     | -57.70 |\n",
       "| Age              | $\\beta_{1}$  | 0.05     | 0.01        | 0.11   |\n",
       "| Weight           | $\\beta_{2}$  | -0.06    | -0.18       | 0.07   |\n",
       "| Height           | $\\beta_{3}$  | 0.60     | 0.36        | 0.81   |\n",
       "| Neck             | $\\beta_{4}$  | -0.44    | -0.86       | -0.11  |\n",
       "| Chest            | $\\beta_{5}$  | -0.10    | -0.31       | 0.09   |\n",
       "| ATH              | $\\beta_{6}$  | 164.48   | 131.44      | 192.19 |\n",
       "| Hip              | $\\beta_{7}$  | -0.28    | -0.50       | 0.01   |\n",
       "| TTH              | $\\beta_{8}$  | 42.95    | -7.41       | 81.47  |\n",
       "| Knee             | $\\beta_{9}$  | 0.06     | -0.42       | 0.59   |\n",
       "| Ankle            | $\\beta_{10}$ | 0.23     | -0.22       | 0.76   |\n",
       "| BTH              | $\\beta_{11}$ | 44.02    | -4.49       | 113.90 |\n",
       "| FTH              | $\\beta_{12}$ | 65.23    | 2.96        | 142.07 |\n",
       "| Wrist            | $\\beta_{13}$ | -1.67    | -2.65       | -0.64  |\n",
       "|                  |              |          |             |        |\n",
       "| **Metrics**      | **Mean**     | **Lo**   | **Hi**      |        |\n",
       "| $\\sigma$         | 4.03         | 3.55     | 4.34        |        |\n",
       "| $R^2$            | 0.74         | 0.68     | 0.80        |        |"
      ],
      "text/plain": [
       "<models.ResultsWrapper at 0x7f84d161fa00>"
      ]
     },
     "execution_count": 37,
     "metadata": {},
     "output_type": "execute_result"
    }
   ],
   "source": [
    "random.seed(9)\n",
    "model = \"\"\"BodyFat ~ Age + Weight + Height + Neck + Chest + ATH + Hip + TTH + Knee + Ankle +\n",
    "        BTH + FTH + Wrist\"\"\"\n",
    "result9 = models.bootstrap_linear_regression(model, data= bodyfat)\n",
    "models.describe_bootstrap_lr(result9)"
   ]
  },
  {
   "cell_type": "code",
   "execution_count": 38,
   "id": "8f73f8a4-0de6-442e-8f0f-dbfe6134dc7f",
   "metadata": {},
   "outputs": [
    {
     "name": "stdout",
     "output_type": "stream",
     "text": [
      "0.7281217656664962\n",
      "0.7281497765920402\n"
     ]
    }
   ],
   "source": [
    "print(models.adjusted_r_squared(result8))\n",
    "print(models.adjusted_r_squared(result9))"
   ]
  },
  {
   "cell_type": "markdown",
   "id": "d3294329-64b1-4638-a947-bbc6ac66e515",
   "metadata": {},
   "source": [
    "We observe no improvement in the model metrics, however, FTH's CI is now completely positive, so we will use the scaled version. Next we can try transforming wrist. "
   ]
  },
  {
   "cell_type": "code",
   "execution_count": 39,
   "id": "18636b70-1352-4349-82b8-819d1ba89c52",
   "metadata": {},
   "outputs": [
    {
     "data": {
      "text/html": [
       "<p><strong>Model: BodyFat ~ Age + Weight + Height + Neck + Chest + ATH + Hip + TTH + Knee + Ankle +\n",
       "        BTH + FTH + WTH</strong><br/><table>\n",
       "<tbody>\n",
       "<tr><td>                             </td><td>                     </td><td>                     </td><td><strong>95% BCI</strong</td><td>                   </td></tr>\n",
       "<tr><td><strong>Coefficients</strong</td><td>                     </td><td><strong>Mean</strong</td><td><strong>Lo</strong     </td><td><strong>Hi</strong</td></tr>\n",
       "<tr><td>                             </td><td>$\\beta_{0}$          </td><td>-91.34               </td><td>-142.65                 </td><td>-26.93             </td></tr>\n",
       "<tr><td>Age                          </td><td>$\\beta_{1}$          </td><td>0.05                 </td><td>0.01                    </td><td>0.11               </td></tr>\n",
       "<tr><td>Weight                       </td><td>$\\beta_{2}$          </td><td>-0.07                </td><td>-0.16                   </td><td>0.06               </td></tr>\n",
       "<tr><td>Height                       </td><td>$\\beta_{3}$          </td><td>0.44                 </td><td>0.14                    </td><td>0.66               </td></tr>\n",
       "<tr><td>Neck                         </td><td>$\\beta_{4}$          </td><td>-0.44                </td><td>-0.76                   </td><td>-0.03              </td></tr>\n",
       "<tr><td>Chest                        </td><td>$\\beta_{5}$          </td><td>-0.10                </td><td>-0.30                   </td><td>0.08               </td></tr>\n",
       "<tr><td>ATH                          </td><td>$\\beta_{6}$          </td><td>165.02               </td><td>133.17                  </td><td>186.12             </td></tr>\n",
       "<tr><td>Hip                          </td><td>$\\beta_{7}$          </td><td>-0.28                </td><td>-0.57                   </td><td>0.00               </td></tr>\n",
       "<tr><td>TTH                          </td><td>$\\beta_{8}$          </td><td>43.14                </td><td>-5.25                   </td><td>87.59              </td></tr>\n",
       "<tr><td>Knee                         </td><td>$\\beta_{9}$          </td><td>0.06                 </td><td>-0.41                   </td><td>0.54               </td></tr>\n",
       "<tr><td>Ankle                        </td><td>$\\beta_{10}$         </td><td>0.23                 </td><td>-0.25                   </td><td>0.62               </td></tr>\n",
       "<tr><td>BTH                          </td><td>$\\beta_{11}$         </td><td>44.04                </td><td>-18.14                  </td><td>99.43              </td></tr>\n",
       "<tr><td>FTH                          </td><td>$\\beta_{12}$         </td><td>66.15                </td><td>9.04                    </td><td>119.06             </td></tr>\n",
       "<tr><td>WTH                          </td><td>$\\beta_{13}$         </td><td>-294.29              </td><td>-475.99                 </td><td>-115.31            </td></tr>\n",
       "<tr><td>                             </td><td>                     </td><td>                     </td><td>                        </td><td>                   </td></tr>\n",
       "<tr><td><strong>Metrics</strong     </td><td><strong>Mean</strong</td><td><strong>Lo</strong  </td><td><strong>Hi</strong     </td><td>                   </td></tr>\n",
       "<tr><td>$\\sigma$                     </td><td>4.04                 </td><td>3.58                 </td><td>4.29                    </td><td>                   </td></tr>\n",
       "<tr><td>$R^2$                        </td><td>0.74                 </td><td>0.71                 </td><td>0.80                    </td><td>                   </td></tr>\n",
       "</tbody>\n",
       "</table></p>"
      ],
      "text/latex": [
       "\\textbf{Model: BodyFat $\\sim$ Age + Weight + Height + Neck + Chest + ATH + Hip + TTH + Knee + Ankle +\n",
       "        BTH + FTH + WTH}\n",
       "\n",
       "\\begin{tabular}{lllll}\n",
       "\\toprule\n",
       "                       &               &               & \\textbf{95\\% BCI} &             \\\\\n",
       " \\textbf{Coefficients} &               & \\textbf{Mean} & \\textbf{Lo}      & \\textbf{Hi} \\\\\n",
       "                       & $\\beta_{0}$   & -91.34        & -142.65          & -26.93      \\\\\n",
       " Age                   & $\\beta_{1}$   & 0.05          & 0.01             & 0.11        \\\\\n",
       " Weight                & $\\beta_{2}$   & -0.07         & -0.16            & 0.06        \\\\\n",
       " Height                & $\\beta_{3}$   & 0.44          & 0.14             & 0.66        \\\\\n",
       " Neck                  & $\\beta_{4}$   & -0.44         & -0.76            & -0.03       \\\\\n",
       " Chest                 & $\\beta_{5}$   & -0.10         & -0.30            & 0.08        \\\\\n",
       " ATH                   & $\\beta_{6}$   & 165.02        & 133.17           & 186.12      \\\\\n",
       " Hip                   & $\\beta_{7}$   & -0.28         & -0.57            & 0.00        \\\\\n",
       " TTH                   & $\\beta_{8}$   & 43.14         & -5.25            & 87.59       \\\\\n",
       " Knee                  & $\\beta_{9}$   & 0.06          & -0.41            & 0.54        \\\\\n",
       " Ankle                 & $\\beta_{10}$  & 0.23          & -0.25            & 0.62        \\\\\n",
       " BTH                   & $\\beta_{11}$  & 44.04         & -18.14           & 99.43       \\\\\n",
       " FTH                   & $\\beta_{12}$  & 66.15         & 9.04             & 119.06      \\\\\n",
       " WTH                   & $\\beta_{13}$  & -294.29       & -475.99          & -115.31     \\\\\n",
       "                       &               &               &                  &             \\\\\n",
       " \\textbf{Metrics}      & \\textbf{Mean} & \\textbf{Lo}   & \\textbf{Hi}      &             \\\\\n",
       " $\\sigma$              & 4.04          & 3.58          & 4.29             &             \\\\\n",
       " $R^2$                 & 0.74          & 0.71          & 0.80             &             \\\\\n",
       "\\bottomrule\n",
       "\\end{tabular}"
      ],
      "text/markdown": [
       "Model: BodyFat ~ Age + Weight + Height + Neck + Chest + ATH + Hip + TTH + Knee + Ankle +\n",
       "        BTH + FTH + WTH\n",
       "|------------------|--------------|----------|-------------|---------|\n",
       "|                  |              |          | **95% BCI** |         |\n",
       "| **Coefficients** |              | **Mean** | **Lo**      | **Hi**  |\n",
       "|                  | $\\beta_{0}$  | -91.34   | -142.65     | -26.93  |\n",
       "| Age              | $\\beta_{1}$  | 0.05     | 0.01        | 0.11    |\n",
       "| Weight           | $\\beta_{2}$  | -0.07    | -0.16       | 0.06    |\n",
       "| Height           | $\\beta_{3}$  | 0.44     | 0.14        | 0.66    |\n",
       "| Neck             | $\\beta_{4}$  | -0.44    | -0.76       | -0.03   |\n",
       "| Chest            | $\\beta_{5}$  | -0.10    | -0.30       | 0.08    |\n",
       "| ATH              | $\\beta_{6}$  | 165.02   | 133.17      | 186.12  |\n",
       "| Hip              | $\\beta_{7}$  | -0.28    | -0.57       | 0.00    |\n",
       "| TTH              | $\\beta_{8}$  | 43.14    | -5.25       | 87.59   |\n",
       "| Knee             | $\\beta_{9}$  | 0.06     | -0.41       | 0.54    |\n",
       "| Ankle            | $\\beta_{10}$ | 0.23     | -0.25       | 0.62    |\n",
       "| BTH              | $\\beta_{11}$ | 44.04    | -18.14      | 99.43   |\n",
       "| FTH              | $\\beta_{12}$ | 66.15    | 9.04        | 119.06  |\n",
       "| WTH              | $\\beta_{13}$ | -294.29  | -475.99     | -115.31 |\n",
       "|                  |              |          |             |         |\n",
       "| **Metrics**      | **Mean**     | **Lo**   | **Hi**      |         |\n",
       "| $\\sigma$         | 4.04         | 3.58     | 4.29        |         |\n",
       "| $R^2$            | 0.74         | 0.71     | 0.80        |         |"
      ],
      "text/plain": [
       "<models.ResultsWrapper at 0x7f84d0ee1880>"
      ]
     },
     "execution_count": 39,
     "metadata": {},
     "output_type": "execute_result"
    }
   ],
   "source": [
    "random.seed(10)\n",
    "model = \"\"\"BodyFat ~ Age + Weight + Height + Neck + Chest + ATH + Hip + TTH + Knee + Ankle +\n",
    "        BTH + FTH + WTH\"\"\"\n",
    "result10 = models.bootstrap_linear_regression(model, data= bodyfat)\n",
    "models.describe_bootstrap_lr(result10)"
   ]
  },
  {
   "cell_type": "code",
   "execution_count": 40,
   "id": "b8ba5f6d-1118-4ad9-b579-e20c1be80276",
   "metadata": {},
   "outputs": [
    {
     "name": "stdout",
     "output_type": "stream",
     "text": [
      "0.7281497765920402\n",
      "0.7279726608185259\n"
     ]
    }
   ],
   "source": [
    "print(models.adjusted_r_squared(result9))\n",
    "print(models.adjusted_r_squared(result10))"
   ]
  },
  {
   "cell_type": "markdown",
   "id": "1fd8fcb5-35b8-4fd5-ace5-93318c59bb86",
   "metadata": {},
   "source": [
    "Again we don't see any improvement in the metrics so we will keep the unscaled version. \n",
    "\n",
    "Now, let's test Neck to Height."
   ]
  },
  {
   "cell_type": "code",
   "execution_count": 41,
   "id": "80f6d64a-671c-411d-9ff8-eddcf1ac0752",
   "metadata": {},
   "outputs": [
    {
     "data": {
      "text/html": [
       "<p><strong>Model: BodyFat ~ Age + Weight + Height + NTH + Chest + ATH + Hip + TTH + Knee + Ankle +\n",
       "        BTH + Forearm + Wrist</strong><br/><table>\n",
       "<tbody>\n",
       "<tr><td>                             </td><td>                     </td><td>                     </td><td><strong>95% BCI</strong</td><td>                   </td></tr>\n",
       "<tr><td><strong>Coefficients</strong</td><td>                     </td><td><strong>Mean</strong</td><td><strong>Lo</strong     </td><td><strong>Hi</strong</td></tr>\n",
       "<tr><td>                             </td><td>$\\beta_{0}$          </td><td>-95.91               </td><td>-149.64                 </td><td>-28.86             </td></tr>\n",
       "<tr><td>Age                          </td><td>$\\beta_{1}$          </td><td>0.05                 </td><td>0.01                    </td><td>0.09               </td></tr>\n",
       "<tr><td>Weight                       </td><td>$\\beta_{2}$          </td><td>-0.07                </td><td>-0.17                   </td><td>0.09               </td></tr>\n",
       "<tr><td>Height                       </td><td>$\\beta_{3}$          </td><td>0.46                 </td><td>0.22                    </td><td>0.69               </td></tr>\n",
       "<tr><td>NTH                          </td><td>$\\beta_{4}$          </td><td>-74.71               </td><td>-136.50                 </td><td>-14.89             </td></tr>\n",
       "<tr><td>Chest                        </td><td>$\\beta_{5}$          </td><td>-0.10                </td><td>-0.31                   </td><td>0.07               </td></tr>\n",
       "<tr><td>ATH                          </td><td>$\\beta_{6}$          </td><td>165.15               </td><td>134.44                  </td><td>190.06             </td></tr>\n",
       "<tr><td>Hip                          </td><td>$\\beta_{7}$          </td><td>-0.28                </td><td>-0.52                   </td><td>-0.05              </td></tr>\n",
       "<tr><td>TTH                          </td><td>$\\beta_{8}$          </td><td>42.97                </td><td>2.58                    </td><td>89.97              </td></tr>\n",
       "<tr><td>Knee                         </td><td>$\\beta_{9}$          </td><td>0.06                 </td><td>-0.43                   </td><td>0.38               </td></tr>\n",
       "<tr><td>Ankle                        </td><td>$\\beta_{10}$         </td><td>0.23                 </td><td>-0.35                   </td><td>0.68               </td></tr>\n",
       "<tr><td>BTH                          </td><td>$\\beta_{11}$         </td><td>44.37                </td><td>-15.29                  </td><td>103.49             </td></tr>\n",
       "<tr><td>Forearm                      </td><td>$\\beta_{12}$         </td><td>0.37                 </td><td>0.01                    </td><td>0.77               </td></tr>\n",
       "<tr><td>Wrist                        </td><td>$\\beta_{13}$         </td><td>-1.67                </td><td>-2.62                   </td><td>-0.86              </td></tr>\n",
       "<tr><td>                             </td><td>                     </td><td>                     </td><td>                        </td><td>                   </td></tr>\n",
       "<tr><td><strong>Metrics</strong     </td><td><strong>Mean</strong</td><td><strong>Lo</strong  </td><td><strong>Hi</strong     </td><td>                   </td></tr>\n",
       "<tr><td>$\\sigma$                     </td><td>4.04                 </td><td>3.54                 </td><td>4.34                    </td><td>                   </td></tr>\n",
       "<tr><td>$R^2$                        </td><td>0.74                 </td><td>0.71                 </td><td>0.80                    </td><td>                   </td></tr>\n",
       "</tbody>\n",
       "</table></p>"
      ],
      "text/latex": [
       "\\textbf{Model: BodyFat $\\sim$ Age + Weight + Height + NTH + Chest + ATH + Hip + TTH + Knee + Ankle +\n",
       "        BTH + Forearm + Wrist}\n",
       "\n",
       "\\begin{tabular}{lllll}\n",
       "\\toprule\n",
       "                       &               &               & \\textbf{95\\% BCI} &             \\\\\n",
       " \\textbf{Coefficients} &               & \\textbf{Mean} & \\textbf{Lo}      & \\textbf{Hi} \\\\\n",
       "                       & $\\beta_{0}$   & -95.91        & -149.64          & -28.86      \\\\\n",
       " Age                   & $\\beta_{1}$   & 0.05          & 0.01             & 0.09        \\\\\n",
       " Weight                & $\\beta_{2}$   & -0.07         & -0.17            & 0.09        \\\\\n",
       " Height                & $\\beta_{3}$   & 0.46          & 0.22             & 0.69        \\\\\n",
       " NTH                   & $\\beta_{4}$   & -74.71        & -136.50          & -14.89      \\\\\n",
       " Chest                 & $\\beta_{5}$   & -0.10         & -0.31            & 0.07        \\\\\n",
       " ATH                   & $\\beta_{6}$   & 165.15        & 134.44           & 190.06      \\\\\n",
       " Hip                   & $\\beta_{7}$   & -0.28         & -0.52            & -0.05       \\\\\n",
       " TTH                   & $\\beta_{8}$   & 42.97         & 2.58             & 89.97       \\\\\n",
       " Knee                  & $\\beta_{9}$   & 0.06          & -0.43            & 0.38        \\\\\n",
       " Ankle                 & $\\beta_{10}$  & 0.23          & -0.35            & 0.68        \\\\\n",
       " BTH                   & $\\beta_{11}$  & 44.37         & -15.29           & 103.49      \\\\\n",
       " Forearm               & $\\beta_{12}$  & 0.37          & 0.01             & 0.77        \\\\\n",
       " Wrist                 & $\\beta_{13}$  & -1.67         & -2.62            & -0.86       \\\\\n",
       "                       &               &               &                  &             \\\\\n",
       " \\textbf{Metrics}      & \\textbf{Mean} & \\textbf{Lo}   & \\textbf{Hi}      &             \\\\\n",
       " $\\sigma$              & 4.04          & 3.54          & 4.34             &             \\\\\n",
       " $R^2$                 & 0.74          & 0.71          & 0.80             &             \\\\\n",
       "\\bottomrule\n",
       "\\end{tabular}"
      ],
      "text/markdown": [
       "Model: BodyFat ~ Age + Weight + Height + NTH + Chest + ATH + Hip + TTH + Knee + Ankle +\n",
       "        BTH + Forearm + Wrist\n",
       "|------------------|--------------|----------|-------------|--------|\n",
       "|                  |              |          | **95% BCI** |        |\n",
       "| **Coefficients** |              | **Mean** | **Lo**      | **Hi** |\n",
       "|                  | $\\beta_{0}$  | -95.91   | -149.64     | -28.86 |\n",
       "| Age              | $\\beta_{1}$  | 0.05     | 0.01        | 0.09   |\n",
       "| Weight           | $\\beta_{2}$  | -0.07    | -0.17       | 0.09   |\n",
       "| Height           | $\\beta_{3}$  | 0.46     | 0.22        | 0.69   |\n",
       "| NTH              | $\\beta_{4}$  | -74.71   | -136.50     | -14.89 |\n",
       "| Chest            | $\\beta_{5}$  | -0.10    | -0.31       | 0.07   |\n",
       "| ATH              | $\\beta_{6}$  | 165.15   | 134.44      | 190.06 |\n",
       "| Hip              | $\\beta_{7}$  | -0.28    | -0.52       | -0.05  |\n",
       "| TTH              | $\\beta_{8}$  | 42.97    | 2.58        | 89.97  |\n",
       "| Knee             | $\\beta_{9}$  | 0.06     | -0.43       | 0.38   |\n",
       "| Ankle            | $\\beta_{10}$ | 0.23     | -0.35       | 0.68   |\n",
       "| BTH              | $\\beta_{11}$ | 44.37    | -15.29      | 103.49 |\n",
       "| Forearm          | $\\beta_{12}$ | 0.37     | 0.01        | 0.77   |\n",
       "| Wrist            | $\\beta_{13}$ | -1.67    | -2.62       | -0.86  |\n",
       "|                  |              |          |             |        |\n",
       "| **Metrics**      | **Mean**     | **Lo**   | **Hi**      |        |\n",
       "| $\\sigma$         | 4.04         | 3.54     | 4.34        |        |\n",
       "| $R^2$            | 0.74         | 0.71     | 0.80        |        |"
      ],
      "text/plain": [
       "<models.ResultsWrapper at 0x7f84b1ab6a00>"
      ]
     },
     "execution_count": 41,
     "metadata": {},
     "output_type": "execute_result"
    }
   ],
   "source": [
    "random.seed(11)\n",
    "model = model = \"\"\"BodyFat ~ Age + Weight + Height + NTH + Chest + ATH + Hip + TTH + Knee + Ankle +\n",
    "        BTH + Forearm + Wrist\"\"\"\n",
    "result11 = models.bootstrap_linear_regression(model, data= bodyfat)\n",
    "models.describe_bootstrap_lr(result11)"
   ]
  },
  {
   "cell_type": "code",
   "execution_count": 42,
   "id": "280f79ee-9372-46a4-b9cb-a29995b37ca0",
   "metadata": {},
   "outputs": [
    {
     "name": "stdout",
     "output_type": "stream",
     "text": [
      "0.7281497765920402\n",
      "0.7278512159255285\n"
     ]
    }
   ],
   "source": [
    "print(models.adjusted_r_squared(result9))\n",
    "print(models.adjusted_r_squared(result11))"
   ]
  },
  {
   "cell_type": "markdown",
   "id": "5684508b-d13f-4ea2-94ce-e7bd8f663018",
   "metadata": {},
   "source": [
    "Again changing Neck to Neck to Heigh does not improve $\\sigma$ or the $R^2$'s. As a last hail mary, let's see if adding all the scaled versions improves $\\sigma$."
   ]
  },
  {
   "cell_type": "code",
   "execution_count": 43,
   "id": "efdda01c-62f5-4be6-a687-97117c087527",
   "metadata": {},
   "outputs": [
    {
     "data": {
      "text/html": [
       "<p><strong>Model: BodyFat ~ Age + Weight + Height + NTH + CTH + ATH + HTH + TTH + KTH + AKTH +\n",
       "        BTH + FTH + WTH</strong><br/><table>\n",
       "<tbody>\n",
       "<tr><td>                             </td><td>                     </td><td>                     </td><td><strong>95% BCI</strong</td><td>                   </td></tr>\n",
       "<tr><td><strong>Coefficients</strong</td><td>                     </td><td><strong>Mean</strong</td><td><strong>Lo</strong     </td><td><strong>Hi</strong</td></tr>\n",
       "<tr><td>                             </td><td>$\\beta_{0}$          </td><td>-59.73               </td><td>-115.40                 </td><td>26.42              </td></tr>\n",
       "<tr><td>Age                          </td><td>$\\beta_{1}$          </td><td>0.05                 </td><td>0.01                    </td><td>0.11               </td></tr>\n",
       "<tr><td>Weight                       </td><td>$\\beta_{2}$          </td><td>-0.09                </td><td>-0.17                   </td><td>0.04               </td></tr>\n",
       "<tr><td>Height                       </td><td>$\\beta_{3}$          </td><td>0.24                 </td><td>-0.11                   </td><td>0.47               </td></tr>\n",
       "<tr><td>NTH                          </td><td>$\\beta_{4}$          </td><td>-72.85               </td><td>-147.78                 </td><td>-5.24              </td></tr>\n",
       "<tr><td>CTH                          </td><td>$\\beta_{5}$          </td><td>-14.05               </td><td>-48.96                  </td><td>16.66              </td></tr>\n",
       "<tr><td>ATH                          </td><td>$\\beta_{6}$          </td><td>165.48               </td><td>127.90                  </td><td>191.94             </td></tr>\n",
       "<tr><td>HTH                          </td><td>$\\beta_{7}$          </td><td>-41.28               </td><td>-84.91                  </td><td>-3.04              </td></tr>\n",
       "<tr><td>TTH                          </td><td>$\\beta_{8}$          </td><td>41.53                </td><td>5.48                    </td><td>84.49              </td></tr>\n",
       "<tr><td>KTH                          </td><td>$\\beta_{9}$          </td><td>8.55                 </td><td>-57.67                  </td><td>67.06              </td></tr>\n",
       "<tr><td>AKTH                         </td><td>$\\beta_{10}$         </td><td>45.24                </td><td>-66.97                  </td><td>111.45             </td></tr>\n",
       "<tr><td>BTH                          </td><td>$\\beta_{11}$         </td><td>44.79                </td><td>-17.18                  </td><td>118.24             </td></tr>\n",
       "<tr><td>FTH                          </td><td>$\\beta_{12}$         </td><td>68.24                </td><td>-2.90                   </td><td>136.84             </td></tr>\n",
       "<tr><td>WTH                          </td><td>$\\beta_{13}$         </td><td>-296.22              </td><td>-475.24                 </td><td>-152.69            </td></tr>\n",
       "<tr><td>                             </td><td>                     </td><td>                     </td><td>                        </td><td>                   </td></tr>\n",
       "<tr><td><strong>Metrics</strong     </td><td><strong>Mean</strong</td><td><strong>Lo</strong  </td><td><strong>Hi</strong     </td><td>                   </td></tr>\n",
       "<tr><td>$\\sigma$                     </td><td>4.04                 </td><td>3.57                 </td><td>4.30                    </td><td>                   </td></tr>\n",
       "<tr><td>$R^2$                        </td><td>0.74                 </td><td>0.69                 </td><td>0.80                    </td><td>                   </td></tr>\n",
       "</tbody>\n",
       "</table></p>"
      ],
      "text/latex": [
       "\\textbf{Model: BodyFat $\\sim$ Age + Weight + Height + NTH + CTH + ATH + HTH + TTH + KTH + AKTH +\n",
       "        BTH + FTH + WTH}\n",
       "\n",
       "\\begin{tabular}{lllll}\n",
       "\\toprule\n",
       "                       &               &               & \\textbf{95\\% BCI} &             \\\\\n",
       " \\textbf{Coefficients} &               & \\textbf{Mean} & \\textbf{Lo}      & \\textbf{Hi} \\\\\n",
       "                       & $\\beta_{0}$   & -59.73        & -115.40          & 26.42       \\\\\n",
       " Age                   & $\\beta_{1}$   & 0.05          & 0.01             & 0.11        \\\\\n",
       " Weight                & $\\beta_{2}$   & -0.09         & -0.17            & 0.04        \\\\\n",
       " Height                & $\\beta_{3}$   & 0.24          & -0.11            & 0.47        \\\\\n",
       " NTH                   & $\\beta_{4}$   & -72.85        & -147.78          & -5.24       \\\\\n",
       " CTH                   & $\\beta_{5}$   & -14.05        & -48.96           & 16.66       \\\\\n",
       " ATH                   & $\\beta_{6}$   & 165.48        & 127.90           & 191.94      \\\\\n",
       " HTH                   & $\\beta_{7}$   & -41.28        & -84.91           & -3.04       \\\\\n",
       " TTH                   & $\\beta_{8}$   & 41.53         & 5.48             & 84.49       \\\\\n",
       " KTH                   & $\\beta_{9}$   & 8.55          & -57.67           & 67.06       \\\\\n",
       " AKTH                  & $\\beta_{10}$  & 45.24         & -66.97           & 111.45      \\\\\n",
       " BTH                   & $\\beta_{11}$  & 44.79         & -17.18           & 118.24      \\\\\n",
       " FTH                   & $\\beta_{12}$  & 68.24         & -2.90            & 136.84      \\\\\n",
       " WTH                   & $\\beta_{13}$  & -296.22       & -475.24          & -152.69     \\\\\n",
       "                       &               &               &                  &             \\\\\n",
       " \\textbf{Metrics}      & \\textbf{Mean} & \\textbf{Lo}   & \\textbf{Hi}      &             \\\\\n",
       " $\\sigma$              & 4.04          & 3.57          & 4.30             &             \\\\\n",
       " $R^2$                 & 0.74          & 0.69          & 0.80             &             \\\\\n",
       "\\bottomrule\n",
       "\\end{tabular}"
      ],
      "text/markdown": [
       "Model: BodyFat ~ Age + Weight + Height + NTH + CTH + ATH + HTH + TTH + KTH + AKTH +\n",
       "        BTH + FTH + WTH\n",
       "|------------------|--------------|----------|-------------|---------|\n",
       "|                  |              |          | **95% BCI** |         |\n",
       "| **Coefficients** |              | **Mean** | **Lo**      | **Hi**  |\n",
       "|                  | $\\beta_{0}$  | -59.73   | -115.40     | 26.42   |\n",
       "| Age              | $\\beta_{1}$  | 0.05     | 0.01        | 0.11    |\n",
       "| Weight           | $\\beta_{2}$  | -0.09    | -0.17       | 0.04    |\n",
       "| Height           | $\\beta_{3}$  | 0.24     | -0.11       | 0.47    |\n",
       "| NTH              | $\\beta_{4}$  | -72.85   | -147.78     | -5.24   |\n",
       "| CTH              | $\\beta_{5}$  | -14.05   | -48.96      | 16.66   |\n",
       "| ATH              | $\\beta_{6}$  | 165.48   | 127.90      | 191.94  |\n",
       "| HTH              | $\\beta_{7}$  | -41.28   | -84.91      | -3.04   |\n",
       "| TTH              | $\\beta_{8}$  | 41.53    | 5.48        | 84.49   |\n",
       "| KTH              | $\\beta_{9}$  | 8.55     | -57.67      | 67.06   |\n",
       "| AKTH             | $\\beta_{10}$ | 45.24    | -66.97      | 111.45  |\n",
       "| BTH              | $\\beta_{11}$ | 44.79    | -17.18      | 118.24  |\n",
       "| FTH              | $\\beta_{12}$ | 68.24    | -2.90       | 136.84  |\n",
       "| WTH              | $\\beta_{13}$ | -296.22  | -475.24     | -152.69 |\n",
       "|                  |              |          |             |         |\n",
       "| **Metrics**      | **Mean**     | **Lo**   | **Hi**      |         |\n",
       "| $\\sigma$         | 4.04         | 3.57     | 4.30        |         |\n",
       "| $R^2$            | 0.74         | 0.69     | 0.80        |         |"
      ],
      "text/plain": [
       "<models.ResultsWrapper at 0x7f84d12deb20>"
      ]
     },
     "execution_count": 43,
     "metadata": {},
     "output_type": "execute_result"
    }
   ],
   "source": [
    "random.seed(12)\n",
    "model = model = \"\"\"BodyFat ~ Age + Weight + Height + NTH + CTH + ATH + HTH + TTH + KTH + AKTH +\n",
    "        BTH + FTH + WTH\"\"\"\n",
    "result12 = models.bootstrap_linear_regression(model, data= bodyfat)\n",
    "models.describe_bootstrap_lr(result12)"
   ]
  },
  {
   "cell_type": "code",
   "execution_count": 44,
   "id": "0177bbf1-0f48-41ec-953a-3aefb2e14ef8",
   "metadata": {},
   "outputs": [
    {
     "name": "stdout",
     "output_type": "stream",
     "text": [
      "0.7281497765920402\n",
      "0.726785133687134\n"
     ]
    }
   ],
   "source": [
    "print(models.adjusted_r_squared(result9))\n",
    "print(models.adjusted_r_squared(result12))"
   ]
  },
  {
   "cell_type": "markdown",
   "id": "e1ffac29-1fca-4234-a5ef-7c46b6747486",
   "metadata": {},
   "source": [
    "Scaling all the measurements doesn't necessarily improve the model. So we will use the model that has scaled the abdomen, thigh, bicep and forearm only. Our tentative model therefore is model 9. \n",
    "\n",
    "Let's add the two other interactions that very strongly correlated with body fat, BMI and Abdomen to Hip (or Waist to Hip) ratio. We will add them one at a time."
   ]
  },
  {
   "cell_type": "code",
   "execution_count": 45,
   "id": "a4756387-8652-45fa-af60-53b6db247f1c",
   "metadata": {},
   "outputs": [
    {
     "data": {
      "text/html": [
       "<p><strong>Model: BodyFat ~ Age + Weight + Height + Neck + Chest + ATH + Hip + TTH + Knee + Ankle +\n",
       "        BTH + FTH + Wrist + BMI</strong><br/><table>\n",
       "<tbody>\n",
       "<tr><td>                             </td><td>                     </td><td>                     </td><td><strong>95% BCI</strong</td><td>                   </td></tr>\n",
       "<tr><td><strong>Coefficients</strong</td><td>                     </td><td><strong>Mean</strong</td><td><strong>Lo</strong     </td><td><strong>Hi</strong</td></tr>\n",
       "<tr><td>                             </td><td>$\\beta_{0}$          </td><td>-190.30              </td><td>-305.37                 </td><td>-78.94             </td></tr>\n",
       "<tr><td>Age                          </td><td>$\\beta_{1}$          </td><td>0.06                 </td><td>-0.01                   </td><td>0.11               </td></tr>\n",
       "<tr><td>Weight                       </td><td>$\\beta_{2}$          </td><td>-0.27                </td><td>-0.59                   </td><td>0.02               </td></tr>\n",
       "<tr><td>Height                       </td><td>$\\beta_{3}$          </td><td>1.03                 </td><td>0.44                    </td><td>1.62               </td></tr>\n",
       "<tr><td>Neck                         </td><td>$\\beta_{4}$          </td><td>-0.42                </td><td>-0.78                   </td><td>-0.06              </td></tr>\n",
       "<tr><td>Chest                        </td><td>$\\beta_{5}$          </td><td>-0.13                </td><td>-0.38                   </td><td>0.02               </td></tr>\n",
       "<tr><td>ATH                          </td><td>$\\beta_{6}$          </td><td>156.01               </td><td>120.54                  </td><td>189.20             </td></tr>\n",
       "<tr><td>Hip                          </td><td>$\\beta_{7}$          </td><td>-0.32                </td><td>-0.60                   </td><td>-0.06              </td></tr>\n",
       "<tr><td>TTH                          </td><td>$\\beta_{8}$          </td><td>41.46                </td><td>6.94                    </td><td>84.19              </td></tr>\n",
       "<tr><td>Knee                         </td><td>$\\beta_{9}$          </td><td>0.12                 </td><td>-0.28                   </td><td>0.52               </td></tr>\n",
       "<tr><td>Ankle                        </td><td>$\\beta_{10}$         </td><td>0.19                 </td><td>-0.39                   </td><td>0.69               </td></tr>\n",
       "<tr><td>BTH                          </td><td>$\\beta_{11}$         </td><td>43.04                </td><td>-3.86                   </td><td>95.28              </td></tr>\n",
       "<tr><td>FTH                          </td><td>$\\beta_{12}$         </td><td>54.84                </td><td>-2.07                   </td><td>143.21             </td></tr>\n",
       "<tr><td>Wrist                        </td><td>$\\beta_{13}$         </td><td>-1.75                </td><td>-2.76                   </td><td>-0.56              </td></tr>\n",
       "<tr><td>BMI                          </td><td>$\\beta_{14}$         </td><td>1.76                 </td><td>-0.31                   </td><td>4.24               </td></tr>\n",
       "<tr><td>                             </td><td>                     </td><td>                     </td><td>                        </td><td>                   </td></tr>\n",
       "<tr><td><strong>Metrics</strong     </td><td><strong>Mean</strong</td><td><strong>Lo</strong  </td><td><strong>Hi</strong     </td><td>                   </td></tr>\n",
       "<tr><td>$\\sigma$                     </td><td>4.02                 </td><td>3.58                 </td><td>4.23                    </td><td>                   </td></tr>\n",
       "<tr><td>$R^2$                        </td><td>0.75                 </td><td>0.73                 </td><td>0.81                    </td><td>                   </td></tr>\n",
       "</tbody>\n",
       "</table></p>"
      ],
      "text/latex": [
       "\\textbf{Model: BodyFat $\\sim$ Age + Weight + Height + Neck + Chest + ATH + Hip + TTH + Knee + Ankle +\n",
       "        BTH + FTH + Wrist + BMI}\n",
       "\n",
       "\\begin{tabular}{lllll}\n",
       "\\toprule\n",
       "                       &               &               & \\textbf{95\\% BCI} &             \\\\\n",
       " \\textbf{Coefficients} &               & \\textbf{Mean} & \\textbf{Lo}      & \\textbf{Hi} \\\\\n",
       "                       & $\\beta_{0}$   & -190.30       & -305.37          & -78.94      \\\\\n",
       " Age                   & $\\beta_{1}$   & 0.06          & -0.01            & 0.11        \\\\\n",
       " Weight                & $\\beta_{2}$   & -0.27         & -0.59            & 0.02        \\\\\n",
       " Height                & $\\beta_{3}$   & 1.03          & 0.44             & 1.62        \\\\\n",
       " Neck                  & $\\beta_{4}$   & -0.42         & -0.78            & -0.06       \\\\\n",
       " Chest                 & $\\beta_{5}$   & -0.13         & -0.38            & 0.02        \\\\\n",
       " ATH                   & $\\beta_{6}$   & 156.01        & 120.54           & 189.20      \\\\\n",
       " Hip                   & $\\beta_{7}$   & -0.32         & -0.60            & -0.06       \\\\\n",
       " TTH                   & $\\beta_{8}$   & 41.46         & 6.94             & 84.19       \\\\\n",
       " Knee                  & $\\beta_{9}$   & 0.12          & -0.28            & 0.52        \\\\\n",
       " Ankle                 & $\\beta_{10}$  & 0.19          & -0.39            & 0.69        \\\\\n",
       " BTH                   & $\\beta_{11}$  & 43.04         & -3.86            & 95.28       \\\\\n",
       " FTH                   & $\\beta_{12}$  & 54.84         & -2.07            & 143.21      \\\\\n",
       " Wrist                 & $\\beta_{13}$  & -1.75         & -2.76            & -0.56       \\\\\n",
       " BMI                   & $\\beta_{14}$  & 1.76          & -0.31            & 4.24        \\\\\n",
       "                       &               &               &                  &             \\\\\n",
       " \\textbf{Metrics}      & \\textbf{Mean} & \\textbf{Lo}   & \\textbf{Hi}      &             \\\\\n",
       " $\\sigma$              & 4.02          & 3.58          & 4.23             &             \\\\\n",
       " $R^2$                 & 0.75          & 0.73          & 0.81             &             \\\\\n",
       "\\bottomrule\n",
       "\\end{tabular}"
      ],
      "text/markdown": [
       "Model: BodyFat ~ Age + Weight + Height + Neck + Chest + ATH + Hip + TTH + Knee + Ankle +\n",
       "        BTH + FTH + Wrist + BMI\n",
       "|------------------|--------------|----------|-------------|--------|\n",
       "|                  |              |          | **95% BCI** |        |\n",
       "| **Coefficients** |              | **Mean** | **Lo**      | **Hi** |\n",
       "|                  | $\\beta_{0}$  | -190.30  | -305.37     | -78.94 |\n",
       "| Age              | $\\beta_{1}$  | 0.06     | -0.01       | 0.11   |\n",
       "| Weight           | $\\beta_{2}$  | -0.27    | -0.59       | 0.02   |\n",
       "| Height           | $\\beta_{3}$  | 1.03     | 0.44        | 1.62   |\n",
       "| Neck             | $\\beta_{4}$  | -0.42    | -0.78       | -0.06  |\n",
       "| Chest            | $\\beta_{5}$  | -0.13    | -0.38       | 0.02   |\n",
       "| ATH              | $\\beta_{6}$  | 156.01   | 120.54      | 189.20 |\n",
       "| Hip              | $\\beta_{7}$  | -0.32    | -0.60       | -0.06  |\n",
       "| TTH              | $\\beta_{8}$  | 41.46    | 6.94        | 84.19  |\n",
       "| Knee             | $\\beta_{9}$  | 0.12     | -0.28       | 0.52   |\n",
       "| Ankle            | $\\beta_{10}$ | 0.19     | -0.39       | 0.69   |\n",
       "| BTH              | $\\beta_{11}$ | 43.04    | -3.86       | 95.28  |\n",
       "| FTH              | $\\beta_{12}$ | 54.84    | -2.07       | 143.21 |\n",
       "| Wrist            | $\\beta_{13}$ | -1.75    | -2.76       | -0.56  |\n",
       "| BMI              | $\\beta_{14}$ | 1.76     | -0.31       | 4.24   |\n",
       "|                  |              |          |             |        |\n",
       "| **Metrics**      | **Mean**     | **Lo**   | **Hi**      |        |\n",
       "| $\\sigma$         | 4.02         | 3.58     | 4.23        |        |\n",
       "| $R^2$            | 0.75         | 0.73     | 0.81        |        |"
      ],
      "text/plain": [
       "<models.ResultsWrapper at 0x7f84d1628520>"
      ]
     },
     "execution_count": 45,
     "metadata": {},
     "output_type": "execute_result"
    }
   ],
   "source": [
    "random.seed(13)\n",
    "model = \"\"\"BodyFat ~ Age + Weight + Height + Neck + Chest + ATH + Hip + TTH + Knee + Ankle +\n",
    "        BTH + FTH + Wrist + BMI\"\"\"\n",
    "result13 = models.bootstrap_linear_regression(model, data= bodyfat)\n",
    "models.describe_bootstrap_lr(result13)"
   ]
  },
  {
   "cell_type": "code",
   "execution_count": 46,
   "id": "25c68838-6a46-4ba6-be80-d7c36bd3876c",
   "metadata": {},
   "outputs": [
    {
     "name": "stdout",
     "output_type": "stream",
     "text": [
      "0.7281497765920402\n",
      "0.7301012058637775\n"
     ]
    }
   ],
   "source": [
    "print(models.adjusted_r_squared(result9))\n",
    "print(models.adjusted_r_squared(result13))"
   ]
  },
  {
   "cell_type": "markdown",
   "id": "b6aa6f56-a93a-4e96-a782-9166eaebbf85",
   "metadata": {},
   "source": [
    "Surprisingly, adding BMI decreases sigma by .02, and increases $R^2$ to .75, and increases *adjusted* $R^2$ to .73. We will add it to our model. \n",
    "\n",
    "Lastly, let's add Waist to Hip ratio."
   ]
  },
  {
   "cell_type": "code",
   "execution_count": 47,
   "id": "e5e3fbe4-9499-449e-8fb3-32176cc7145c",
   "metadata": {},
   "outputs": [
    {
     "data": {
      "text/html": [
       "<p><strong>Model: BodyFat ~ Age + Weight + Height + Neck + Chest + ATH + Hip + TTH + Knee + Ankle +\n",
       "        BTH + FTH + Wrist + BMI + ABTH</strong><br/><table>\n",
       "<tbody>\n",
       "<tr><td>                             </td><td>                     </td><td>                     </td><td><strong>95% BCI</strong</td><td>                   </td></tr>\n",
       "<tr><td><strong>Coefficients</strong</td><td>                     </td><td><strong>Mean</strong</td><td><strong>Lo</strong     </td><td><strong>Hi</strong</td></tr>\n",
       "<tr><td>                             </td><td>$\\beta_{0}$          </td><td>-260.68              </td><td>-444.67                 </td><td>-93.97             </td></tr>\n",
       "<tr><td>Age                          </td><td>$\\beta_{1}$          </td><td>0.06                 </td><td>-0.00                   </td><td>0.12               </td></tr>\n",
       "<tr><td>Weight                       </td><td>$\\beta_{2}$          </td><td>-0.50                </td><td>-1.06                   </td><td>-0.06              </td></tr>\n",
       "<tr><td>Height                       </td><td>$\\beta_{3}$          </td><td>0.74                 </td><td>0.05                    </td><td>1.26               </td></tr>\n",
       "<tr><td>Neck                         </td><td>$\\beta_{4}$          </td><td>-0.45                </td><td>-0.82                   </td><td>-0.09              </td></tr>\n",
       "<tr><td>Chest                        </td><td>$\\beta_{5}$          </td><td>-0.15                </td><td>-0.38                   </td><td>0.09               </td></tr>\n",
       "<tr><td>ATH                          </td><td>$\\beta_{6}$          </td><td>-92.45               </td><td>-364.74                 </td><td>156.51             </td></tr>\n",
       "<tr><td>Hip                          </td><td>$\\beta_{7}$          </td><td>1.01                 </td><td>-0.29                   </td><td>2.57               </td></tr>\n",
       "<tr><td>TTH                          </td><td>$\\beta_{8}$          </td><td>26.75                </td><td>-25.20                  </td><td>72.43              </td></tr>\n",
       "<tr><td>Knee                         </td><td>$\\beta_{9}$          </td><td>0.05                 </td><td>-0.38                   </td><td>0.41               </td></tr>\n",
       "<tr><td>Ankle                        </td><td>$\\beta_{10}$         </td><td>0.18                 </td><td>-0.28                   </td><td>0.54               </td></tr>\n",
       "<tr><td>BTH                          </td><td>$\\beta_{11}$         </td><td>36.58                </td><td>-6.01                   </td><td>105.87             </td></tr>\n",
       "<tr><td>FTH                          </td><td>$\\beta_{12}$         </td><td>48.54                </td><td>-16.44                  </td><td>91.25              </td></tr>\n",
       "<tr><td>Wrist                        </td><td>$\\beta_{13}$         </td><td>-1.83                </td><td>-2.53                   </td><td>-0.94              </td></tr>\n",
       "<tr><td>BMI                          </td><td>$\\beta_{14}$         </td><td>3.61                 </td><td>0.76                    </td><td>7.78               </td></tr>\n",
       "<tr><td>ABTH                         </td><td>$\\beta_{15}$         </td><td>135.70               </td><td>3.05                    </td><td>290.38             </td></tr>\n",
       "<tr><td>                             </td><td>                     </td><td>                     </td><td>                        </td><td>                   </td></tr>\n",
       "<tr><td><strong>Metrics</strong     </td><td><strong>Mean</strong</td><td><strong>Lo</strong  </td><td><strong>Hi</strong     </td><td>                   </td></tr>\n",
       "<tr><td>$\\sigma$                     </td><td>3.99                 </td><td>3.54                 </td><td>4.17                    </td><td>                   </td></tr>\n",
       "<tr><td>$R^2$                        </td><td>0.75                 </td><td>0.72                 </td><td>0.81                    </td><td>                   </td></tr>\n",
       "</tbody>\n",
       "</table></p>"
      ],
      "text/latex": [
       "\\textbf{Model: BodyFat $\\sim$ Age + Weight + Height + Neck + Chest + ATH + Hip + TTH + Knee + Ankle +\n",
       "        BTH + FTH + Wrist + BMI + ABTH}\n",
       "\n",
       "\\begin{tabular}{lllll}\n",
       "\\toprule\n",
       "                       &               &               & \\textbf{95\\% BCI} &             \\\\\n",
       " \\textbf{Coefficients} &               & \\textbf{Mean} & \\textbf{Lo}      & \\textbf{Hi} \\\\\n",
       "                       & $\\beta_{0}$   & -260.68       & -444.67          & -93.97      \\\\\n",
       " Age                   & $\\beta_{1}$   & 0.06          & -0.00            & 0.12        \\\\\n",
       " Weight                & $\\beta_{2}$   & -0.50         & -1.06            & -0.06       \\\\\n",
       " Height                & $\\beta_{3}$   & 0.74          & 0.05             & 1.26        \\\\\n",
       " Neck                  & $\\beta_{4}$   & -0.45         & -0.82            & -0.09       \\\\\n",
       " Chest                 & $\\beta_{5}$   & -0.15         & -0.38            & 0.09        \\\\\n",
       " ATH                   & $\\beta_{6}$   & -92.45        & -364.74          & 156.51      \\\\\n",
       " Hip                   & $\\beta_{7}$   & 1.01          & -0.29            & 2.57        \\\\\n",
       " TTH                   & $\\beta_{8}$   & 26.75         & -25.20           & 72.43       \\\\\n",
       " Knee                  & $\\beta_{9}$   & 0.05          & -0.38            & 0.41        \\\\\n",
       " Ankle                 & $\\beta_{10}$  & 0.18          & -0.28            & 0.54        \\\\\n",
       " BTH                   & $\\beta_{11}$  & 36.58         & -6.01            & 105.87      \\\\\n",
       " FTH                   & $\\beta_{12}$  & 48.54         & -16.44           & 91.25       \\\\\n",
       " Wrist                 & $\\beta_{13}$  & -1.83         & -2.53            & -0.94       \\\\\n",
       " BMI                   & $\\beta_{14}$  & 3.61          & 0.76             & 7.78        \\\\\n",
       " ABTH                  & $\\beta_{15}$  & 135.70        & 3.05             & 290.38      \\\\\n",
       "                       &               &               &                  &             \\\\\n",
       " \\textbf{Metrics}      & \\textbf{Mean} & \\textbf{Lo}   & \\textbf{Hi}      &             \\\\\n",
       " $\\sigma$              & 3.99          & 3.54          & 4.17             &             \\\\\n",
       " $R^2$                 & 0.75          & 0.72          & 0.81             &             \\\\\n",
       "\\bottomrule\n",
       "\\end{tabular}"
      ],
      "text/markdown": [
       "Model: BodyFat ~ Age + Weight + Height + Neck + Chest + ATH + Hip + TTH + Knee + Ankle +\n",
       "        BTH + FTH + Wrist + BMI + ABTH\n",
       "|------------------|--------------|----------|-------------|--------|\n",
       "|                  |              |          | **95% BCI** |        |\n",
       "| **Coefficients** |              | **Mean** | **Lo**      | **Hi** |\n",
       "|                  | $\\beta_{0}$  | -260.68  | -444.67     | -93.97 |\n",
       "| Age              | $\\beta_{1}$  | 0.06     | -0.00       | 0.12   |\n",
       "| Weight           | $\\beta_{2}$  | -0.50    | -1.06       | -0.06  |\n",
       "| Height           | $\\beta_{3}$  | 0.74     | 0.05        | 1.26   |\n",
       "| Neck             | $\\beta_{4}$  | -0.45    | -0.82       | -0.09  |\n",
       "| Chest            | $\\beta_{5}$  | -0.15    | -0.38       | 0.09   |\n",
       "| ATH              | $\\beta_{6}$  | -92.45   | -364.74     | 156.51 |\n",
       "| Hip              | $\\beta_{7}$  | 1.01     | -0.29       | 2.57   |\n",
       "| TTH              | $\\beta_{8}$  | 26.75    | -25.20      | 72.43  |\n",
       "| Knee             | $\\beta_{9}$  | 0.05     | -0.38       | 0.41   |\n",
       "| Ankle            | $\\beta_{10}$ | 0.18     | -0.28       | 0.54   |\n",
       "| BTH              | $\\beta_{11}$ | 36.58    | -6.01       | 105.87 |\n",
       "| FTH              | $\\beta_{12}$ | 48.54    | -16.44      | 91.25  |\n",
       "| Wrist            | $\\beta_{13}$ | -1.83    | -2.53       | -0.94  |\n",
       "| BMI              | $\\beta_{14}$ | 3.61     | 0.76        | 7.78   |\n",
       "| ABTH             | $\\beta_{15}$ | 135.70   | 3.05        | 290.38 |\n",
       "|                  |              |          |             |        |\n",
       "| **Metrics**      | **Mean**     | **Lo**   | **Hi**      |        |\n",
       "| $\\sigma$         | 3.99         | 3.54     | 4.17        |        |\n",
       "| $R^2$            | 0.75         | 0.72     | 0.81        |        |"
      ],
      "text/plain": [
       "<models.ResultsWrapper at 0x7f84b1aad820>"
      ]
     },
     "execution_count": 47,
     "metadata": {},
     "output_type": "execute_result"
    }
   ],
   "source": [
    "random.seed(14)\n",
    "model = \"\"\"BodyFat ~ Age + Weight + Height + Neck + Chest + ATH + Hip + TTH + Knee + Ankle +\n",
    "        BTH + FTH + Wrist + BMI + ABTH\"\"\"\n",
    "result14 = models.bootstrap_linear_regression(model, data= bodyfat)\n",
    "models.describe_bootstrap_lr(result14)"
   ]
  },
  {
   "cell_type": "code",
   "execution_count": 48,
   "id": "3f36a795-a89a-4b9f-b871-c5418259c4ca",
   "metadata": {},
   "outputs": [
    {
     "name": "stdout",
     "output_type": "stream",
     "text": [
      "0.7301012058637775\n",
      "0.733755586277497\n"
     ]
    }
   ],
   "source": [
    "print(models.adjusted_r_squared(result13))\n",
    "print(models.adjusted_r_squared(result14))"
   ]
  },
  {
   "cell_type": "markdown",
   "id": "ba0d4065-509f-43c9-a30a-13c99aee710c",
   "metadata": {},
   "source": [
    "Surprisingly, adding ABTH decreases sigma by .02 to 3.99, and doesn't increase any of our $R^2$ values. It also makes Hip positive, but strangley Abdomen to Height is now negative. Chest, Neck, Wrist and Weight are still inexplicably negative. No doubt the correlation betwen ABTH and ATH is causing the issue between. Let's try removing ATH and see if that clears up some issues."
   ]
  },
  {
   "cell_type": "code",
   "execution_count": 49,
   "id": "c8fc0d17-6d6f-4fb0-b46e-084e0cfd35b6",
   "metadata": {},
   "outputs": [
    {
     "data": {
      "text/html": [
       "<p><strong>Model: BodyFat ~ Age + Weight + Height + Neck + Chest + Hip + TTH + Knee + Ankle +\n",
       "        BTH + FTH + Wrist + BMI + ABTH</strong><br/><table>\n",
       "<tbody>\n",
       "<tr><td>                             </td><td>                     </td><td>                     </td><td><strong>95% BCI</strong</td><td>                   </td></tr>\n",
       "<tr><td><strong>Coefficients</strong</td><td>                     </td><td><strong>Mean</strong</td><td><strong>Lo</strong     </td><td><strong>Hi</strong</td></tr>\n",
       "<tr><td>                             </td><td>$\\beta_{0}$          </td><td>-234.52              </td><td>-336.83                 </td><td>-125.70            </td></tr>\n",
       "<tr><td>Age                          </td><td>$\\beta_{1}$          </td><td>0.05                 </td><td>0.01                    </td><td>0.11               </td></tr>\n",
       "<tr><td>Weight                       </td><td>$\\beta_{2}$          </td><td>-0.41                </td><td>-0.73                   </td><td>-0.14              </td></tr>\n",
       "<tr><td>Height                       </td><td>$\\beta_{3}$          </td><td>0.85                 </td><td>0.27                    </td><td>1.51               </td></tr>\n",
       "<tr><td>Neck                         </td><td>$\\beta_{4}$          </td><td>-0.44                </td><td>-0.79                   </td><td>0.01               </td></tr>\n",
       "<tr><td>Chest                        </td><td>$\\beta_{5}$          </td><td>-0.15                </td><td>-0.34                   </td><td>0.06               </td></tr>\n",
       "<tr><td>Hip                          </td><td>$\\beta_{6}$          </td><td>0.52                 </td><td>0.26                    </td><td>0.86               </td></tr>\n",
       "<tr><td>TTH                          </td><td>$\\beta_{7}$          </td><td>31.97                </td><td>-13.52                  </td><td>76.39              </td></tr>\n",
       "<tr><td>Knee                         </td><td>$\\beta_{8}$          </td><td>0.07                 </td><td>-0.32                   </td><td>0.42               </td></tr>\n",
       "<tr><td>Ankle                        </td><td>$\\beta_{9}$          </td><td>0.18                 </td><td>-0.38                   </td><td>0.74               </td></tr>\n",
       "<tr><td>BTH                          </td><td>$\\beta_{10}$         </td><td>39.35                </td><td>-19.36                  </td><td>81.96              </td></tr>\n",
       "<tr><td>FTH                          </td><td>$\\beta_{11}$         </td><td>51.10                </td><td>-2.02                   </td><td>109.60             </td></tr>\n",
       "<tr><td>Wrist                        </td><td>$\\beta_{12}$         </td><td>-1.79                </td><td>-2.64                   </td><td>-1.04              </td></tr>\n",
       "<tr><td>BMI                          </td><td>$\\beta_{13}$         </td><td>2.90                 </td><td>0.38                    </td><td>5.40               </td></tr>\n",
       "<tr><td>ABTH                         </td><td>$\\beta_{14}$         </td><td>86.02                </td><td>67.26                   </td><td>102.33             </td></tr>\n",
       "<tr><td>                             </td><td>                     </td><td>                     </td><td>                        </td><td>                   </td></tr>\n",
       "<tr><td><strong>Metrics</strong     </td><td><strong>Mean</strong</td><td><strong>Lo</strong  </td><td><strong>Hi</strong     </td><td>                   </td></tr>\n",
       "<tr><td>$\\sigma$                     </td><td>3.99                 </td><td>3.51                 </td><td>4.20                    </td><td>                   </td></tr>\n",
       "<tr><td>$R^2$                        </td><td>0.75                 </td><td>0.71                 </td><td>0.82                    </td><td>                   </td></tr>\n",
       "</tbody>\n",
       "</table></p>"
      ],
      "text/latex": [
       "\\textbf{Model: BodyFat $\\sim$ Age + Weight + Height + Neck + Chest + Hip + TTH + Knee + Ankle +\n",
       "        BTH + FTH + Wrist + BMI + ABTH}\n",
       "\n",
       "\\begin{tabular}{lllll}\n",
       "\\toprule\n",
       "                       &               &               & \\textbf{95\\% BCI} &             \\\\\n",
       " \\textbf{Coefficients} &               & \\textbf{Mean} & \\textbf{Lo}      & \\textbf{Hi} \\\\\n",
       "                       & $\\beta_{0}$   & -234.52       & -336.83          & -125.70     \\\\\n",
       " Age                   & $\\beta_{1}$   & 0.05          & 0.01             & 0.11        \\\\\n",
       " Weight                & $\\beta_{2}$   & -0.41         & -0.73            & -0.14       \\\\\n",
       " Height                & $\\beta_{3}$   & 0.85          & 0.27             & 1.51        \\\\\n",
       " Neck                  & $\\beta_{4}$   & -0.44         & -0.79            & 0.01        \\\\\n",
       " Chest                 & $\\beta_{5}$   & -0.15         & -0.34            & 0.06        \\\\\n",
       " Hip                   & $\\beta_{6}$   & 0.52          & 0.26             & 0.86        \\\\\n",
       " TTH                   & $\\beta_{7}$   & 31.97         & -13.52           & 76.39       \\\\\n",
       " Knee                  & $\\beta_{8}$   & 0.07          & -0.32            & 0.42        \\\\\n",
       " Ankle                 & $\\beta_{9}$   & 0.18          & -0.38            & 0.74        \\\\\n",
       " BTH                   & $\\beta_{10}$  & 39.35         & -19.36           & 81.96       \\\\\n",
       " FTH                   & $\\beta_{11}$  & 51.10         & -2.02            & 109.60      \\\\\n",
       " Wrist                 & $\\beta_{12}$  & -1.79         & -2.64            & -1.04       \\\\\n",
       " BMI                   & $\\beta_{13}$  & 2.90          & 0.38             & 5.40        \\\\\n",
       " ABTH                  & $\\beta_{14}$  & 86.02         & 67.26            & 102.33      \\\\\n",
       "                       &               &               &                  &             \\\\\n",
       " \\textbf{Metrics}      & \\textbf{Mean} & \\textbf{Lo}   & \\textbf{Hi}      &             \\\\\n",
       " $\\sigma$              & 3.99          & 3.51          & 4.20             &             \\\\\n",
       " $R^2$                 & 0.75          & 0.71          & 0.82             &             \\\\\n",
       "\\bottomrule\n",
       "\\end{tabular}"
      ],
      "text/markdown": [
       "Model: BodyFat ~ Age + Weight + Height + Neck + Chest + Hip + TTH + Knee + Ankle +\n",
       "        BTH + FTH + Wrist + BMI + ABTH\n",
       "|------------------|--------------|----------|-------------|---------|\n",
       "|                  |              |          | **95% BCI** |         |\n",
       "| **Coefficients** |              | **Mean** | **Lo**      | **Hi**  |\n",
       "|                  | $\\beta_{0}$  | -234.52  | -336.83     | -125.70 |\n",
       "| Age              | $\\beta_{1}$  | 0.05     | 0.01        | 0.11    |\n",
       "| Weight           | $\\beta_{2}$  | -0.41    | -0.73       | -0.14   |\n",
       "| Height           | $\\beta_{3}$  | 0.85     | 0.27        | 1.51    |\n",
       "| Neck             | $\\beta_{4}$  | -0.44    | -0.79       | 0.01    |\n",
       "| Chest            | $\\beta_{5}$  | -0.15    | -0.34       | 0.06    |\n",
       "| Hip              | $\\beta_{6}$  | 0.52     | 0.26        | 0.86    |\n",
       "| TTH              | $\\beta_{7}$  | 31.97    | -13.52      | 76.39   |\n",
       "| Knee             | $\\beta_{8}$  | 0.07     | -0.32       | 0.42    |\n",
       "| Ankle            | $\\beta_{9}$  | 0.18     | -0.38       | 0.74    |\n",
       "| BTH              | $\\beta_{10}$ | 39.35    | -19.36      | 81.96   |\n",
       "| FTH              | $\\beta_{11}$ | 51.10    | -2.02       | 109.60  |\n",
       "| Wrist            | $\\beta_{12}$ | -1.79    | -2.64       | -1.04   |\n",
       "| BMI              | $\\beta_{13}$ | 2.90     | 0.38        | 5.40    |\n",
       "| ABTH             | $\\beta_{14}$ | 86.02    | 67.26       | 102.33  |\n",
       "|                  |              |          |             |         |\n",
       "| **Metrics**      | **Mean**     | **Lo**   | **Hi**      |         |\n",
       "| $\\sigma$         | 3.99         | 3.51     | 4.20        |         |\n",
       "| $R^2$            | 0.75         | 0.71     | 0.82        |         |"
      ],
      "text/plain": [
       "<models.ResultsWrapper at 0x7f84d141d3a0>"
      ]
     },
     "execution_count": 49,
     "metadata": {},
     "output_type": "execute_result"
    }
   ],
   "source": [
    "random.seed(15)\n",
    "model = \"\"\"BodyFat ~ Age + Weight + Height + Neck + Chest + Hip + TTH + Knee + Ankle +\n",
    "        BTH + FTH + Wrist + BMI + ABTH\"\"\"\n",
    "result15 = models.bootstrap_linear_regression(model, data= bodyfat)\n",
    "models.describe_bootstrap_lr(result15)"
   ]
  },
  {
   "cell_type": "code",
   "execution_count": 50,
   "id": "e533ff13-4168-41b5-9c8a-2b46b0c7cd5d",
   "metadata": {},
   "outputs": [
    {
     "name": "stdout",
     "output_type": "stream",
     "text": [
      "0.733755586277497\n",
      "0.7342406502999099\n"
     ]
    }
   ],
   "source": [
    "print(models.adjusted_r_squared(result14))\n",
    "print(models.adjusted_r_squared(result15))"
   ]
  },
  {
   "cell_type": "markdown",
   "id": "406e278f-87d2-4d47-9460-c0e920307c76",
   "metadata": {},
   "source": [
    "Removing ATH in favor of ABTH keeps $\\sigma$ at 3.99 but narrows its CI. It keeps $R^2$ the same (.75) and slightly increases *adjusted* $R^2$ to .73. "
   ]
  },
  {
   "cell_type": "markdown",
   "id": "c5d89318-d3e1-4f90-8142-0381faec090e",
   "metadata": {},
   "source": [
    "So far we've added every possible variable, conducted some transformations, and added some interaction terms. Our tentative model is good, but we still have issues with it, to review:"
   ]
  },
  {
   "cell_type": "markdown",
   "id": "55c3a2ed-c92f-4942-92a4-bfeed656220d",
   "metadata": {},
   "source": [
    "Strong Support\n",
    "* Age (+)\n",
    "* Height (+)\n",
    "* Neck (-)\n",
    "* Hip (+)\n",
    "* FTH (+)\n",
    "* BMI (+)\n",
    "* ABTH (+)\n",
    "* Weight (-)\n",
    "* Neck (-)\n",
    "* Wrist (-)\n",
    "\n",
    "Mixed Support \n",
    "* Chest (-)\n",
    "* TTH (+)\n",
    "* Knee (+)\n",
    "* Ankle (+)\n",
    "* BTH (+)\n",
    "\n",
    "The signs for some of our mixed support models don't make much sense, such as Neck, Weight, Chest and Wrist. Why these would these negatively correlate with BodyFat? \n",
    "\n",
    "According to Douglas C Montgomery in Introduction to Linear Regression Analysis, regression coefficients may have the wrong sign for the following reasons:\n",
    "\n",
    "1. The range of some of the regressors is too small.\n",
    "2. important regressors have not been included in the model.\n",
    "3. multicolinearity is present.\n",
    "4. computational errors have been made. \n",
    "\n",
    "We can rule our 4. In the case of 1, we cannot really do anything to increase the range of the regressors as human body parts only come in a certain range of sizes. Similarly, we attempted every conceivable, legitimate interaction to no avail as the signs remained unchanged as we added regressors. This leaves us with 4. There is no doubt that all these factors correlate with each other. In effect, severe multicolinearity inflates the variances and increases the probability that one or more regression coefficients will have the wrong sign. We will attempt to minimize this by removing regressors that have unexpected signs that include 0. If the $R^2$ drops too severely, we will readd the variable and reexamine. \n",
    "\n",
    "We begin by removing ankle because its sign doesn't make sense and its insignificant at the moment."
   ]
  },
  {
   "cell_type": "code",
   "execution_count": 51,
   "id": "10ac7a32-7f0c-4137-bbce-2fe624da07f3",
   "metadata": {},
   "outputs": [
    {
     "data": {
      "text/html": [
       "<p><strong>Model: BodyFat ~ Age + Weight + Height + Neck + Chest + Hip + TTH + Knee +\n",
       "        BTH + FTH + Wrist + BMI + ABTH</strong><br/><table>\n",
       "<tbody>\n",
       "<tr><td>                             </td><td>                     </td><td>                     </td><td><strong>95% BCI</strong</td><td>                   </td></tr>\n",
       "<tr><td><strong>Coefficients</strong</td><td>                     </td><td><strong>Mean</strong</td><td><strong>Lo</strong     </td><td><strong>Hi</strong</td></tr>\n",
       "<tr><td>                             </td><td>$\\beta_{0}$          </td><td>-233.69              </td><td>-329.44                 </td><td>-143.59            </td></tr>\n",
       "<tr><td>Age                          </td><td>$\\beta_{1}$          </td><td>0.05                 </td><td>0.00                    </td><td>0.11               </td></tr>\n",
       "<tr><td>Weight                       </td><td>$\\beta_{2}$          </td><td>-0.41                </td><td>-0.68                   </td><td>-0.17              </td></tr>\n",
       "<tr><td>Height                       </td><td>$\\beta_{3}$          </td><td>0.86                 </td><td>0.36                    </td><td>1.37               </td></tr>\n",
       "<tr><td>Neck                         </td><td>$\\beta_{4}$          </td><td>-0.46                </td><td>-0.83                   </td><td>-0.06              </td></tr>\n",
       "<tr><td>Chest                        </td><td>$\\beta_{5}$          </td><td>-0.15                </td><td>-0.39                   </td><td>0.05               </td></tr>\n",
       "<tr><td>Hip                          </td><td>$\\beta_{6}$          </td><td>0.50                 </td><td>0.25                    </td><td>0.76               </td></tr>\n",
       "<tr><td>TTH                          </td><td>$\\beta_{7}$          </td><td>31.50                </td><td>-6.95                   </td><td>68.96              </td></tr>\n",
       "<tr><td>Knee                         </td><td>$\\beta_{8}$          </td><td>0.11                 </td><td>-0.28                   </td><td>0.54               </td></tr>\n",
       "<tr><td>BTH                          </td><td>$\\beta_{9}$          </td><td>38.21                </td><td>-15.25                  </td><td>90.69              </td></tr>\n",
       "<tr><td>FTH                          </td><td>$\\beta_{10}$         </td><td>50.20                </td><td>-12.93                  </td><td>110.15             </td></tr>\n",
       "<tr><td>Wrist                        </td><td>$\\beta_{11}$         </td><td>-1.69                </td><td>-2.52                   </td><td>-0.72              </td></tr>\n",
       "<tr><td>BMI                          </td><td>$\\beta_{12}$         </td><td>2.99                 </td><td>1.15                    </td><td>4.80               </td></tr>\n",
       "<tr><td>ABTH                         </td><td>$\\beta_{13}$         </td><td>85.07                </td><td>68.52                   </td><td>100.45             </td></tr>\n",
       "<tr><td>                             </td><td>                     </td><td>                     </td><td>                        </td><td>                   </td></tr>\n",
       "<tr><td><strong>Metrics</strong     </td><td><strong>Mean</strong</td><td><strong>Lo</strong  </td><td><strong>Hi</strong     </td><td>                   </td></tr>\n",
       "<tr><td>$\\sigma$                     </td><td>3.99                 </td><td>3.54                 </td><td>4.33                    </td><td>                   </td></tr>\n",
       "<tr><td>$R^2$                        </td><td>0.75                 </td><td>0.70                 </td><td>0.81                    </td><td>                   </td></tr>\n",
       "</tbody>\n",
       "</table></p>"
      ],
      "text/latex": [
       "\\textbf{Model: BodyFat $\\sim$ Age + Weight + Height + Neck + Chest + Hip + TTH + Knee +\n",
       "        BTH + FTH + Wrist + BMI + ABTH}\n",
       "\n",
       "\\begin{tabular}{lllll}\n",
       "\\toprule\n",
       "                       &               &               & \\textbf{95\\% BCI} &             \\\\\n",
       " \\textbf{Coefficients} &               & \\textbf{Mean} & \\textbf{Lo}      & \\textbf{Hi} \\\\\n",
       "                       & $\\beta_{0}$   & -233.69       & -329.44          & -143.59     \\\\\n",
       " Age                   & $\\beta_{1}$   & 0.05          & 0.00             & 0.11        \\\\\n",
       " Weight                & $\\beta_{2}$   & -0.41         & -0.68            & -0.17       \\\\\n",
       " Height                & $\\beta_{3}$   & 0.86          & 0.36             & 1.37        \\\\\n",
       " Neck                  & $\\beta_{4}$   & -0.46         & -0.83            & -0.06       \\\\\n",
       " Chest                 & $\\beta_{5}$   & -0.15         & -0.39            & 0.05        \\\\\n",
       " Hip                   & $\\beta_{6}$   & 0.50          & 0.25             & 0.76        \\\\\n",
       " TTH                   & $\\beta_{7}$   & 31.50         & -6.95            & 68.96       \\\\\n",
       " Knee                  & $\\beta_{8}$   & 0.11          & -0.28            & 0.54        \\\\\n",
       " BTH                   & $\\beta_{9}$   & 38.21         & -15.25           & 90.69       \\\\\n",
       " FTH                   & $\\beta_{10}$  & 50.20         & -12.93           & 110.15      \\\\\n",
       " Wrist                 & $\\beta_{11}$  & -1.69         & -2.52            & -0.72       \\\\\n",
       " BMI                   & $\\beta_{12}$  & 2.99          & 1.15             & 4.80        \\\\\n",
       " ABTH                  & $\\beta_{13}$  & 85.07         & 68.52            & 100.45      \\\\\n",
       "                       &               &               &                  &             \\\\\n",
       " \\textbf{Metrics}      & \\textbf{Mean} & \\textbf{Lo}   & \\textbf{Hi}      &             \\\\\n",
       " $\\sigma$              & 3.99          & 3.54          & 4.33             &             \\\\\n",
       " $R^2$                 & 0.75          & 0.70          & 0.81             &             \\\\\n",
       "\\bottomrule\n",
       "\\end{tabular}"
      ],
      "text/markdown": [
       "Model: BodyFat ~ Age + Weight + Height + Neck + Chest + Hip + TTH + Knee +\n",
       "        BTH + FTH + Wrist + BMI + ABTH\n",
       "|------------------|--------------|----------|-------------|---------|\n",
       "|                  |              |          | **95% BCI** |         |\n",
       "| **Coefficients** |              | **Mean** | **Lo**      | **Hi**  |\n",
       "|                  | $\\beta_{0}$  | -233.69  | -329.44     | -143.59 |\n",
       "| Age              | $\\beta_{1}$  | 0.05     | 0.00        | 0.11    |\n",
       "| Weight           | $\\beta_{2}$  | -0.41    | -0.68       | -0.17   |\n",
       "| Height           | $\\beta_{3}$  | 0.86     | 0.36        | 1.37    |\n",
       "| Neck             | $\\beta_{4}$  | -0.46    | -0.83       | -0.06   |\n",
       "| Chest            | $\\beta_{5}$  | -0.15    | -0.39       | 0.05    |\n",
       "| Hip              | $\\beta_{6}$  | 0.50     | 0.25        | 0.76    |\n",
       "| TTH              | $\\beta_{7}$  | 31.50    | -6.95       | 68.96   |\n",
       "| Knee             | $\\beta_{8}$  | 0.11     | -0.28       | 0.54    |\n",
       "| BTH              | $\\beta_{9}$  | 38.21    | -15.25      | 90.69   |\n",
       "| FTH              | $\\beta_{10}$ | 50.20    | -12.93      | 110.15  |\n",
       "| Wrist            | $\\beta_{11}$ | -1.69    | -2.52       | -0.72   |\n",
       "| BMI              | $\\beta_{12}$ | 2.99     | 1.15        | 4.80    |\n",
       "| ABTH             | $\\beta_{13}$ | 85.07    | 68.52       | 100.45  |\n",
       "|                  |              |          |             |         |\n",
       "| **Metrics**      | **Mean**     | **Lo**   | **Hi**      |         |\n",
       "| $\\sigma$         | 3.99         | 3.54     | 4.33        |         |\n",
       "| $R^2$            | 0.75         | 0.70     | 0.81        |         |"
      ],
      "text/plain": [
       "<models.ResultsWrapper at 0x7f84d1606160>"
      ]
     },
     "execution_count": 51,
     "metadata": {},
     "output_type": "execute_result"
    }
   ],
   "source": [
    "random.seed(16)\n",
    "model = \"\"\"BodyFat ~ Age + Weight + Height + Neck + Chest + Hip + TTH + Knee +\n",
    "        BTH + FTH + Wrist + BMI + ABTH\"\"\"\n",
    "result16 = models.bootstrap_linear_regression(model, data= bodyfat)\n",
    "models.describe_bootstrap_lr(result16)"
   ]
  },
  {
   "cell_type": "code",
   "execution_count": 52,
   "id": "a0ae77fc-d675-4c12-90f9-01e5b328309f",
   "metadata": {},
   "outputs": [
    {
     "name": "stdout",
     "output_type": "stream",
     "text": [
      "0.7342406502999099\n",
      "0.7344787428507701\n"
     ]
    }
   ],
   "source": [
    "print(models.adjusted_r_squared(result15))\n",
    "print(models.adjusted_r_squared(result16))"
   ]
  },
  {
   "cell_type": "markdown",
   "id": "82650cbb-ec99-4a22-b8c6-edc4cbc50c2a",
   "metadata": {},
   "source": [
    "Removing knee hasn't made the model worse. In fact $\\sigma$ and $R^2$ are unchanged and *adjusted* $R^2$ has actually increased impercetibly. Even better, the error bounds for $\\sigma$ has has gotten smaller. Examining the remaining variables, the signs haven't changed. The problematic regressors:\n",
    "\n",
    "* Weight\n",
    "* Neck\n",
    "* Chest\n",
    "* Wrist\n",
    "\n",
    "Neck, Wrist and weight have strong support, indicating that we should reexamine our belief that they contribute negatively to bodyfat. More likely, there is simply too much multicolinearity and so these values are negative to compensate as stated before. Let's remove chest, since it has a negative sign and is not significant."
   ]
  },
  {
   "cell_type": "code",
   "execution_count": 53,
   "id": "14fc437a-11fd-459b-988f-309698f26c60",
   "metadata": {},
   "outputs": [
    {
     "data": {
      "text/html": [
       "<p><strong>Model: BodyFat ~ Age + Weight + Height + Neck + Hip + TTH + Knee +\n",
       "        BTH + FTH + Wrist + BMI + ABTH</strong><br/><table>\n",
       "<tbody>\n",
       "<tr><td>                             </td><td>                     </td><td>                     </td><td><strong>95% BCI</strong</td><td>                   </td></tr>\n",
       "<tr><td><strong>Coefficients</strong</td><td>                     </td><td><strong>Mean</strong</td><td><strong>Lo</strong     </td><td><strong>Hi</strong</td></tr>\n",
       "<tr><td>                             </td><td>$\\beta_{0}$          </td><td>-231.17              </td><td>-321.53                 </td><td>-123.14            </td></tr>\n",
       "<tr><td>Age                          </td><td>$\\beta_{1}$          </td><td>0.05                 </td><td>0.00                    </td><td>0.10               </td></tr>\n",
       "<tr><td>Weight                       </td><td>$\\beta_{2}$          </td><td>-0.41                </td><td>-0.65                   </td><td>-0.11              </td></tr>\n",
       "<tr><td>Height                       </td><td>$\\beta_{3}$          </td><td>0.81                 </td><td>0.21                    </td><td>1.34               </td></tr>\n",
       "<tr><td>Neck                         </td><td>$\\beta_{4}$          </td><td>-0.46                </td><td>-0.87                   </td><td>-0.06              </td></tr>\n",
       "<tr><td>Hip                          </td><td>$\\beta_{5}$          </td><td>0.51                 </td><td>0.24                    </td><td>0.72               </td></tr>\n",
       "<tr><td>TTH                          </td><td>$\\beta_{6}$          </td><td>38.47                </td><td>2.34                    </td><td>82.41              </td></tr>\n",
       "<tr><td>Knee                         </td><td>$\\beta_{7}$          </td><td>0.12                 </td><td>-0.31                   </td><td>0.53               </td></tr>\n",
       "<tr><td>BTH                          </td><td>$\\beta_{8}$          </td><td>36.17                </td><td>-11.54                  </td><td>88.69              </td></tr>\n",
       "<tr><td>FTH                          </td><td>$\\beta_{9}$          </td><td>46.07                </td><td>-12.53                  </td><td>104.85             </td></tr>\n",
       "<tr><td>Wrist                        </td><td>$\\beta_{10}$         </td><td>-1.65                </td><td>-2.33                   </td><td>-0.77              </td></tr>\n",
       "<tr><td>BMI                          </td><td>$\\beta_{11}$         </td><td>2.64                 </td><td>0.50                    </td><td>4.52               </td></tr>\n",
       "<tr><td>ABTH                         </td><td>$\\beta_{12}$         </td><td>81.09                </td><td>67.27                   </td><td>93.54              </td></tr>\n",
       "<tr><td>                             </td><td>                     </td><td>                     </td><td>                        </td><td>                   </td></tr>\n",
       "<tr><td><strong>Metrics</strong     </td><td><strong>Mean</strong</td><td><strong>Lo</strong  </td><td><strong>Hi</strong     </td><td>                   </td></tr>\n",
       "<tr><td>$\\sigma$                     </td><td>4.00                 </td><td>3.60                 </td><td>4.32                    </td><td>                   </td></tr>\n",
       "<tr><td>$R^2$                        </td><td>0.75                 </td><td>0.70                 </td><td>0.80                    </td><td>                   </td></tr>\n",
       "</tbody>\n",
       "</table></p>"
      ],
      "text/latex": [
       "\\textbf{Model: BodyFat $\\sim$ Age + Weight + Height + Neck + Hip + TTH + Knee +\n",
       "        BTH + FTH + Wrist + BMI + ABTH}\n",
       "\n",
       "\\begin{tabular}{lllll}\n",
       "\\toprule\n",
       "                       &               &               & \\textbf{95\\% BCI} &             \\\\\n",
       " \\textbf{Coefficients} &               & \\textbf{Mean} & \\textbf{Lo}      & \\textbf{Hi} \\\\\n",
       "                       & $\\beta_{0}$   & -231.17       & -321.53          & -123.14     \\\\\n",
       " Age                   & $\\beta_{1}$   & 0.05          & 0.00             & 0.10        \\\\\n",
       " Weight                & $\\beta_{2}$   & -0.41         & -0.65            & -0.11       \\\\\n",
       " Height                & $\\beta_{3}$   & 0.81          & 0.21             & 1.34        \\\\\n",
       " Neck                  & $\\beta_{4}$   & -0.46         & -0.87            & -0.06       \\\\\n",
       " Hip                   & $\\beta_{5}$   & 0.51          & 0.24             & 0.72        \\\\\n",
       " TTH                   & $\\beta_{6}$   & 38.47         & 2.34             & 82.41       \\\\\n",
       " Knee                  & $\\beta_{7}$   & 0.12          & -0.31            & 0.53        \\\\\n",
       " BTH                   & $\\beta_{8}$   & 36.17         & -11.54           & 88.69       \\\\\n",
       " FTH                   & $\\beta_{9}$   & 46.07         & -12.53           & 104.85      \\\\\n",
       " Wrist                 & $\\beta_{10}$  & -1.65         & -2.33            & -0.77       \\\\\n",
       " BMI                   & $\\beta_{11}$  & 2.64          & 0.50             & 4.52        \\\\\n",
       " ABTH                  & $\\beta_{12}$  & 81.09         & 67.27            & 93.54       \\\\\n",
       "                       &               &               &                  &             \\\\\n",
       " \\textbf{Metrics}      & \\textbf{Mean} & \\textbf{Lo}   & \\textbf{Hi}      &             \\\\\n",
       " $\\sigma$              & 4.00          & 3.60          & 4.32             &             \\\\\n",
       " $R^2$                 & 0.75          & 0.70          & 0.80             &             \\\\\n",
       "\\bottomrule\n",
       "\\end{tabular}"
      ],
      "text/markdown": [
       "Model: BodyFat ~ Age + Weight + Height + Neck + Hip + TTH + Knee +\n",
       "        BTH + FTH + Wrist + BMI + ABTH\n",
       "|------------------|--------------|----------|-------------|---------|\n",
       "|                  |              |          | **95% BCI** |         |\n",
       "| **Coefficients** |              | **Mean** | **Lo**      | **Hi**  |\n",
       "|                  | $\\beta_{0}$  | -231.17  | -321.53     | -123.14 |\n",
       "| Age              | $\\beta_{1}$  | 0.05     | 0.00        | 0.10    |\n",
       "| Weight           | $\\beta_{2}$  | -0.41    | -0.65       | -0.11   |\n",
       "| Height           | $\\beta_{3}$  | 0.81     | 0.21        | 1.34    |\n",
       "| Neck             | $\\beta_{4}$  | -0.46    | -0.87       | -0.06   |\n",
       "| Hip              | $\\beta_{5}$  | 0.51     | 0.24        | 0.72    |\n",
       "| TTH              | $\\beta_{6}$  | 38.47    | 2.34        | 82.41   |\n",
       "| Knee             | $\\beta_{7}$  | 0.12     | -0.31       | 0.53    |\n",
       "| BTH              | $\\beta_{8}$  | 36.17    | -11.54      | 88.69   |\n",
       "| FTH              | $\\beta_{9}$  | 46.07    | -12.53      | 104.85  |\n",
       "| Wrist            | $\\beta_{10}$ | -1.65    | -2.33       | -0.77   |\n",
       "| BMI              | $\\beta_{11}$ | 2.64     | 0.50        | 4.52    |\n",
       "| ABTH             | $\\beta_{12}$ | 81.09    | 67.27       | 93.54   |\n",
       "|                  |              |          |             |         |\n",
       "| **Metrics**      | **Mean**     | **Lo**   | **Hi**      |         |\n",
       "| $\\sigma$         | 4.00         | 3.60     | 4.32        |         |\n",
       "| $R^2$            | 0.75         | 0.70     | 0.80        |         |"
      ],
      "text/plain": [
       "<models.ResultsWrapper at 0x7f84b1ab8b20>"
      ]
     },
     "execution_count": 53,
     "metadata": {},
     "output_type": "execute_result"
    }
   ],
   "source": [
    "random.seed(17)\n",
    "model = \"\"\"BodyFat ~ Age + Weight + Height + Neck + Hip + TTH + Knee +\n",
    "        BTH + FTH + Wrist + BMI + ABTH\"\"\"\n",
    "result17 = models.bootstrap_linear_regression(model, data= bodyfat)\n",
    "models.describe_bootstrap_lr(result17)"
   ]
  },
  {
   "cell_type": "code",
   "execution_count": 54,
   "id": "e4a0e360-5738-4e9f-bbce-aed5104e6924",
   "metadata": {},
   "outputs": [
    {
     "name": "stdout",
     "output_type": "stream",
     "text": [
      "0.7344787428507701\n",
      "0.7329363572488449\n"
     ]
    }
   ],
   "source": [
    "print(models.adjusted_r_squared(result16))\n",
    "print(models.adjusted_r_squared(result17))"
   ]
  },
  {
   "cell_type": "markdown",
   "id": "2f8f1959-2e88-4d7c-a456-a2390ac7e12d",
   "metadata": {},
   "source": [
    "Our $\\sigma$ (4.00) has taken a little bit of a hit, and *adjusted* $R^2$'s have slightly decreased. Neck and Wrist are still significantly negative. \n",
    "\n",
    "Let's check the residuals for our model."
   ]
  },
  {
   "cell_type": "code",
   "execution_count": 55,
   "id": "e35f8669-e3d8-4329-8783-e7d2bb0b6a41",
   "metadata": {},
   "outputs": [
    {
     "data": {
      "image/png": "[encoded data removed]",
      "text/plain": [
       "<Figure size 1440x1440 with 12 Axes>"
      ]
     },
     "metadata": {},
     "output_type": "display_data"
    }
   ],
   "source": [
    "result17_residuals = plot_residuals(bodyfat, result17, [ \"Age\", \"Weight\", \"Height\", \"Neck\",\n",
    "                                                   \"Hip\", \"TTH\", \"Knee\", \"BTH\", \n",
    "                                                   \"FTH\", \"Wrist\", \"BMI\", \"ABTH\"])"
   ]
  },
  {
   "cell_type": "markdown",
   "id": "7ab96073-d8b6-4e6f-8dad-634795a78415",
   "metadata": {},
   "source": [
    "We don't see any errors with our residuals. Let's check the overall residuals."
   ]
  },
  {
   "cell_type": "code",
   "execution_count": 56,
   "id": "9f04c154-5381-4665-b228-17c1432ce32d",
   "metadata": {},
   "outputs": [
    {
     "data": {
      "image/png": "[encoded data removed]",
      "text/plain": [
       "<Figure size 1440x432 with 1 Axes>"
      ]
     },
     "metadata": {},
     "output_type": "display_data"
    }
   ],
   "source": [
    "plot_residual(result17)"
   ]
  },
  {
   "cell_type": "markdown",
   "id": "ccac7ac2-931e-4291-9bd9-3a3a59cf8732",
   "metadata": {},
   "source": [
    "One of these assumptions of OLS is that our residuals are normally distributed with a mean of 0. This plot tells us we have met this assumption as the distributions is very symmetric.  \n",
    "\n",
    "Next, let's test our predictions."
   ]
  },
  {
   "cell_type": "code",
   "execution_count": 57,
   "id": "9f739770-6b6b-44cc-808e-02d5495906e3",
   "metadata": {},
   "outputs": [
    {
     "name": "stdout",
     "output_type": "stream",
     "text": [
      "Age P(>0)=0.990 (strong)\n",
      "Weight P(>0)=0.000 (weak)\n",
      "Height P(>0)=1.000 (strong)\n",
      "Neck P(>0)=0.010 (weak)\n",
      "Hip P(>0)=1.000 (strong)\n",
      "TTH P(>0)=0.980 (strong)\n",
      "Knee P(>0)=0.740 (strong)\n",
      "BTH P(>0)=0.920 (strong)\n",
      "FTH P(>0)=0.950 (strong)\n",
      "Wrist P(>0)=0.000 (weak)\n",
      "BMI P(>0)=0.990 (strong)\n",
      "ABTH P(>0)=1.000 (strong)\n"
     ]
    }
   ],
   "source": [
    "predictions = {\"Age\": \"+\", \"Weight\": \"+\", \"Height\": \"+\", \"Neck\": \"+\",\n",
    "               \"Hip\": \"+\", \"TTH\": \"+\", \"Knee\": \"+\",\n",
    "               \"BTH\": \"+\", \"FTH\": \"+\", \"Wrist\": \"+\",\n",
    "              \"BMI\": \"+\", \"ABTH\": \"+\"}\n",
    "models.evaluate_coefficient_predictions(predictions, result17)"
   ]
  },
  {
   "cell_type": "markdown",
   "id": "af2d6a50-4211-46a6-92be-5a475bc397bd",
   "metadata": {},
   "source": [
    "The model agress with most of our predictions, except Neck, Weight and Wrist which fly in the face of logic. As stated, we believe this is due to the mulcolinearity in our model. "
   ]
  },
  {
   "cell_type": "markdown",
   "id": "9875ab1d-91fd-46f4-a34c-dfd7fc910c7b",
   "metadata": {},
   "source": [
    "### Model Evaluation"
   ]
  },
  {
   "cell_type": "markdown",
   "id": "ecb5e271-f1d5-4e9f-a101-97d1f2cdb668",
   "metadata": {},
   "source": [
    "Now that we have selected our final model, let's evaluate it. First we will perform three rounds of 10-fold cross validation, estimating $R^2$ and $\\sigma$ each round. We will be using helper functions provided by Lab 11 to accomplish this. "
   ]
  },
  {
   "cell_type": "code",
   "execution_count": 58,
   "id": "eb20b4fe-fe4f-46af-ac51-27878f0a4b88",
   "metadata": {},
   "outputs": [],
   "source": [
    "def chunk(xs, n):\n",
    "    k, m = divmod(len(xs), n)\n",
    "    return [xs[i * k + min(i, m):(i + 1) * k + min(i + 1, m)] for i in range(n)]"
   ]
  },
  {
   "cell_type": "code",
   "execution_count": 59,
   "id": "f8e3b208-e9d5-4d9f-828b-79d926866cbe",
   "metadata": {},
   "outputs": [],
   "source": [
    "def cross_validation(algorithm, formula, data, evaluate, fold_count=10, repetitions=3):\n",
    "    indices = list(range(len( data)))\n",
    "    metrics = []\n",
    "    for _ in range(repetitions):\n",
    "        random.shuffle(indices)\n",
    "        folds = chunk(indices, fold_count)\n",
    "        for fold in folds:\n",
    "            test_data = data.iloc[fold]\n",
    "            train_indices = [idx not in fold for idx in indices]\n",
    "            train_data = data.iloc[train_indices]\n",
    "            result = algorithm(formula, data=train_data)\n",
    "            model = result[\"model\"]\n",
    "            y, X = patsy.dmatrices(formula, test_data, return_type=\"matrix\")\n",
    "            # y = np.ravel( y) # might need for logistic regression\n",
    "            results = models.summarize(formula, X, y, model)\n",
    "            metric = evaluate(results)\n",
    "            metrics.append(metric)\n",
    "    return metrics"
   ]
  },
  {
   "cell_type": "markdown",
   "id": "e640a8aa-c84c-4190-9e03-d62bcc507443",
   "metadata": {},
   "source": [
    "Let's run `cross_validation` on our model and data:"
   ]
  },
  {
   "cell_type": "code",
   "execution_count": 60,
   "id": "d4ff130b-7433-4be8-8d1e-d26aedbc862a",
   "metadata": {},
   "outputs": [],
   "source": [
    "import patsy\n",
    "\n",
    "formula = \"\"\"BodyFat ~ Age + Weight + Height + Neck + Hip + TTH + Knee +\n",
    "        BTH + FTH + Wrist + BMI + ABTH\"\"\"\n",
    "result = cross_validation(models.linear_regression, formula, bodyfat, lambda r: (r[\"sigma\"], r[\"r_squared\"]))"
   ]
  },
  {
   "cell_type": "markdown",
   "id": "425b62b2-27c0-4e74-88ed-6080f573f4f2",
   "metadata": {},
   "source": [
    "In the results above, we have the metric ($\\sigma$ or $R^2$) and the 95% credible intervals for the *metric*. Now we have 30 estimates of each metric. That's sufficient to estimate credible bounds. We can just get the quantiles. That is, 3 rounds of 10 fold cross validation is already a kind of Bootstrap estimate of the metric:"
   ]
  },
  {
   "cell_type": "code",
   "execution_count": 61,
   "id": "7e3cf49b-ade3-4983-b6cc-97d641a2705c",
   "metadata": {},
   "outputs": [
    {
     "name": "stdout",
     "output_type": "stream",
     "text": [
      "95% CI for sigma: [4.40492431 7.09341563]\n"
     ]
    }
   ],
   "source": [
    "print(r\"95% CI for sigma:\", stats.mstats.mquantiles([r[0] for r in result], [0.025, 0.975]))"
   ]
  },
  {
   "cell_type": "code",
   "execution_count": 62,
   "id": "fa25dcbd-9356-4a8b-834d-02ec1ca1ed50",
   "metadata": {},
   "outputs": [
    {
     "name": "stdout",
     "output_type": "stream",
     "text": [
      "95% CI for R^2: [0.61995151 0.85702889]\n"
     ]
    }
   ],
   "source": [
    "print(r\"95% CI for R^2:\", stats.mstats.mquantiles([r[1] for r in result], [0.025, 0.975]))"
   ]
  },
  {
   "cell_type": "markdown",
   "id": "a8f4a5e2-a587-4946-b548-acb7955d94a2",
   "metadata": {},
   "source": [
    "The *difference* between the two intervals is that the first Bootstrap results are based on a model evaluated against the data it was tested with whereas the 10 fold cross validation simulates the application of the model against data that was not used to train it. We can see that in both instances, the $\\sigma$ and $R^2$ have increased error bounds. In the case of the latter, we've gone from [.70,.80] to [.55,.89], a wide margin!\n",
    "\n",
    "We can also calculate the *mean* $\\sigma$ and $R^2$ and calculate the 95% credible intervals for the *mean* values. This also makes sense. If we want to predict the average mpg, we might want to see the credible intervals for the *average* mpg.\n",
    "\n",
    "Let's start by seeing what the mean values are:"
   ]
  },
  {
   "cell_type": "code",
   "execution_count": 63,
   "id": "628de3cc-52f4-4490-a2c6-4554813aa6e5",
   "metadata": {},
   "outputs": [],
   "source": [
    "sigmas = [r[0] for r in result]\n",
    "r_squareds = [r[1] for r in result]"
   ]
  },
  {
   "cell_type": "code",
   "execution_count": 64,
   "id": "e177c640-c9fe-4593-8f7c-741f2ab63adc",
   "metadata": {},
   "outputs": [
    {
     "name": "stdout",
     "output_type": "stream",
     "text": [
      "mean sigma:  5.558293278972361\n",
      "mean R^2:  0.7303235771444093\n"
     ]
    }
   ],
   "source": [
    "print(\"mean sigma: \", np.mean(sigmas))\n",
    "print(\"mean R^2: \", np.mean(r_squareds))"
   ]
  },
  {
   "cell_type": "code",
   "execution_count": 65,
   "id": "a12573cf-5c4b-4a1d-a1a1-7a3f55259be9",
   "metadata": {},
   "outputs": [],
   "source": [
    "def resample(data):\n",
    "    n = len(data)\n",
    "    return [data[ i] for i in [stats.randint.rvs(0, n - 1) for _ in range( 0, n)]]"
   ]
  },
  {
   "cell_type": "code",
   "execution_count": 66,
   "id": "a72451c3-e08a-44ac-a5fd-75fd2b253877",
   "metadata": {},
   "outputs": [],
   "source": [
    "bootstrap = {}\n",
    "bootstrap[\"sigma\"] = np.array([np.mean(s) for s in [resample(sigmas) for i in range( 0, 1000)]])\n",
    "bootstrap[\"r_squared\"] = np.array([np.mean(r) for r in [resample(r_squareds) for i in range( 0, 1000)]])"
   ]
  },
  {
   "cell_type": "code",
   "execution_count": 67,
   "id": "90ea5037-84dc-4464-a6b9-c38c1678ae35",
   "metadata": {},
   "outputs": [
    {
     "name": "stdout",
     "output_type": "stream",
     "text": [
      "95% CI for *mean* sigma: [5.33668494 5.84280566]\n"
     ]
    }
   ],
   "source": [
    "print(r\"95% CI for *mean* sigma:\", stats.mstats.mquantiles(bootstrap[\"sigma\"], [0.025, 0.975]))"
   ]
  },
  {
   "cell_type": "code",
   "execution_count": 68,
   "id": "b2671c31-a853-4ec5-84f8-e6ad4f4080a0",
   "metadata": {},
   "outputs": [
    {
     "name": "stdout",
     "output_type": "stream",
     "text": [
      "95% CI for *mean* R^2: [0.70252389 0.75616407]\n"
     ]
    }
   ],
   "source": [
    "print(r\"95% CI for *mean* R^2:\", stats.mstats.mquantiles(bootstrap[\"r_squared\"], [0.025, 0.975]))"
   ]
  },
  {
   "cell_type": "markdown",
   "id": "e2ddc45f-8810-442c-83c0-36ea3530ee9c",
   "metadata": {},
   "source": [
    "We have medium tight bounds on what we think the average $\\sigma$ and $R^2$ are for our model. \n",
    "\n",
    "We expect our model to perform OK on untested data. Since the range of $R^2$ is not very close to our initial $R^2$ of .74, our model probably overfits the data."
   ]
  },
  {
   "cell_type": "markdown",
   "id": "b2e749ae-be96-4821-a4f0-a5a57697b641",
   "metadata": {},
   "source": [
    "\n",
    "Let's next use learning curves to see if adding data will improve estimation of the model. Here we want to plot ever increasing chunks of the test data to simulate getting more data. This should/may/could also reveal if we are in a high bias or high variance situation. We will use the helper functions form Lab 11. "
   ]
  },
  {
   "cell_type": "code",
   "execution_count": 69,
   "id": "6a9c4046-4ced-4ae2-a017-e4b3d078f136",
   "metadata": {},
   "outputs": [],
   "source": [
    "from collections import defaultdict"
   ]
  },
  {
   "cell_type": "code",
   "execution_count": 70,
   "id": "592505dc-095a-44dd-9d6a-5b6821f164f4",
   "metadata": {},
   "outputs": [],
   "source": [
    "def data_collection():\n",
    "    result = dict()\n",
    "    result[ \"train\"] = defaultdict( list)\n",
    "    result[ \"test\"] = defaultdict( list)\n",
    "    return result"
   ]
  },
  {
   "cell_type": "code",
   "execution_count": 71,
   "id": "6e66e2c1-94ee-4494-a7d5-fb6178dc2975",
   "metadata": {},
   "outputs": [],
   "source": [
    "def learning_curves(algorithm, formula, data, evaluate, fold_count=10, repetitions=3, increment=1):\n",
    "    indices = list(range(len( data)))\n",
    "    results = data_collection()\n",
    "    for _ in range(repetitions):\n",
    "        random.shuffle(indices)\n",
    "        folds = chunk(indices, fold_count)\n",
    "        for fold in folds:\n",
    "            test_data = data.iloc[ fold]\n",
    "            train_indices = [idx for idx in indices if idx not in fold]\n",
    "            train_data = data.iloc[train_indices]\n",
    "            for i in list(range(increment, 100, increment)) + [100]: # ensures 100% is always picked.\n",
    "                # the indices are already shuffled so we only need to take ever increasing chunks\n",
    "                train_chunk_size = int( np.ceil((i/100)*len( train_indices)))\n",
    "                train_data_chunk = data.iloc[train_indices[0:train_chunk_size]]\n",
    "                # we calculate the model\n",
    "                result = algorithm(formula, data=train_data_chunk)\n",
    "                model = result[\"model\"]\n",
    "                # we calculate the results for the training data subset\n",
    "                y, X = patsy.dmatrices( formula, train_data_chunk, return_type=\"matrix\")\n",
    "                result = models.summarize(formula, X, y, model)\n",
    "                metric = evaluate(result)\n",
    "                results[\"train\"][i].append( metric)\n",
    "                \n",
    "                # we calculate the results for the test data.\n",
    "                y, X = patsy.dmatrices( formula, test_data, return_type=\"matrix\")\n",
    "                result = models.summarize(formula, X, y, model)\n",
    "                metric = evaluate(result)\n",
    "                results[\"test\"][i].append( metric)\n",
    "            #\n",
    "        #\n",
    "    # process results\n",
    "    # Rely on the CLT...\n",
    "    statistics = {}\n",
    "    for k, v in results[\"train\"].items():\n",
    "        statistics[ k] = (np.mean(v), np.std(v))\n",
    "    results[\"train\"] = statistics\n",
    "    statistics = {}\n",
    "    for k, v in results[\"test\"].items():\n",
    "        statistics[ k] = (np.mean(v), np.std(v))\n",
    "    results[\"test\"] = statistics\n",
    "    return results\n",
    "#"
   ]
  },
  {
   "cell_type": "code",
   "execution_count": 72,
   "id": "4c15afef-c971-4fce-8a2b-696579fd64b1",
   "metadata": {},
   "outputs": [],
   "source": [
    "result = learning_curves(models.linear_regression, formula, bodyfat, lambda r: r[\"sigma\"])"
   ]
  },
  {
   "cell_type": "code",
   "execution_count": 73,
   "id": "a9e68ce7-12ba-4eaa-800a-fc0f1b7a31f6",
   "metadata": {},
   "outputs": [],
   "source": [
    "def results_to_curves( curve, results):\n",
    "    all_statistics = results[ curve]\n",
    "    keys = list( all_statistics.keys())\n",
    "    keys.sort()\n",
    "    mean = []\n",
    "    upper = []\n",
    "    lower = []\n",
    "    for k in keys:\n",
    "        m, s = all_statistics[ k]\n",
    "        mean.append( m)\n",
    "        upper.append( m + 2 * s)\n",
    "        lower.append( m - 2 * s)\n",
    "    return keys, lower, mean, upper"
   ]
  },
  {
   "cell_type": "code",
   "execution_count": 74,
   "id": "78980286-f488-42fe-89fb-48526b710217",
   "metadata": {},
   "outputs": [],
   "source": [
    "def plot_learning_curves( results, metric, zoom=False):\n",
    "    figure = plt.figure(figsize=(10,6))\n",
    "\n",
    "    axes = figure.add_subplot(1, 1, 1)\n",
    "\n",
    "    xs, train_lower, train_mean, train_upper = results_to_curves( \"train\", results)\n",
    "    _, test_lower, test_mean, test_upper = results_to_curves( \"test\", results)\n",
    "\n",
    "    axes.plot( xs, train_mean, color=\"steelblue\")\n",
    "    axes.fill_between( xs, train_upper, train_lower, color=\"steelblue\", alpha=0.25, label=\"train\")\n",
    "    axes.plot( xs, test_mean, color=\"firebrick\")\n",
    "    axes.fill_between( xs, test_upper, test_lower, color=\"firebrick\", alpha=0.25, label=\"test\")\n",
    "    axes.legend()\n",
    "    axes.set_xlabel( \"training set (%)\")\n",
    "    axes.set_ylabel( metric)\n",
    "    axes.set_title(\"Learning Curves\")\n",
    "\n",
    "    if zoom:\n",
    "        y_lower = float( 0.5 * np.amin([train_lower[-1], test_lower[-1]]))\n",
    "        y_upper = float( 2.1 * np.amax([train_upper[-1], test_upper[-1]]))\n",
    "        axes.set_ylim((y_lower, y_upper))\n",
    "\n",
    "    plt.show()\n",
    "    plt.close()\n",
    "#"
   ]
  },
  {
   "cell_type": "code",
   "execution_count": 75,
   "id": "a3b7d876-aca0-4c92-b892-6979084412b2",
   "metadata": {},
   "outputs": [
    {
     "data": {
      "image/png": "[encoded data removed]",
      "text/plain": [
       "<Figure size 720x432 with 1 Axes>"
      ]
     },
     "metadata": {},
     "output_type": "display_data"
    }
   ],
   "source": [
    "plot_learning_curves(result, r\"$\\sigma$\", zoom = True)"
   ]
  },
  {
   "cell_type": "markdown",
   "id": "a9492579-25b2-4c55-a127-8f8c10e36693",
   "metadata": {},
   "source": [
    "There is a gap between training and testing error. The gap doesn't seem to be narrowing after a certain percetange so we shouldn't expect added data to improve the model. As a result our model seems to suffer from some bias."
   ]
  },
  {
   "cell_type": "markdown",
   "id": "8dc3d15b-309e-43d6-9c47-ad32e162b4e4",
   "metadata": {},
   "source": [
    "### Describe the Model"
   ]
  },
  {
   "cell_type": "code",
   "execution_count": 76,
   "id": "875d7c52-e850-44ed-895f-c31404c8e2b1",
   "metadata": {},
   "outputs": [
    {
     "data": {
      "text/html": [
       "<p><strong>Model: BodyFat ~ Age + Weight + Height + Neck + Hip + TTH + Knee +\n",
       "        BTH + FTH + Wrist + BMI + ABTH</strong><br/><table>\n",
       "<tbody>\n",
       "<tr><td>                             </td><td>                     </td><td>                     </td><td><strong>95% BCI</strong</td><td>                   </td></tr>\n",
       "<tr><td><strong>Coefficients</strong</td><td>                     </td><td><strong>Mean</strong</td><td><strong>Lo</strong     </td><td><strong>Hi</strong</td></tr>\n",
       "<tr><td>                             </td><td>$\\beta_{0}$          </td><td>-231.17              </td><td>-321.53                 </td><td>-123.14            </td></tr>\n",
       "<tr><td>Age                          </td><td>$\\beta_{1}$          </td><td>0.05                 </td><td>0.00                    </td><td>0.10               </td></tr>\n",
       "<tr><td>Weight                       </td><td>$\\beta_{2}$          </td><td>-0.41                </td><td>-0.65                   </td><td>-0.11              </td></tr>\n",
       "<tr><td>Height                       </td><td>$\\beta_{3}$          </td><td>0.81                 </td><td>0.21                    </td><td>1.34               </td></tr>\n",
       "<tr><td>Neck                         </td><td>$\\beta_{4}$          </td><td>-0.46                </td><td>-0.87                   </td><td>-0.06              </td></tr>\n",
       "<tr><td>Hip                          </td><td>$\\beta_{5}$          </td><td>0.51                 </td><td>0.24                    </td><td>0.72               </td></tr>\n",
       "<tr><td>TTH                          </td><td>$\\beta_{6}$          </td><td>38.47                </td><td>2.34                    </td><td>82.41              </td></tr>\n",
       "<tr><td>Knee                         </td><td>$\\beta_{7}$          </td><td>0.12                 </td><td>-0.31                   </td><td>0.53               </td></tr>\n",
       "<tr><td>BTH                          </td><td>$\\beta_{8}$          </td><td>36.17                </td><td>-11.54                  </td><td>88.69              </td></tr>\n",
       "<tr><td>FTH                          </td><td>$\\beta_{9}$          </td><td>46.07                </td><td>-12.53                  </td><td>104.85             </td></tr>\n",
       "<tr><td>Wrist                        </td><td>$\\beta_{10}$         </td><td>-1.65                </td><td>-2.33                   </td><td>-0.77              </td></tr>\n",
       "<tr><td>BMI                          </td><td>$\\beta_{11}$         </td><td>2.64                 </td><td>0.50                    </td><td>4.52               </td></tr>\n",
       "<tr><td>ABTH                         </td><td>$\\beta_{12}$         </td><td>81.09                </td><td>67.27                   </td><td>93.54              </td></tr>\n",
       "<tr><td>                             </td><td>                     </td><td>                     </td><td>                        </td><td>                   </td></tr>\n",
       "<tr><td><strong>Metrics</strong     </td><td><strong>Mean</strong</td><td><strong>Lo</strong  </td><td><strong>Hi</strong     </td><td>                   </td></tr>\n",
       "<tr><td>$\\sigma$                     </td><td>4.00                 </td><td>3.60                 </td><td>4.32                    </td><td>                   </td></tr>\n",
       "<tr><td>$R^2$                        </td><td>0.75                 </td><td>0.70                 </td><td>0.80                    </td><td>                   </td></tr>\n",
       "</tbody>\n",
       "</table></p>"
      ],
      "text/latex": [
       "\\textbf{Model: BodyFat $\\sim$ Age + Weight + Height + Neck + Hip + TTH + Knee +\n",
       "        BTH + FTH + Wrist + BMI + ABTH}\n",
       "\n",
       "\\begin{tabular}{lllll}\n",
       "\\toprule\n",
       "                       &               &               & \\textbf{95\\% BCI} &             \\\\\n",
       " \\textbf{Coefficients} &               & \\textbf{Mean} & \\textbf{Lo}      & \\textbf{Hi} \\\\\n",
       "                       & $\\beta_{0}$   & -231.17       & -321.53          & -123.14     \\\\\n",
       " Age                   & $\\beta_{1}$   & 0.05          & 0.00             & 0.10        \\\\\n",
       " Weight                & $\\beta_{2}$   & -0.41         & -0.65            & -0.11       \\\\\n",
       " Height                & $\\beta_{3}$   & 0.81          & 0.21             & 1.34        \\\\\n",
       " Neck                  & $\\beta_{4}$   & -0.46         & -0.87            & -0.06       \\\\\n",
       " Hip                   & $\\beta_{5}$   & 0.51          & 0.24             & 0.72        \\\\\n",
       " TTH                   & $\\beta_{6}$   & 38.47         & 2.34             & 82.41       \\\\\n",
       " Knee                  & $\\beta_{7}$   & 0.12          & -0.31            & 0.53        \\\\\n",
       " BTH                   & $\\beta_{8}$   & 36.17         & -11.54           & 88.69       \\\\\n",
       " FTH                   & $\\beta_{9}$   & 46.07         & -12.53           & 104.85      \\\\\n",
       " Wrist                 & $\\beta_{10}$  & -1.65         & -2.33            & -0.77       \\\\\n",
       " BMI                   & $\\beta_{11}$  & 2.64          & 0.50             & 4.52        \\\\\n",
       " ABTH                  & $\\beta_{12}$  & 81.09         & 67.27            & 93.54       \\\\\n",
       "                       &               &               &                  &             \\\\\n",
       " \\textbf{Metrics}      & \\textbf{Mean} & \\textbf{Lo}   & \\textbf{Hi}      &             \\\\\n",
       " $\\sigma$              & 4.00          & 3.60          & 4.32             &             \\\\\n",
       " $R^2$                 & 0.75          & 0.70          & 0.80             &             \\\\\n",
       "\\bottomrule\n",
       "\\end{tabular}"
      ],
      "text/markdown": [
       "Model: BodyFat ~ Age + Weight + Height + Neck + Hip + TTH + Knee +\n",
       "        BTH + FTH + Wrist + BMI + ABTH\n",
       "|------------------|--------------|----------|-------------|---------|\n",
       "|                  |              |          | **95% BCI** |         |\n",
       "| **Coefficients** |              | **Mean** | **Lo**      | **Hi**  |\n",
       "|                  | $\\beta_{0}$  | -231.17  | -321.53     | -123.14 |\n",
       "| Age              | $\\beta_{1}$  | 0.05     | 0.00        | 0.10    |\n",
       "| Weight           | $\\beta_{2}$  | -0.41    | -0.65       | -0.11   |\n",
       "| Height           | $\\beta_{3}$  | 0.81     | 0.21        | 1.34    |\n",
       "| Neck             | $\\beta_{4}$  | -0.46    | -0.87       | -0.06   |\n",
       "| Hip              | $\\beta_{5}$  | 0.51     | 0.24        | 0.72    |\n",
       "| TTH              | $\\beta_{6}$  | 38.47    | 2.34        | 82.41   |\n",
       "| Knee             | $\\beta_{7}$  | 0.12     | -0.31       | 0.53    |\n",
       "| BTH              | $\\beta_{8}$  | 36.17    | -11.54      | 88.69   |\n",
       "| FTH              | $\\beta_{9}$  | 46.07    | -12.53      | 104.85  |\n",
       "| Wrist            | $\\beta_{10}$ | -1.65    | -2.33       | -0.77   |\n",
       "| BMI              | $\\beta_{11}$ | 2.64     | 0.50        | 4.52    |\n",
       "| ABTH             | $\\beta_{12}$ | 81.09    | 67.27       | 93.54   |\n",
       "|                  |              |          |             |         |\n",
       "| **Metrics**      | **Mean**     | **Lo**   | **Hi**      |         |\n",
       "| $\\sigma$         | 4.00         | 3.60     | 4.32        |         |\n",
       "| $R^2$            | 0.75         | 0.70     | 0.80        |         |"
      ],
      "text/plain": [
       "<models.ResultsWrapper at 0x7f84b18b4e80>"
      ]
     },
     "execution_count": 76,
     "metadata": {},
     "output_type": "execute_result"
    }
   ],
   "source": [
    "models.describe_bootstrap_lr(result17)"
   ]
  },
  {
   "cell_type": "markdown",
   "id": "082bc971-8c25-4dad-8c87-de8853355b70",
   "metadata": {},
   "source": [
    "Our final model is:\n",
    "\n",
    "* $x_1$ - Age\n",
    "* $x_2$ - Weight\n",
    "* $x_3$ - Height\n",
    "* $x_4$ - Neck \n",
    "* $x_5$ - Hip\n",
    "* $x_6$ - TTH\n",
    "* $x_7$ - Knee\n",
    "* $x_8$ - BTH\n",
    "* $x_9$ - FTH\n",
    "* $x_10$ - Wrist\n",
    "* $x_11$ - BMI\n",
    "* $x_12$ - ABTH\n",
    "\n",
    "bodyfat% = -231.17 +.05$x_1$ - .41$x_2$ + .81$x_3$ -.46$x_4$ + .51$x_5$ +38.47$x_6$ + .12$x_7$ + 36.17$x_8$ + 46.07$x_9$ - 1.65$x_w$ + 2.64$x_b$ + 81.09$x_a$"
   ]
  },
  {
   "cell_type": "markdown",
   "id": "4758a13d-e725-4dd1-ba33-6f2b624d23a9",
   "metadata": {},
   "source": [
    "The 'null' model (intercept) is nonexistant person with measurements of size zero."
   ]
  },
  {
   "cell_type": "markdown",
   "id": "52426de0-3035-4fb2-ae79-af97561c5957",
   "metadata": {},
   "source": [
    "### Use the Model"
   ]
  },
  {
   "cell_type": "markdown",
   "id": "eff6be1b-b80f-4e3d-b434-e2440e209059",
   "metadata": {},
   "source": [
    "We build models for a purpose. One of these purposes might be explanation: we want to try to explain charges.\n",
    "Another purpose is prediction, we might want to predict a persons's bodyfat %. \n",
    "\n",
    "We will use three examples:\n",
    "1) FF =  31 year old 175 pound 5'10'' with 16 inch neck, hip of 30 inches, thigh of 24 inches, knee of 15 inches, biceps of 15 inches, forearm of 10 inches and wrist of 7 inches, abdomen of 32 inches. \n",
    "2) SS =  44 year old 210 pound 5'8'' with 18 inch neck, hip of 28 inches, thigh of 30 inches, knee of 17 inches, biceps of 20 inches, forearm of 11 inches and wrist of 9 inches, abdomen of 40 inches. \n",
    "3) AA = 22 year old 190 pound 6'3'' with 16 inch neck, hip of 31 inches, thigh of 26 inches, knee of 15 inches, biceps of 15 inches, forearm of 12 inches and wrist of 8 inches, abdomen of 32 inches. "
   ]
  },
  {
   "cell_type": "markdown",
   "id": "19c77ee6-099b-4946-b88c-9f2453c71527",
   "metadata": {},
   "source": [
    "Before estimating let's first revist our null model. We estimated bodyfat as:"
   ]
  },
  {
   "cell_type": "code",
   "execution_count": 77,
   "id": "d93938fe-1cc2-42f7-b980-22dee56d62e3",
   "metadata": {},
   "outputs": [
    {
     "data": {
      "text/plain": [
       "18.835458167330682"
      ]
     },
     "execution_count": 77,
     "metadata": {},
     "output_type": "execute_result"
    }
   ],
   "source": [
    "bodyfat.BodyFat.mean()"
   ]
  },
  {
   "cell_type": "markdown",
   "id": "662cce69-e963-4409-bcb9-5720f78f4227",
   "metadata": {},
   "source": [
    "with an error"
   ]
  },
  {
   "cell_type": "code",
   "execution_count": 78,
   "id": "cad7637a-c564-48a6-9f0e-671a5561a735",
   "metadata": {},
   "outputs": [
    {
     "data": {
      "text/plain": [
       "7.770856946903798"
      ]
     },
     "execution_count": 78,
     "metadata": {},
     "output_type": "execute_result"
    }
   ],
   "source": [
    "bodyfat.BodyFat.std()"
   ]
  },
  {
   "cell_type": "markdown",
   "id": "5d1555a6-f27f-4d66-9705-fbfad0656bbc",
   "metadata": {},
   "source": [
    "So we expect a 95% error bounds of our null model to be"
   ]
  },
  {
   "cell_type": "code",
   "execution_count": 79,
   "id": "2bfc97aa-5ea1-42aa-a627-e320e374e02a",
   "metadata": {},
   "outputs": [
    {
     "data": {
      "text/plain": [
       "[3.6045785513992374, 34.06633778326213]"
      ]
     },
     "execution_count": 79,
     "metadata": {},
     "output_type": "execute_result"
    }
   ],
   "source": [
    "[bodyfat.BodyFat.mean()-1.96*bodyfat.BodyFat.std(), bodyfat.BodyFat.mean()+1.96*bodyfat.BodyFat.std()]"
   ]
  },
  {
   "cell_type": "markdown",
   "id": "c695438a-7a9f-491c-a6c5-5e2cbd0d1c7f",
   "metadata": {},
   "source": [
    "We estimate body fat to be 18.8% with a range between 3.6% and 34.1%."
   ]
  },
  {
   "cell_type": "markdown",
   "id": "45c79ca9-86f8-48c2-8e51-dd6c96143902",
   "metadata": {},
   "source": [
    "Let's start with the FF. \n",
    "\n",
    "1) FF =  31 year old 175 pound 5'10'' with 16 inch neck, hip of 30 inches, thigh of 24 inches, knee of 15 inches, biceps of 15 inches, forearm of 10 inches and wrist of 7 inches, abdomen of 32 inches.\n",
    "\n",
    "Because of the transformations, we'll need to compute them by hand."
   ]
  },
  {
   "cell_type": "code",
   "execution_count": 80,
   "id": "a0f694d7-67f1-4397-aa5e-cfb141512716",
   "metadata": {},
   "outputs": [],
   "source": [
    "FF = [1, 31, 175, 70*2.54, 16*2.54, 30*2.54, 24/70, 15*2.54, 15/70, 10/70, 7*2.54, 703*(175/70/70), 32/30]"
   ]
  },
  {
   "cell_type": "code",
   "execution_count": 81,
   "id": "314cba44-159a-4d57-a7fb-239f8428e5fb",
   "metadata": {},
   "outputs": [],
   "source": [
    "prediction = result17[\"model\"].predict([FF])"
   ]
  },
  {
   "cell_type": "code",
   "execution_count": 82,
   "id": "ff5adad9-2ae1-4144-a05d-2c4cd4f2085f",
   "metadata": {},
   "outputs": [
    {
     "data": {
      "text/plain": [
       "[18.044532921686454, 10.206629772854773, 25.882436070518132]"
      ]
     },
     "execution_count": 82,
     "metadata": {},
     "output_type": "execute_result"
    }
   ],
   "source": [
    "[prediction[0][0], prediction[0][0]-1.96*result17[\"sigma\"], prediction[0][0]+1.96*result17[\"sigma\"]]"
   ]
  },
  {
   "cell_type": "markdown",
   "id": "55937080-b925-46ed-9991-84cb1fd0888d",
   "metadata": {},
   "source": [
    "Our model predicts a Body Fat % of 18% with an error bounds of 10% to essentially 25%. \n",
    "\n",
    "Next let's examine SS.\n",
    "\n",
    "2) SS =  44 year old 210 pound 5'8'' with 18 inch neck, hip of 28 inches, thigh of 30 inches, knee of 17 inches, biceps of 20 inches, forearm of 11 inches and wrist of 9 inches, abdomen of 40 inches.  "
   ]
  },
  {
   "cell_type": "code",
   "execution_count": 83,
   "id": "419a4628-f716-4913-bbc2-9f07fbfca7b1",
   "metadata": {},
   "outputs": [],
   "source": [
    "SS = [1, 44, 210, 68*2.54, 18*2.54, 28*2.54, 30/68, 17*2.54, 20/68, 11/68, 9*2.54, 703*(210/68/68), 40/28]"
   ]
  },
  {
   "cell_type": "code",
   "execution_count": 84,
   "id": "c47051ba-a0b0-4564-a428-cfab15d90a47",
   "metadata": {},
   "outputs": [
    {
     "data": {
      "text/plain": [
       "[42.290681900382765, 34.45277875155109, 50.12858504921444]"
      ]
     },
     "execution_count": 84,
     "metadata": {},
     "output_type": "execute_result"
    }
   ],
   "source": [
    "prediction = result17[\"model\"].predict([SS])\n",
    "[prediction[0][0], prediction[0][0]-1.96*result17[\"sigma\"], prediction[0][0]+1.96*result17[\"sigma\"]]"
   ]
  },
  {
   "cell_type": "markdown",
   "id": "14ad31b0-1ce7-4566-83f1-e02a1d9be475",
   "metadata": {},
   "source": [
    "Our model predicts a bodyfat percentage of 42.3% with error bounds from 34.5% to 50.1%\n",
    "\n",
    "Last, let's examine AA.\n",
    "\n",
    "3) AA = 22 year old 150 pound 6'3'' with 16 inch neck, hip of 31 inches, thigh of 26 inches, knee of 15 inches, biceps of 15 inches, forearm of 12 inches and wrist of 8 inches, abdomen of 32 inches. "
   ]
  },
  {
   "cell_type": "markdown",
   "id": "76991ef5-960a-45e1-bff9-0dedf232b100",
   "metadata": {},
   "source": [
    "3) AA = 22 year old 190 pound 6'3'' with 16 inch neck, hip of 31 inches, thigh of 26 inches, knee of 15 inches, biceps of 15 inches, forearm of 12 inches and wrist of 8 inches, abdomen of 32 inches. "
   ]
  },
  {
   "cell_type": "code",
   "execution_count": 85,
   "id": "150b2255-fba1-4bed-8894-12758316b9fc",
   "metadata": {},
   "outputs": [],
   "source": [
    "AA = [1, 22, 190, 73*2.54, 16*2.54, 31*2.54, 26/73, 15*2.54, 15/73, 12/73, 8*2.54, 703*(190/73/73), 32/31]"
   ]
  },
  {
   "cell_type": "code",
   "execution_count": 86,
   "id": "b4a4f950-159a-4e5a-a08f-8e55ef55730a",
   "metadata": {},
   "outputs": [
    {
     "data": {
      "text/plain": [
       "[12.976541834833185, 5.138638686001505, 20.814444983664863]"
      ]
     },
     "execution_count": 86,
     "metadata": {},
     "output_type": "execute_result"
    }
   ],
   "source": [
    "prediction = result17[\"model\"].predict([AA])\n",
    "[prediction[0][0], prediction[0][0]-1.96*result17[\"sigma\"], prediction[0][0]+1.96*result17[\"sigma\"]]"
   ]
  },
  {
   "cell_type": "markdown",
   "id": "d1623ce3-00d5-423f-996a-15bdd5605ecb",
   "metadata": {},
   "source": [
    "Our model predicts a bodyfat percentage of 13.0% with error bounds from  5.1% to 20.8%"
   ]
  },
  {
   "cell_type": "markdown",
   "id": "cc94e49d-d8fb-461b-96e0-a775cbea3691",
   "metadata": {},
   "source": [
    "The three estimates have much tighter estimates than the null model, which basically covers the entire length of possible body fats. \n",
    "\n",
    "We note also that despite our best efforts we still have a large error range. (The difference between 5% body fat and 21% is very noticeable). It's notoriously difficult to use circumference to measure body fat since it just doesn't exist under the skin but also between organs. This \"visceral\" body fat is therefore undetectable by circumference measurement. The best model would never be able to capture this."
   ]
  },
  {
   "cell_type": "markdown",
   "id": "e9e7d498-b0e4-4adb-a173-5d4b91cde4da",
   "metadata": {},
   "source": [
    "### Just for Fun"
   ]
  },
  {
   "cell_type": "markdown",
   "id": "820cb367-22c4-47ea-b62b-eb1626447b9a",
   "metadata": {},
   "source": [
    "On a final note, the best model that the [Navy](https://www.ncbi.nlm.nih.gov/pmc/articles/PMC4831679/) uses, when applied to our model still results in a larger $\\sigma$ than our model, however, theres may not be as biased as ours. For fun, let's apply their model to our data set and compare. According to the website, \n",
    "* BodyFat % = 495/(1.0324 - 0.19077 * log10(waist - neck) + 0.15456 * log10(height)) - 450, where abdomen, neck and height are in cm."
   ]
  },
  {
   "cell_type": "code",
   "execution_count": 87,
   "id": "f337f088-f6b6-4a24-8def-0942b7988348",
   "metadata": {},
   "outputs": [
    {
     "data": {
      "text/plain": [
       "0   -6.364172\n",
       "1   -6.663255\n",
       "2    1.422203\n",
       "3   -6.154111\n",
       "4   -0.587153\n",
       "5    0.444013\n",
       "6   -2.895285\n",
       "7   -5.499966\n",
       "8   -7.686235\n",
       "9   -2.647170\n",
       "dtype: float64"
      ]
     },
     "execution_count": 87,
     "metadata": {},
     "output_type": "execute_result"
    }
   ],
   "source": [
    "bodyfat[\"bf_navy_prediction\"] = 495/(1.0324 - 0.19077 * np.log10(bodyfat.Abdomen - bodyfat.Neck) \n",
    "                                     + 0.15456 * np.log10(bodyfat.Height)) - 450\n",
    "error = bodyfat.BodyFat - bodyfat.bf_navy_prediction\n",
    "error[0:10]"
   ]
  },
  {
   "cell_type": "markdown",
   "id": "dd4281e5-0ee7-4e62-a78c-424bc8f243f1",
   "metadata": {},
   "source": [
    "Now let's find the coefficient of variation."
   ]
  },
  {
   "cell_type": "code",
   "execution_count": 88,
   "id": "a8378c44-3fa8-4e90-8cff-191f3d72a23b",
   "metadata": {},
   "outputs": [
    {
     "data": {
      "text/plain": [
       "0.60331654450824"
      ]
     },
     "execution_count": 88,
     "metadata": {},
     "output_type": "execute_result"
    }
   ],
   "source": [
    "1 - np.sum(error**2)/np.sum((bodyfat.BodyFat - np.mean(bodyfat.BodyFat))**2)"
   ]
  },
  {
   "cell_type": "markdown",
   "id": "64523a00-f32b-4580-ba64-a4fdd46cc156",
   "metadata": {},
   "source": [
    "Applied to our data, the Navy's model has a $R^2$ of 60%. Let's check their $\\sigma$. So our model beats the Navy's by about 10-15%. However, the Navy's model is probably not as biased as ours."
   ]
  }
 ],
 "metadata": {
  "kernelspec": {
   "display_name": "Python (en685648)",
   "language": "python",
   "name": "en685648"
  },
  "language_info": {
   "codemirror_mode": {
    "name": "ipython",
    "version": 3
   },
   "file_extension": ".py",
   "mimetype": "text/x-python",
   "name": "python",
   "nbconvert_exporter": "python",
   "pygments_lexer": "ipython3",
   "version": "3.8.12"
  }
 },
 "nbformat": 4,
 "nbformat_minor": 5
}
