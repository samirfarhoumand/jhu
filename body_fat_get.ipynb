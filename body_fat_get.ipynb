{
 "cells": [
  {
   "cell_type": "code",
   "execution_count": 1,
   "id": "3e508f28-e6e5-4328-9730-7d7336d81e4b",
   "metadata": {},
   "outputs": [],
   "source": [
    "import csv\n",
    "import sqlite3\n",
    "import requests\n",
    "import io\n",
    "from pprint import pprint\n",
    "from tabulate import tabulate"
   ]
  },
  {
   "cell_type": "markdown",
   "id": "bae08b34-6b82-4260-87e0-260babdbf1bc",
   "metadata": {},
   "source": [
    "# Body Fat - Get"
   ]
  },
  {
   "cell_type": "markdown",
   "id": "938ab1a1-f55a-4d66-aea2-85b7dcf6a6a7",
   "metadata": {},
   "source": [
    "The data set we use consists of 252 men with estimates of the percentage of body fat determined by underwater\n",
    "weighing, biologic data, and various body circumference measurements. \n",
    "\n",
    "    1. Density determined from underwater weighing (gm/cm^3)\n",
    "    2. Percent body fat from Siri's (1956) equation\n",
    "    3. Age (years)\n",
    "    4. Weight (lbs)\n",
    "    5. Height (inches)\n",
    "    6. Neck circumference (cm)\n",
    "    7. Chest circumference (cm)\n",
    "    8. Abdomen 2 circumference (cm)\n",
    "    9. Hip circumference (cm)\n",
    "    10. Thigh circumference (cm)\n",
    "    11. Knee circumference (cm)\n",
    "    12. Ankle circumference (cm)\n",
    "    13. Biceps (extended) circumference (cm)\n",
    "    14. Forearm circumference (cm)\n",
    "    15. Wrist circumference (cm)\n",
    "  \n",
    "The data were generously supplied by Dr. A. Garth Fisher who gave permission to freely distribute the data and use for non-commercial purposes."
   ]
  },
  {
   "cell_type": "markdown",
   "id": "bce61b1c-c964-4691-850a-358eb8e3dc33",
   "metadata": {},
   "source": [
    "## Step 1.\n",
    "\n",
    "Open the csv file and dig around.\n",
    "What we're looking for is the basic entities, how their structure might vary, the formatting of data, and anything else that might cause problems for us."
   ]
  },
  {
   "cell_type": "code",
   "execution_count": 2,
   "id": "719be400-13cd-49c5-a426-558fa047f569",
   "metadata": {},
   "outputs": [],
   "source": [
    "list_ = []\n",
    "\n",
    "url = 'http://staff.pubhealth.ku.dk/~tag/Teaching/share/data/Bodyfat.csv'\n",
    "r = requests.get(url)\n",
    "buff = io.StringIO(r.text)\n",
    "dr = csv.DictReader(buff)\n",
    "\n",
    "for row in dr:\n",
    "    list_.append(row)"
   ]
  },
  {
   "cell_type": "markdown",
   "id": "1df89701-cd09-49d5-ac79-b07ae575e643",
   "metadata": {},
   "source": [
    "When poking around CSV files, it's better to look at types and keys first:"
   ]
  },
  {
   "cell_type": "code",
   "execution_count": 3,
   "id": "7d6937d7-31ab-42a5-9756-8890d811ff2f",
   "metadata": {},
   "outputs": [
    {
     "data": {
      "text/plain": [
       "list"
      ]
     },
     "execution_count": 3,
     "metadata": {},
     "output_type": "execute_result"
    }
   ],
   "source": [
    "type(list_)"
   ]
  },
  {
   "cell_type": "code",
   "execution_count": 4,
   "id": "5f23af28-efd3-4d50-865f-d5e08c42f953",
   "metadata": {},
   "outputs": [
    {
     "data": {
      "text/plain": [
       "{'Density': '1.0708',\n",
       " 'bodyfat': '12.3',\n",
       " 'Age': '23',\n",
       " 'Weight': '154.25',\n",
       " 'Height': '67.75',\n",
       " 'Neck': '36.2',\n",
       " 'Chest': '93.1',\n",
       " 'Abdomen': '85.2',\n",
       " 'Hip': '94.5',\n",
       " 'Thigh': '59',\n",
       " 'Knee': '37.3',\n",
       " 'Ankle': '21.9',\n",
       " 'Biceps': '32',\n",
       " 'Forearm': '27.4',\n",
       " 'Wrist': '17.1'}"
      ]
     },
     "execution_count": 4,
     "metadata": {},
     "output_type": "execute_result"
    }
   ],
   "source": [
    "list_[0]"
   ]
  },
  {
   "cell_type": "markdown",
   "id": "e5284844-985e-4b46-b684-bad32531076e",
   "metadata": {},
   "source": [
    "So we have a list of dictionaries, with each item corresponding to each row of data in the list."
   ]
  },
  {
   "cell_type": "code",
   "execution_count": 5,
   "id": "37ce8656-426c-4afd-a417-27df2cf6c1af",
   "metadata": {},
   "outputs": [
    {
     "data": {
      "text/plain": [
       "252"
      ]
     },
     "execution_count": 5,
     "metadata": {},
     "output_type": "execute_result"
    }
   ],
   "source": [
    "len(list_)"
   ]
  },
  {
   "cell_type": "markdown",
   "id": "9f96a3db-76ec-4b9a-85b0-659bf83814c6",
   "metadata": {},
   "source": [
    "Our list is 252 observations long, meaning we have 252 samples in our csv file. We can put it in a convenience variable and then look at a few."
   ]
  },
  {
   "cell_type": "code",
   "execution_count": 6,
   "id": "810a5dff-34a1-46f9-aaaf-15ea804c70f0",
   "metadata": {},
   "outputs": [
    {
     "name": "stdout",
     "output_type": "stream",
     "text": [
      "[{'Abdomen': '85.2',\n",
      "  'Age': '23',\n",
      "  'Ankle': '21.9',\n",
      "  'Biceps': '32',\n",
      "  'Chest': '93.1',\n",
      "  'Density': '1.0708',\n",
      "  'Forearm': '27.4',\n",
      "  'Height': '67.75',\n",
      "  'Hip': '94.5',\n",
      "  'Knee': '37.3',\n",
      "  'Neck': '36.2',\n",
      "  'Thigh': '59',\n",
      "  'Weight': '154.25',\n",
      "  'Wrist': '17.1',\n",
      "  'bodyfat': '12.3'},\n",
      " {'Abdomen': '83',\n",
      "  'Age': '22',\n",
      "  'Ankle': '23.4',\n",
      "  'Biceps': '30.5',\n",
      "  'Chest': '93.6',\n",
      "  'Density': '1.0853',\n",
      "  'Forearm': '28.9',\n",
      "  'Height': '72.25',\n",
      "  'Hip': '98.7',\n",
      "  'Knee': '37.3',\n",
      "  'Neck': '38.5',\n",
      "  'Thigh': '58.7',\n",
      "  'Weight': '173.25',\n",
      "  'Wrist': '18.2',\n",
      "  'bodyfat': '6.1'}]\n"
     ]
    }
   ],
   "source": [
    "pprint(list_[0:2], compact=True)"
   ]
  },
  {
   "cell_type": "markdown",
   "id": "c9d7ac48-68ca-4e94-b11e-9d84f433e40e",
   "metadata": {},
   "source": [
    "Here we can see a number of things:\n",
    "\n",
    "1. Each observation has a 15 variables.\n",
    "2. The format for every value is a 1 decimal place float, except for weight and height which have two decimal places, density which has 4, and age which is an integer."
   ]
  },
  {
   "cell_type": "markdown",
   "id": "d8ea92b5-689c-4fbb-adb5-047a9f9c4b7c",
   "metadata": {},
   "source": [
    "The layout of the table seems straightforward, however we should account for differences in measurements.  Earlier we noticed that some measurements were not in the same scale. For example, height is in inches but all the circumference measurements are in centimeters. Similarly, density is in gm/$cm^3$, but weight is in pounds. We should bare this in mind when we perform our EDA and modeling.\n",
    "\n",
    "Lastly, the dataset already provides the body fat as determined by Siri's equation. In this exercise, however, we will be using Brozek's equation to approximate body fat as it has been shown to be more accurate for [all age groups](https://www.researchgate.net/profile/Jorge-Mota-8/publication/47813165_Accuracy_of_Siri_and_Brozek_equations_in_the_percent_body_fat_estimation_in_older_adults/links/0046351557ebd6fe68000000/Accuracy-of-Siri-and-Brozek-equations-in-the-percent-body-fat-estimation-in-older-adults.pdf). Therefore, we will add another row in our dataset that presents body fat % calculated by Brozek's equation. \n",
    "\n",
    "Our resulting table:\n",
    "* BodyFat\n",
    "    * id (Integer, Primary Key)\n",
    "    * Density (Numeric)\n",
    "    * Body Fat Siri (Numeric)\n",
    "    * Body Fat Brozeks (Numeric)\n",
    "    * Age (Integer)\n",
    "    * Height (Numeric)\n",
    "    * Weight (Numeric)\n",
    "    * Neck (Numeric)\n",
    "    * Chest (Numeric)\n",
    "    * Abdomen (Numeric)\n",
    "    * Hip (Numeric)\n",
    "    * Thigh (Numeric)\n",
    "    * Knee (Numeric)\n",
    "    * Ankle (Numeric)\n",
    "    * Biceps (Numeric)\n",
    "    * Forearm (Numeric)\n",
    "    * Wrist (Numeric)"
   ]
  },
  {
   "cell_type": "markdown",
   "id": "338910dd-943b-4aa8-b0e1-ebb1e5981fb6",
   "metadata": {},
   "source": [
    "## Step 2.\n",
    "\n",
    "Put the data in the database."
   ]
  },
  {
   "cell_type": "code",
   "execution_count": 7,
   "id": "ccc381ac-2d01-4a80-8aac-3cc6acc5ff47",
   "metadata": {},
   "outputs": [],
   "source": [
    "!rm bodyfat.db"
   ]
  },
  {
   "cell_type": "code",
   "execution_count": 8,
   "id": "1d55d475-bdf3-4463-9710-f2406d75b69e",
   "metadata": {},
   "outputs": [],
   "source": [
    "!sqlite3 bodyfat.db < bodyfat.sql"
   ]
  },
  {
   "cell_type": "markdown",
   "id": "7a066e12-ee0e-4914-a067-6efcbb1873d4",
   "metadata": {},
   "source": [
    "Establish a connection with the database"
   ]
  },
  {
   "cell_type": "code",
   "execution_count": 9,
   "id": "df4fcdbb-625c-41e9-a003-784a77a07e78",
   "metadata": {},
   "outputs": [],
   "source": [
    "conn = sqlite3.connect('bodyfat.db')\n",
    "cur = conn.cursor()"
   ]
  },
  {
   "cell_type": "markdown",
   "id": "b77e495e-b16c-41c6-a9c1-9aff10764fc3",
   "metadata": {},
   "source": [
    "Next let's set up the helper function which will convert the density to body fat via Brozek's equation."
   ]
  },
  {
   "cell_type": "code",
   "execution_count": 10,
   "id": "f9341eb9-019e-4484-baf2-1d108108b3d3",
   "metadata": {},
   "outputs": [],
   "source": [
    "def brozeks(D):\n",
    "    \"\"\"\n",
    "    Converts body density to body fat percentage via Brozek's equation\n",
    "    \n",
    "    \"\"\"\n",
    "    \n",
    "    bodyfat =  ((4.570/float(D) - 4.142) * 100)\n",
    "    bodyfat = float(str(round(bodyfat, 1)))\n",
    "    return (bodyfat)"
   ]
  },
  {
   "cell_type": "markdown",
   "id": "d75b5b3b-8a08-419e-8ff4-bea458f5ce90",
   "metadata": {},
   "source": [
    "We will next upload our data into the datawarehouse."
   ]
  },
  {
   "cell_type": "code",
   "execution_count": 11,
   "id": "e0cd0529-5bf7-4a48-a876-f83f8ca1bda0",
   "metadata": {},
   "outputs": [],
   "source": [
    "for row in list_:\n",
    "    #find all the variables\n",
    "    density = row[\"Density\"]\n",
    "    bodyfat_siri = row[\"bodyfat\"]\n",
    "    bodyfat_brozek = brozeks(row[\"Density\"])\n",
    "    age = row[\"Age\"]\n",
    "    height = row[\"Height\"]\n",
    "    weight = row[\"Weight\"]\n",
    "    neck = row[\"Neck\"]\n",
    "    chest = row[\"Chest\"]\n",
    "    abdomen = row[\"Abdomen\"]\n",
    "    hip = row[\"Hip\"]\n",
    "    thigh = row[\"Thigh\"]\n",
    "    knee = row[\"Knee\"]\n",
    "    ankle = row[\"Ankle\"]\n",
    "    biceps = row[\"Biceps\"]\n",
    "    forearm = row[\"Forearm\"]\n",
    "    wrist = row[\"Wrist\"]\n",
    "        \n",
    "    #insert into table\n",
    "    sql = f\"\"\"INSERT INTO Body_Fat (BodyFat_siri, Density, Age, Height, \n",
    "        Weight, Neck, Chest, Abdomen, Hip, Thigh, BodyFat_brozek,\n",
    "        Knee, Ankle, Biceps, Forearm, Wrist)\n",
    "            VALUES ('{bodyfat_siri}', '{density}', '{age}', '{height}',\n",
    "            '{weight}', '{neck}', '{chest}', '{abdomen}', '{hip}',\n",
    "            '{thigh}', '{bodyfat_brozek}','{knee}', '{ankle}', '{biceps}',\n",
    "            '{forearm}','{wrist}');\n",
    "        \"\"\"\n",
    "    cur.execute(sql)\n",
    "conn.commit()"
   ]
  },
  {
   "cell_type": "markdown",
   "id": "a5426bac-acbe-492a-9fdf-80ecab5f97c1",
   "metadata": {},
   "source": [
    "Now let's check to see our information loaded. We should have 252 rows."
   ]
  },
  {
   "cell_type": "code",
   "execution_count": 12,
   "id": "943b8df9-b5b4-415a-a413-93b9c62163c4",
   "metadata": {},
   "outputs": [
    {
     "name": "stdout",
     "output_type": "stream",
     "text": [
      "Number of observations: 252\n"
     ]
    }
   ],
   "source": [
    "print(\"Number of observations:\", list(cur.execute(\"SELECT COUNT(*) FROM Body_Fat\"))[0][0])"
   ]
  },
  {
   "cell_type": "markdown",
   "id": "8fe23ad0-8b2b-419c-8541-e807e0d465a3",
   "metadata": {},
   "source": [
    "Great, we've loaded all 252 rows. Let's do a quick query to make sure everythin loaded correctly. "
   ]
  },
  {
   "cell_type": "code",
   "execution_count": 13,
   "id": "7befb498-f128-4b8b-9e04-422718647177",
   "metadata": {},
   "outputs": [
    {
     "data": {
      "text/html": [
       "<table>\n",
       "<thead>\n",
       "<tr><th style=\"text-align: right;\">  BodyFat</th></tr>\n",
       "</thead>\n",
       "<tbody>\n",
       "<tr><td style=\"text-align: right;\">     31.1</td></tr>\n",
       "<tr><td style=\"text-align: right;\">     38.2</td></tr>\n",
       "<tr><td style=\"text-align: right;\">     33.8</td></tr>\n",
       "<tr><td style=\"text-align: right;\">     31.3</td></tr>\n",
       "<tr><td style=\"text-align: right;\">     33.1</td></tr>\n",
       "<tr><td style=\"text-align: right;\">     31.7</td></tr>\n",
       "<tr><td style=\"text-align: right;\">     30.4</td></tr>\n",
       "<tr><td style=\"text-align: right;\">     30.8</td></tr>\n",
       "<tr><td style=\"text-align: right;\">     30.4</td></tr>\n",
       "<tr><td style=\"text-align: right;\">     31  </td></tr>\n",
       "<tr><td style=\"text-align: right;\">     30.2</td></tr>\n",
       "<tr><td style=\"text-align: right;\">     30.1</td></tr>\n",
       "<tr><td style=\"text-align: right;\">     34.7</td></tr>\n",
       "<tr><td style=\"text-align: right;\">     36.5</td></tr>\n",
       "<tr><td style=\"text-align: right;\">     33.4</td></tr>\n",
       "<tr><td style=\"text-align: right;\">     31.7</td></tr>\n",
       "<tr><td style=\"text-align: right;\">     31.5</td></tr>\n",
       "<tr><td style=\"text-align: right;\">     45.1</td></tr>\n",
       "<tr><td style=\"text-align: right;\">     33.5</td></tr>\n",
       "<tr><td style=\"text-align: right;\">     31.4</td></tr>\n",
       "<tr><td style=\"text-align: right;\">     32.3</td></tr>\n",
       "<tr><td style=\"text-align: right;\">     30.7</td></tr>\n",
       "</tbody>\n",
       "</table>"
      ],
      "text/plain": [
       "'<table>\\n<thead>\\n<tr><th style=\"text-align: right;\">  BodyFat</th></tr>\\n</thead>\\n<tbody>\\n<tr><td style=\"text-align: right;\">     31.1</td></tr>\\n<tr><td style=\"text-align: right;\">     38.2</td></tr>\\n<tr><td style=\"text-align: right;\">     33.8</td></tr>\\n<tr><td style=\"text-align: right;\">     31.3</td></tr>\\n<tr><td style=\"text-align: right;\">     33.1</td></tr>\\n<tr><td style=\"text-align: right;\">     31.7</td></tr>\\n<tr><td style=\"text-align: right;\">     30.4</td></tr>\\n<tr><td style=\"text-align: right;\">     30.8</td></tr>\\n<tr><td style=\"text-align: right;\">     30.4</td></tr>\\n<tr><td style=\"text-align: right;\">     31  </td></tr>\\n<tr><td style=\"text-align: right;\">     30.2</td></tr>\\n<tr><td style=\"text-align: right;\">     30.1</td></tr>\\n<tr><td style=\"text-align: right;\">     34.7</td></tr>\\n<tr><td style=\"text-align: right;\">     36.5</td></tr>\\n<tr><td style=\"text-align: right;\">     33.4</td></tr>\\n<tr><td style=\"text-align: right;\">     31.7</td></tr>\\n<tr><td style=\"text-align: right;\">     31.5</td></tr>\\n<tr><td style=\"text-align: right;\">     45.1</td></tr>\\n<tr><td style=\"text-align: right;\">     33.5</td></tr>\\n<tr><td style=\"text-align: right;\">     31.4</td></tr>\\n<tr><td style=\"text-align: right;\">     32.3</td></tr>\\n<tr><td style=\"text-align: right;\">     30.7</td></tr>\\n</tbody>\\n</table>'"
      ]
     },
     "execution_count": 13,
     "metadata": {},
     "output_type": "execute_result"
    }
   ],
   "source": [
    "query = \"\"\"\n",
    "SELECT BodyFat_brozek\n",
    "FROM Body_Fat\n",
    "WHERE BodyFat_brozek > 30\n",
    "\"\"\"\n",
    "result1 = list(cur.execute(query))\n",
    "tabulate(result1, headers=[\"BodyFat\"], tablefmt='html')"
   ]
  },
  {
   "cell_type": "markdown",
   "id": "1dcbb8aa-9be8-4b85-8f16-e5b492e1e184",
   "metadata": {},
   "source": [
    "Our datawarehouse is ready for EDA and modeling."
   ]
  },
  {
   "cell_type": "markdown",
   "id": "a485aa10-77c5-4adc-85fa-38cd2a4d29c4",
   "metadata": {},
   "source": [
    "### Source: ###\n",
    "\n",
    "The data were generously supplied by Dr. A. Garth Fisher who gave permission to freely distribute the data and use for non-commercial purposes.\n",
    "\n",
    "Roger W. Johnson\\\n",
    "Department of Mathematics & Computer Science\\\n",
    "South Dakota School of Mines & Technology\\\n",
    "501 East St. Joseph Street\\\n",
    "Rapid City, SD 57701\n",
    "\n",
    "email address: rwjohnso@silver.sdsmt.edu\\\n",
    "web address: http://silver.sdsmt.edu/~rwjohnso"
   ]
  }
 ],
 "metadata": {
  "kernelspec": {
   "display_name": "Python (en685648)",
   "language": "python",
   "name": "en685648"
  },
  "language_info": {
   "codemirror_mode": {
    "name": "ipython",
    "version": 3
   },
   "file_extension": ".py",
   "mimetype": "text/x-python",
   "name": "python",
   "nbconvert_exporter": "python",
   "pygments_lexer": "ipython3",
   "version": "3.8.12"
  }
 },
 "nbformat": 4,
 "nbformat_minor": 5
}
